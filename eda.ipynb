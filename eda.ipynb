{
 "cells": [
  {
   "cell_type": "code",
   "execution_count": 30,
   "metadata": {},
   "outputs": [],
   "source": [
    "import pandas as pd\n",
    "import numpy as np"
   ]
  },
  {
   "attachments": {},
   "cell_type": "markdown",
   "metadata": {},
   "source": [
    "# Data Source"
   ]
  },
  {
   "attachments": {},
   "cell_type": "markdown",
   "metadata": {},
   "source": [
    "O backloggd.com é um site onde jogadores podem avaliar, recomendar, listar  e acompanhar os jogos, sendo assim, existe uma base de dados contendo os jogadores e dos jogos. Esse dataset obtido atráves do Kaggle contém dados no intervalo de tempo de 1980 até 2023, nome, sinopse, avaliações e métricas sobre os jogos.\n",
    "\n",
    "Dicionário de Dados:\n",
    "| Variável      | Descrição |\n",
    "| ----------- | ----------- |\n",
    "| Title      | Nome do jogo       |\n",
    "| Release Date   | Data de lançamento        |\n",
    "| Team      | Empresas que desenvolveram o jogo       |\n",
    "| Rating      | Nota da avaliação do jogo       |\n",
    "| Time Listed      | Quantidade de vezes que um jogo foi adicionado em uma lista       |\n",
    "| Number of Reviews      | Quantidade de pessoas que avaliaram o jogo       |\n",
    "| Genres      | Genêros do jogo       |\n",
    "| Summary      | Sinopse do jogo      |\n",
    "| Reviews      | Crítica de especialistas       |\n",
    "| Play      | Quantidade de jogadores       |\n",
    "| Playing      | Quantidade de jogadores ativos       |\n",
    "| Backlogs      | Quantidade de jogadores que acompanham o jogo       |\n",
    "| Wishlist      | Quantidade de jogadores que querem o jogo       |"
   ]
  },
  {
   "cell_type": "code",
   "execution_count": 31,
   "metadata": {},
   "outputs": [
    {
     "data": {
      "text/html": [
       "<div>\n",
       "<style scoped>\n",
       "    .dataframe tbody tr th:only-of-type {\n",
       "        vertical-align: middle;\n",
       "    }\n",
       "\n",
       "    .dataframe tbody tr th {\n",
       "        vertical-align: top;\n",
       "    }\n",
       "\n",
       "    .dataframe thead th {\n",
       "        text-align: right;\n",
       "    }\n",
       "</style>\n",
       "<table border=\"1\" class=\"dataframe\">\n",
       "  <thead>\n",
       "    <tr style=\"text-align: right;\">\n",
       "      <th></th>\n",
       "      <th>Unnamed: 0</th>\n",
       "      <th>Title</th>\n",
       "      <th>Release Date</th>\n",
       "      <th>Team</th>\n",
       "      <th>Rating</th>\n",
       "      <th>Times Listed</th>\n",
       "      <th>Number of Reviews</th>\n",
       "      <th>Genres</th>\n",
       "      <th>Summary</th>\n",
       "      <th>Reviews</th>\n",
       "      <th>Plays</th>\n",
       "      <th>Playing</th>\n",
       "      <th>Backlogs</th>\n",
       "      <th>Wishlist</th>\n",
       "    </tr>\n",
       "  </thead>\n",
       "  <tbody>\n",
       "    <tr>\n",
       "      <th>0</th>\n",
       "      <td>0</td>\n",
       "      <td>Elden Ring</td>\n",
       "      <td>Feb 25, 2022</td>\n",
       "      <td>['Bandai Namco Entertainment', 'FromSoftware']</td>\n",
       "      <td>4.5</td>\n",
       "      <td>3.9K</td>\n",
       "      <td>3.9K</td>\n",
       "      <td>['Adventure', 'RPG']</td>\n",
       "      <td>Elden Ring is a fantasy, action and open world...</td>\n",
       "      <td>[\"The first playthrough of elden ring is one o...</td>\n",
       "      <td>17K</td>\n",
       "      <td>3.8K</td>\n",
       "      <td>4.6K</td>\n",
       "      <td>4.8K</td>\n",
       "    </tr>\n",
       "  </tbody>\n",
       "</table>\n",
       "</div>"
      ],
      "text/plain": [
       "   Unnamed: 0       Title  Release Date  \\\n",
       "0           0  Elden Ring  Feb 25, 2022   \n",
       "\n",
       "                                             Team  Rating Times Listed  \\\n",
       "0  ['Bandai Namco Entertainment', 'FromSoftware']     4.5         3.9K   \n",
       "\n",
       "  Number of Reviews                Genres  \\\n",
       "0              3.9K  ['Adventure', 'RPG']   \n",
       "\n",
       "                                             Summary  \\\n",
       "0  Elden Ring is a fantasy, action and open world...   \n",
       "\n",
       "                                             Reviews Plays Playing Backlogs  \\\n",
       "0  [\"The first playthrough of elden ring is one o...   17K    3.8K     4.6K   \n",
       "\n",
       "  Wishlist  \n",
       "0     4.8K  "
      ]
     },
     "execution_count": 31,
     "metadata": {},
     "output_type": "execute_result"
    }
   ],
   "source": [
    "df = pd.read_csv('games.csv')\n",
    "df.head(1)"
   ]
  },
  {
   "attachments": {},
   "cell_type": "markdown",
   "metadata": {},
   "source": [
    "# Data Preparation"
   ]
  },
  {
   "attachments": {},
   "cell_type": "markdown",
   "metadata": {},
   "source": [
    "### Inspecting the data"
   ]
  },
  {
   "cell_type": "code",
   "execution_count": 32,
   "metadata": {},
   "outputs": [
    {
     "data": {
      "text/html": [
       "<div>\n",
       "<style scoped>\n",
       "    .dataframe tbody tr th:only-of-type {\n",
       "        vertical-align: middle;\n",
       "    }\n",
       "\n",
       "    .dataframe tbody tr th {\n",
       "        vertical-align: top;\n",
       "    }\n",
       "\n",
       "    .dataframe thead th {\n",
       "        text-align: right;\n",
       "    }\n",
       "</style>\n",
       "<table border=\"1\" class=\"dataframe\">\n",
       "  <thead>\n",
       "    <tr style=\"text-align: right;\">\n",
       "      <th></th>\n",
       "      <th>Unnamed: 0</th>\n",
       "      <th>Title</th>\n",
       "      <th>Release Date</th>\n",
       "      <th>Team</th>\n",
       "      <th>Rating</th>\n",
       "      <th>Times Listed</th>\n",
       "      <th>Number of Reviews</th>\n",
       "      <th>Genres</th>\n",
       "      <th>Summary</th>\n",
       "      <th>Reviews</th>\n",
       "      <th>Plays</th>\n",
       "      <th>Playing</th>\n",
       "      <th>Backlogs</th>\n",
       "      <th>Wishlist</th>\n",
       "    </tr>\n",
       "  </thead>\n",
       "  <tbody>\n",
       "    <tr>\n",
       "      <th>251</th>\n",
       "      <td>251</td>\n",
       "      <td>Tekken 7</td>\n",
       "      <td>Feb 18, 2015</td>\n",
       "      <td>['Bandai Namco Entertainment', 'Bandai Namco S...</td>\n",
       "      <td>3.8</td>\n",
       "      <td>663</td>\n",
       "      <td>663</td>\n",
       "      <td>['Fighting']</td>\n",
       "      <td>Experience the epic conclusion of the Mishima ...</td>\n",
       "      <td>['A kazuya mishima bodypillow is the smartest ...</td>\n",
       "      <td>6.6K</td>\n",
       "      <td>247</td>\n",
       "      <td>670</td>\n",
       "      <td>354</td>\n",
       "    </tr>\n",
       "    <tr>\n",
       "      <th>477</th>\n",
       "      <td>477</td>\n",
       "      <td>Subnautica</td>\n",
       "      <td>Jan 23, 2018</td>\n",
       "      <td>['Gearbox Publishing', 'Unknown Worlds Enterta...</td>\n",
       "      <td>3.8</td>\n",
       "      <td>712</td>\n",
       "      <td>712</td>\n",
       "      <td>['Adventure', 'Indie']</td>\n",
       "      <td>Descend into the depths of an alien underwater...</td>\n",
       "      <td>['The kind of game I thought i would love on p...</td>\n",
       "      <td>7.2K</td>\n",
       "      <td>335</td>\n",
       "      <td>2.9K</td>\n",
       "      <td>944</td>\n",
       "    </tr>\n",
       "  </tbody>\n",
       "</table>\n",
       "</div>"
      ],
      "text/plain": [
       "     Unnamed: 0       Title  Release Date  \\\n",
       "251         251    Tekken 7  Feb 18, 2015   \n",
       "477         477  Subnautica  Jan 23, 2018   \n",
       "\n",
       "                                                  Team  Rating Times Listed  \\\n",
       "251  ['Bandai Namco Entertainment', 'Bandai Namco S...     3.8          663   \n",
       "477  ['Gearbox Publishing', 'Unknown Worlds Enterta...     3.8          712   \n",
       "\n",
       "    Number of Reviews                  Genres  \\\n",
       "251               663            ['Fighting']   \n",
       "477               712  ['Adventure', 'Indie']   \n",
       "\n",
       "                                               Summary  \\\n",
       "251  Experience the epic conclusion of the Mishima ...   \n",
       "477  Descend into the depths of an alien underwater...   \n",
       "\n",
       "                                               Reviews Plays Playing Backlogs  \\\n",
       "251  ['A kazuya mishima bodypillow is the smartest ...  6.6K     247      670   \n",
       "477  ['The kind of game I thought i would love on p...  7.2K     335     2.9K   \n",
       "\n",
       "    Wishlist  \n",
       "251      354  \n",
       "477      944  "
      ]
     },
     "execution_count": 32,
     "metadata": {},
     "output_type": "execute_result"
    }
   ],
   "source": [
    "df.sample(2)"
   ]
  },
  {
   "cell_type": "code",
   "execution_count": 33,
   "metadata": {},
   "outputs": [
    {
     "name": "stdout",
     "output_type": "stream",
     "text": [
      "<class 'pandas.core.frame.DataFrame'>\n",
      "RangeIndex: 1512 entries, 0 to 1511\n",
      "Data columns (total 14 columns):\n",
      " #   Column             Non-Null Count  Dtype  \n",
      "---  ------             --------------  -----  \n",
      " 0   Unnamed: 0         1512 non-null   int64  \n",
      " 1   Title              1512 non-null   object \n",
      " 2   Release Date       1512 non-null   object \n",
      " 3   Team               1511 non-null   object \n",
      " 4   Rating             1499 non-null   float64\n",
      " 5   Times Listed       1512 non-null   object \n",
      " 6   Number of Reviews  1512 non-null   object \n",
      " 7   Genres             1512 non-null   object \n",
      " 8   Summary            1511 non-null   object \n",
      " 9   Reviews            1512 non-null   object \n",
      " 10  Plays              1512 non-null   object \n",
      " 11  Playing            1512 non-null   object \n",
      " 12  Backlogs           1512 non-null   object \n",
      " 13  Wishlist           1512 non-null   object \n",
      "dtypes: float64(1), int64(1), object(12)\n",
      "memory usage: 165.5+ KB\n"
     ]
    }
   ],
   "source": [
    "df.info()"
   ]
  },
  {
   "cell_type": "code",
   "execution_count": 34,
   "metadata": {},
   "outputs": [
    {
     "name": "stdout",
     "output_type": "stream",
     "text": [
      "There are 0 duplicate values in the dataset\n"
     ]
    }
   ],
   "source": [
    "dup_count = df.duplicated().sum()\n",
    "\n",
    "print(f\"There are {dup_count} duplicate values in the dataset\")\n",
    "del(dup_count)"
   ]
  },
  {
   "cell_type": "code",
   "execution_count": 35,
   "metadata": {},
   "outputs": [
    {
     "name": "stdout",
     "output_type": "stream",
     "text": [
      "Team        1\n",
      "Rating     13\n",
      "Summary     1\n",
      "dtype: int64\n"
     ]
    }
   ],
   "source": [
    "null_count = df.isnull().sum()\n",
    "\n",
    "print(null_count[null_count != 0])\n",
    "del(null_count)"
   ]
  },
  {
   "attachments": {},
   "cell_type": "markdown",
   "metadata": {},
   "source": [
    "Com a inspeção de dados foi possivel perceber as seguintes informações:\n",
    "- As tabelas que não serão interessantes para a análise:\n",
    "    - 'Unnamed: 0'\n",
    "    - 'Reviews'\n",
    "    - 'Summary'\n",
    "    - 'Time Listed'\n",
    "    - 'Backlogs'\n",
    "- Não existem dados duplicados\n",
    "- Existem dados faltantes\n",
    "    - Team: 1\n",
    "    - Rating: 13\n",
    "    - Summary: 1"
   ]
  },
  {
   "attachments": {},
   "cell_type": "markdown",
   "metadata": {},
   "source": [
    "### Data Cleaning and Preprocessing "
   ]
  },
  {
   "cell_type": "code",
   "execution_count": 36,
   "metadata": {},
   "outputs": [],
   "source": [
    "df = df.drop(['Unnamed: 0', 'Reviews', 'Summary', 'Times Listed', 'Backlogs'], axis=1)"
   ]
  },
  {
   "cell_type": "code",
   "execution_count": 37,
   "metadata": {},
   "outputs": [],
   "source": [
    "df = df[df['Release Date'] != 'releases on TBD']"
   ]
  },
  {
   "cell_type": "code",
   "execution_count": 38,
   "metadata": {},
   "outputs": [],
   "source": [
    "df[\"Release Date\"] = pd.to_datetime(df[\"Release Date\"])\n",
    "df = df[df['Release Date'] < '03-31-2023']"
   ]
  },
  {
   "cell_type": "code",
   "execution_count": 39,
   "metadata": {},
   "outputs": [],
   "source": [
    "for col in ['Genres', 'Team']:\n",
    "    df[col] = df[col].str.replace(\"[\", \"\").str.replace(\"]\", \"\").str.replace(\"'\", \"\").str.replace(\" \", \"\")"
   ]
  },
  {
   "cell_type": "code",
   "execution_count": 40,
   "metadata": {},
   "outputs": [],
   "source": [
    "#substituir nome da coluna 'Number of Reviews' para 'Reviews'\n",
    "df = df.rename(columns={'Number of Reviews': 'Reviews'})"
   ]
  },
  {
   "cell_type": "code",
   "execution_count": 41,
   "metadata": {},
   "outputs": [
    {
     "data": {
      "text/html": [
       "<div>\n",
       "<style scoped>\n",
       "    .dataframe tbody tr th:only-of-type {\n",
       "        vertical-align: middle;\n",
       "    }\n",
       "\n",
       "    .dataframe tbody tr th {\n",
       "        vertical-align: top;\n",
       "    }\n",
       "\n",
       "    .dataframe thead th {\n",
       "        text-align: right;\n",
       "    }\n",
       "</style>\n",
       "<table border=\"1\" class=\"dataframe\">\n",
       "  <thead>\n",
       "    <tr style=\"text-align: right;\">\n",
       "      <th></th>\n",
       "      <th>Reviews</th>\n",
       "      <th>Plays</th>\n",
       "      <th>Playing</th>\n",
       "      <th>Wishlist</th>\n",
       "    </tr>\n",
       "  </thead>\n",
       "  <tbody>\n",
       "    <tr>\n",
       "      <th>0</th>\n",
       "      <td>3900</td>\n",
       "      <td>17000</td>\n",
       "      <td>3800</td>\n",
       "      <td>4800</td>\n",
       "    </tr>\n",
       "    <tr>\n",
       "      <th>1</th>\n",
       "      <td>2900</td>\n",
       "      <td>21000</td>\n",
       "      <td>3200</td>\n",
       "      <td>3600</td>\n",
       "    </tr>\n",
       "    <tr>\n",
       "      <th>2</th>\n",
       "      <td>4300</td>\n",
       "      <td>30000</td>\n",
       "      <td>2500</td>\n",
       "      <td>2600</td>\n",
       "    </tr>\n",
       "    <tr>\n",
       "      <th>3</th>\n",
       "      <td>3500</td>\n",
       "      <td>28000</td>\n",
       "      <td>679</td>\n",
       "      <td>1800</td>\n",
       "    </tr>\n",
       "    <tr>\n",
       "      <th>4</th>\n",
       "      <td>3000</td>\n",
       "      <td>21000</td>\n",
       "      <td>2400</td>\n",
       "      <td>2300</td>\n",
       "    </tr>\n",
       "  </tbody>\n",
       "</table>\n",
       "</div>"
      ],
      "text/plain": [
       "   Reviews  Plays  Playing  Wishlist\n",
       "0     3900  17000     3800      4800\n",
       "1     2900  21000     3200      3600\n",
       "2     4300  30000     2500      2600\n",
       "3     3500  28000      679      1800\n",
       "4     3000  21000     2400      2300"
      ]
     },
     "execution_count": 41,
     "metadata": {},
     "output_type": "execute_result"
    }
   ],
   "source": [
    "numeric_columns = ['Reviews', 'Plays', 'Playing', 'Wishlist']\n",
    "\n",
    "for col in numeric_columns:\n",
    "    df[col] = df[col].str.replace(\"K\", \"000\")\n",
    "    # transformar em float e multiplicar por 1000 apenas onde contém '.'\n",
    "    df[col] = df[col].apply(lambda x: float(x)*1000 if '.' in x else x)\n",
    "    df[col] = df[col].astype(int)\n",
    "\n",
    "df[numeric_columns].head()"
   ]
  },
  {
   "cell_type": "code",
   "execution_count": 42,
   "metadata": {},
   "outputs": [
    {
     "name": "stdout",
     "output_type": "stream",
     "text": [
      "<class 'pandas.core.frame.DataFrame'>\n",
      "Index: 1499 entries, 0 to 1511\n",
      "Data columns (total 9 columns):\n",
      " #   Column        Non-Null Count  Dtype         \n",
      "---  ------        --------------  -----         \n",
      " 0   Title         1499 non-null   object        \n",
      " 1   Release Date  1499 non-null   datetime64[ns]\n",
      " 2   Team          1498 non-null   object        \n",
      " 3   Rating        1497 non-null   float64       \n",
      " 4   Reviews       1499 non-null   int32         \n",
      " 5   Genres        1499 non-null   object        \n",
      " 6   Plays         1499 non-null   int32         \n",
      " 7   Playing       1499 non-null   int32         \n",
      " 8   Wishlist      1499 non-null   int32         \n",
      "dtypes: datetime64[ns](1), float64(1), int32(4), object(3)\n",
      "memory usage: 93.7+ KB\n"
     ]
    }
   ],
   "source": [
    "df.info()"
   ]
  },
  {
   "attachments": {},
   "cell_type": "markdown",
   "metadata": {},
   "source": [
    "# Exploratory Data Analysis (EDA)"
   ]
  },
  {
   "cell_type": "code",
   "execution_count": 43,
   "metadata": {},
   "outputs": [],
   "source": [
    "import plotly.graph_objects as go\n",
    "import plotly.express as px\n",
    "from plotly.subplots import make_subplots"
   ]
  },
  {
   "attachments": {},
   "cell_type": "markdown",
   "metadata": {},
   "source": [
    "### Boxsplot"
   ]
  },
  {
   "cell_type": "code",
   "execution_count": 44,
   "metadata": {},
   "outputs": [
    {
     "data": {
      "text/html": [
       "<div>\n",
       "<style scoped>\n",
       "    .dataframe tbody tr th:only-of-type {\n",
       "        vertical-align: middle;\n",
       "    }\n",
       "\n",
       "    .dataframe tbody tr th {\n",
       "        vertical-align: top;\n",
       "    }\n",
       "\n",
       "    .dataframe thead th {\n",
       "        text-align: right;\n",
       "    }\n",
       "</style>\n",
       "<table border=\"1\" class=\"dataframe\">\n",
       "  <thead>\n",
       "    <tr style=\"text-align: right;\">\n",
       "      <th></th>\n",
       "      <th>Reviews</th>\n",
       "      <th>Plays</th>\n",
       "      <th>Playing</th>\n",
       "      <th>Wishlist</th>\n",
       "    </tr>\n",
       "  </thead>\n",
       "  <tbody>\n",
       "    <tr>\n",
       "      <th>count</th>\n",
       "      <td>1499.000000</td>\n",
       "      <td>1499.000000</td>\n",
       "      <td>1499.000000</td>\n",
       "      <td>1499.000000</td>\n",
       "    </tr>\n",
       "    <tr>\n",
       "      <th>mean</th>\n",
       "      <td>774.434290</td>\n",
       "      <td>6306.827885</td>\n",
       "      <td>269.621081</td>\n",
       "      <td>777.190794</td>\n",
       "    </tr>\n",
       "    <tr>\n",
       "      <th>std</th>\n",
       "      <td>688.581148</td>\n",
       "      <td>5892.478384</td>\n",
       "      <td>427.611873</td>\n",
       "      <td>794.114757</td>\n",
       "    </tr>\n",
       "    <tr>\n",
       "      <th>min</th>\n",
       "      <td>0.000000</td>\n",
       "      <td>1.000000</td>\n",
       "      <td>0.000000</td>\n",
       "      <td>2.000000</td>\n",
       "    </tr>\n",
       "    <tr>\n",
       "      <th>25%</th>\n",
       "      <td>293.000000</td>\n",
       "      <td>1900.000000</td>\n",
       "      <td>44.000000</td>\n",
       "      <td>212.000000</td>\n",
       "    </tr>\n",
       "    <tr>\n",
       "      <th>50%</th>\n",
       "      <td>555.000000</td>\n",
       "      <td>4300.000000</td>\n",
       "      <td>115.000000</td>\n",
       "      <td>496.000000</td>\n",
       "    </tr>\n",
       "    <tr>\n",
       "      <th>75%</th>\n",
       "      <td>1000.000000</td>\n",
       "      <td>9100.000000</td>\n",
       "      <td>302.000000</td>\n",
       "      <td>1100.000000</td>\n",
       "    </tr>\n",
       "    <tr>\n",
       "      <th>max</th>\n",
       "      <td>4300.000000</td>\n",
       "      <td>33000.000000</td>\n",
       "      <td>3800.000000</td>\n",
       "      <td>4800.000000</td>\n",
       "    </tr>\n",
       "  </tbody>\n",
       "</table>\n",
       "</div>"
      ],
      "text/plain": [
       "           Reviews         Plays      Playing     Wishlist\n",
       "count  1499.000000   1499.000000  1499.000000  1499.000000\n",
       "mean    774.434290   6306.827885   269.621081   777.190794\n",
       "std     688.581148   5892.478384   427.611873   794.114757\n",
       "min       0.000000      1.000000     0.000000     2.000000\n",
       "25%     293.000000   1900.000000    44.000000   212.000000\n",
       "50%     555.000000   4300.000000   115.000000   496.000000\n",
       "75%    1000.000000   9100.000000   302.000000  1100.000000\n",
       "max    4300.000000  33000.000000  3800.000000  4800.000000"
      ]
     },
     "execution_count": 44,
     "metadata": {},
     "output_type": "execute_result"
    }
   ],
   "source": [
    "df[numeric_columns].describe()"
   ]
  },
  {
   "cell_type": "code",
   "execution_count": 45,
   "metadata": {},
   "outputs": [
    {
     "data": {
      "application/vnd.plotly.v1+json": {
       "config": {
        "plotlyServerURL": "https://plot.ly"
       },
       "data": [
        {
         "boxmean": true,
         "jitter": 0.3,
         "name": "Reviews",
         "type": "box",
         "xaxis": "x",
         "y": [
          3900,
          2900,
          4300,
          3500,
          3000,
          2300,
          1600,
          2100,
          867,
          2900,
          2700,
          1500,
          2900,
          2900,
          3400,
          2800,
          2700,
          2900,
          2000,
          2900,
          1600,
          926,
          2100,
          2100,
          1500,
          1700,
          1400,
          1600,
          1100,
          2500,
          2400,
          1500,
          2600,
          2500,
          1900,
          2300,
          2900,
          1900,
          653,
          820,
          1800,
          2700,
          2000,
          1800,
          2500,
          1800,
          1100,
          1700,
          1700,
          2500,
          2200,
          2000,
          1800,
          1900,
          1700,
          868,
          1900,
          491,
          2300,
          2000,
          974,
          1000,
          891,
          2100,
          2200,
          737,
          1900,
          1800,
          2100,
          1600,
          1600,
          1400,
          1900,
          1900,
          2200,
          1500,
          2200,
          1400,
          2000,
          1300,
          1800,
          1500,
          957,
          1700,
          1700,
          1500,
          1200,
          1400,
          1200,
          1500,
          593,
          753,
          1400,
          363,
          1200,
          372,
          972,
          1400,
          1700,
          1600,
          480,
          1400,
          1300,
          1100,
          1000,
          589,
          1300,
          1200,
          1100,
          484,
          1300,
          783,
          1600,
          1200,
          1300,
          955,
          1400,
          840,
          124,
          1100,
          1400,
          988,
          897,
          1500,
          880,
          633,
          1600,
          1100,
          1500,
          1500,
          1300,
          1300,
          1400,
          555,
          1100,
          1100,
          917,
          1200,
          690,
          1100,
          810,
          775,
          474,
          1000,
          1300,
          751,
          1500,
          650,
          591,
          501,
          896,
          1800,
          1300,
          1400,
          789,
          1200,
          725,
          1300,
          596,
          1200,
          991,
          1100,
          830,
          981,
          1000,
          1100,
          993,
          965,
          1400,
          607,
          1200,
          1100,
          1200,
          1500,
          972,
          1600,
          1600,
          1300,
          1600,
          940,
          802,
          983,
          592,
          835,
          719,
          780,
          880,
          852,
          1100,
          801,
          890,
          920,
          906,
          1000,
          767,
          1200,
          455,
          830,
          880,
          1300,
          936,
          1300,
          589,
          650,
          604,
          1200,
          914,
          903,
          639,
          1200,
          712,
          725,
          859,
          492,
          755,
          478,
          794,
          899,
          687,
          337,
          632,
          544,
          761,
          926,
          815,
          647,
          643,
          461,
          888,
          909,
          395,
          605,
          581,
          419,
          837,
          654,
          688,
          291,
          1100,
          941,
          995,
          770,
          786,
          460,
          1200,
          814,
          547,
          702,
          433,
          684,
          718,
          663,
          324,
          704,
          487,
          334,
          815,
          118,
          458,
          558,
          650,
          671,
          545,
          475,
          688,
          614,
          674,
          524,
          857,
          516,
          668,
          839,
          608,
          743,
          466,
          939,
          584,
          527,
          674,
          566,
          776,
          216,
          484,
          462,
          648,
          522,
          837,
          486,
          554,
          777,
          337,
          439,
          558,
          587,
          203,
          187,
          642,
          266,
          360,
          545,
          519,
          832,
          568,
          432,
          712,
          503,
          525,
          217,
          689,
          609,
          522,
          609,
          648,
          756,
          431,
          435,
          399,
          433,
          167,
          513,
          569,
          541,
          241,
          725,
          363,
          194,
          3900,
          2900,
          4300,
          3500,
          3000,
          2300,
          1600,
          2100,
          867,
          2900,
          2700,
          1500,
          2900,
          2900,
          3400,
          2800,
          2700,
          2900,
          2000,
          2900,
          1600,
          926,
          2100,
          2100,
          1500,
          1700,
          1400,
          1600,
          1100,
          2500,
          2400,
          1500,
          2600,
          2500,
          1900,
          2300,
          2900,
          1900,
          653,
          820,
          1800,
          2700,
          2000,
          1800,
          2500,
          1800,
          1100,
          1700,
          1700,
          2500,
          2200,
          2000,
          1800,
          1900,
          1700,
          868,
          1900,
          491,
          2300,
          2000,
          974,
          1000,
          891,
          2100,
          2200,
          836,
          1600,
          1200,
          1300,
          955,
          1400,
          840,
          124,
          1100,
          1400,
          988,
          897,
          1500,
          880,
          1200,
          1000,
          1800,
          1700,
          1300,
          1300,
          1100,
          1200,
          1400,
          633,
          1600,
          1100,
          1500,
          1500,
          1300,
          1300,
          1400,
          555,
          1100,
          1100,
          917,
          1200,
          690,
          1100,
          810,
          775,
          474,
          1000,
          1300,
          751,
          1500,
          650,
          591,
          501,
          896,
          1800,
          1300,
          1400,
          789,
          1200,
          725,
          1300,
          596,
          1200,
          991,
          1100,
          830,
          780,
          880,
          852,
          1100,
          801,
          890,
          920,
          906,
          1000,
          767,
          1200,
          455,
          830,
          880,
          1300,
          936,
          1300,
          589,
          650,
          604,
          1200,
          914,
          903,
          639,
          1200,
          712,
          725,
          859,
          492,
          755,
          478,
          794,
          899,
          687,
          337,
          632,
          544,
          761,
          926,
          815,
          647,
          643,
          461,
          888,
          909,
          395,
          605,
          581,
          419,
          837,
          654,
          688,
          291,
          1100,
          941,
          995,
          770,
          786,
          460,
          1200,
          839,
          1100,
          229,
          764,
          492,
          800,
          576,
          593,
          487,
          411,
          517,
          635,
          725,
          253,
          386,
          1000,
          772,
          784,
          629,
          322,
          814,
          547,
          702,
          433,
          684,
          718,
          663,
          324,
          704,
          487,
          334,
          815,
          118,
          458,
          558,
          650,
          671,
          545,
          475,
          688,
          614,
          674,
          524,
          857,
          516,
          668,
          839,
          608,
          743,
          466,
          939,
          584,
          527,
          674,
          566,
          776,
          216,
          484,
          462,
          648,
          356,
          716,
          758,
          849,
          354,
          564,
          420,
          743,
          559,
          211,
          553,
          470,
          487,
          549,
          260,
          600,
          170,
          364,
          427,
          368,
          430,
          657,
          417,
          445,
          345,
          521,
          763,
          237,
          559,
          552,
          521,
          459,
          238,
          581,
          540,
          581,
          535,
          241,
          315,
          270,
          490,
          98,
          290,
          432,
          555,
          275,
          572,
          480,
          562,
          445,
          498,
          325,
          503,
          525,
          217,
          689,
          609,
          522,
          609,
          248,
          24,
          107,
          498,
          84,
          350,
          387,
          489,
          343,
          365,
          522,
          506,
          564,
          298,
          327,
          53,
          412,
          317,
          227,
          369,
          323,
          494,
          503,
          151,
          363,
          39,
          484,
          167,
          309,
          230,
          116,
          197,
          382,
          81,
          377,
          386,
          139,
          483,
          431,
          446,
          132,
          446,
          353,
          269,
          433,
          405,
          395,
          284,
          85,
          512,
          103,
          355,
          249,
          279,
          121,
          138,
          530,
          269,
          525,
          426,
          459,
          180,
          318,
          380,
          328,
          19,
          336,
          474,
          447,
          429,
          173,
          414,
          103,
          328,
          421,
          443,
          512,
          134,
          412,
          447,
          224,
          182,
          38,
          302,
          532,
          448,
          376,
          442,
          185,
          468,
          298,
          106,
          225,
          495,
          210,
          221,
          39,
          192,
          238,
          307,
          250,
          148,
          138,
          379,
          79,
          409,
          188,
          104,
          85,
          26,
          414,
          378,
          123,
          373,
          329,
          280,
          388,
          199,
          84,
          68,
          402,
          224,
          172,
          362,
          325,
          348,
          178,
          533,
          296,
          341,
          482,
          81,
          398,
          369,
          401,
          207,
          115,
          242,
          3900,
          2900,
          4300,
          3500,
          3000,
          2300,
          1600,
          2100,
          867,
          2900,
          2700,
          1500,
          2900,
          2900,
          3400,
          2800,
          2700,
          2900,
          2000,
          2900,
          1600,
          926,
          2100,
          2100,
          1500,
          1700,
          1400,
          1600,
          1100,
          2500,
          2400,
          1500,
          2600,
          2500,
          1900,
          2300,
          2900,
          1900,
          653,
          820,
          1800,
          2700,
          2000,
          1800,
          2500,
          1800,
          1100,
          1700,
          1700,
          2500,
          2200,
          2000,
          1800,
          1900,
          1700,
          868,
          1900,
          491,
          2300,
          2000,
          974,
          1000,
          891,
          2100,
          2200,
          836,
          827,
          874,
          1300,
          1800,
          1900,
          1600,
          1600,
          1500,
          737,
          1900,
          1300,
          1200,
          1100,
          484,
          1300,
          783,
          1600,
          1200,
          1300,
          955,
          1400,
          840,
          124,
          1100,
          1400,
          988,
          897,
          1500,
          880,
          1200,
          1000,
          1800,
          1700,
          1300,
          1300,
          1100,
          1200,
          1400,
          633,
          1600,
          1100,
          1500,
          1500,
          1300,
          1300,
          1400,
          555,
          1100,
          1100,
          917,
          1200,
          690,
          1100,
          810,
          775,
          474,
          1000,
          1300,
          751,
          1500,
          650,
          591,
          501,
          896,
          1800,
          1300,
          1400,
          789,
          1200,
          725,
          788,
          1100,
          1100,
          1100,
          738,
          852,
          1200,
          899,
          409,
          1400,
          1200,
          1200,
          363,
          571,
          1000,
          1000,
          898,
          348,
          1200,
          398,
          1200,
          1000,
          1000,
          1100,
          894,
          882,
          949,
          790,
          1000,
          911,
          1100,
          1000,
          1200,
          857,
          624,
          620,
          1000,
          526,
          1200,
          825,
          921,
          1400,
          856,
          503,
          1300,
          426,
          1100,
          400,
          1100,
          949,
          1200,
          1000,
          1200,
          1000,
          1100,
          780,
          880,
          852,
          1100,
          801,
          707,
          845,
          344,
          761,
          660,
          887,
          582,
          797,
          266,
          837,
          775,
          864,
          812,
          860,
          191,
          509,
          728,
          665,
          641,
          1100,
          511,
          695,
          788,
          387,
          655,
          347,
          699,
          711,
          451,
          714,
          642,
          736,
          892,
          491,
          982,
          725,
          641,
          335,
          702,
          620,
          643,
          530,
          603,
          671,
          457,
          651,
          813,
          284,
          445,
          842,
          507,
          691,
          839,
          1100,
          229,
          764,
          492,
          800,
          576,
          203,
          187,
          642,
          266,
          360,
          545,
          519,
          832,
          568,
          432,
          712,
          643,
          828,
          471,
          642,
          742,
          482,
          550,
          734,
          416,
          458,
          295,
          285,
          459,
          613,
          504,
          513,
          206,
          599,
          488,
          482,
          476,
          187,
          658,
          503,
          469,
          628,
          517,
          639,
          304,
          543,
          401,
          610,
          424,
          262,
          629,
          808,
          547,
          197,
          605,
          593,
          451,
          669,
          513,
          230,
          594,
          534,
          688,
          386,
          625,
          650,
          548,
          627,
          511,
          525,
          610,
          523,
          148,
          516,
          606,
          293,
          351,
          173,
          386,
          532,
          554,
          703,
          428,
          439,
          620,
          439,
          338,
          493,
          172,
          620,
          416,
          509,
          295,
          396,
          509,
          251,
          385,
          536,
          295,
          377,
          169,
          330,
          375,
          358,
          422,
          426,
          122,
          197,
          253,
          284,
          515,
          99,
          468,
          688,
          411,
          465,
          137,
          592,
          414,
          421,
          525,
          256,
          425,
          130,
          238,
          48,
          379,
          549,
          417,
          329,
          272,
          443,
          264,
          599,
          438,
          70,
          276,
          346,
          229,
          161,
          114,
          362,
          311,
          468,
          262,
          436,
          445,
          496,
          133,
          455,
          432,
          504,
          430,
          544,
          103,
          318,
          399,
          469,
          399,
          392,
          124,
          423,
          405,
          530,
          265,
          501,
          141,
          415,
          499,
          293,
          389,
          281,
          299,
          197,
          394,
          295,
          413,
          497,
          317,
          49,
          433,
          469,
          433,
          395,
          47,
          288,
          345,
          294,
          320,
          257,
          361,
          281,
          363,
          326,
          349,
          371,
          48,
          236,
          395,
          357,
          531,
          373,
          97,
          159,
          304,
          500,
          212,
          300,
          56,
          413,
          249,
          77,
          361,
          232,
          96,
          21,
          321,
          281,
          384,
          16,
          340,
          279,
          329,
          280,
          388,
          199,
          84,
          68,
          402,
          224,
          172,
          362,
          325,
          348,
          178,
          533,
          296,
          341,
          482,
          81,
          398,
          269,
          344,
          203,
          310,
          58,
          116,
          362,
          331,
          354,
          386,
          19,
          149,
          192,
          334,
          21,
          130,
          405,
          124,
          178,
          275,
          267,
          200,
          317,
          382,
          200,
          209,
          225,
          220,
          342,
          242,
          137,
          255,
          364,
          311,
          242,
          274,
          92,
          73,
          258,
          147,
          51,
          233,
          266,
          217,
          156,
          273,
          264,
          198,
          248,
          238,
          329,
          319,
          233,
          237,
          319,
          189,
          229,
          260,
          54,
          80,
          239,
          180,
          151,
          262,
          204,
          248,
          208,
          349,
          0,
          168,
          179,
          152,
          66,
          228,
          159,
          181,
          2,
          232,
          83,
          315,
          231,
          219,
          185,
          88,
          141,
          201,
          276,
          278,
          160,
          269,
          253,
          233,
          408,
          308,
          123,
          193,
          169,
          96,
          226,
          195,
          247,
          139,
          245,
          137,
          140,
          283,
          231,
          161,
          159,
          295,
          16,
          195,
          151,
          180,
          92,
          222,
          80,
          269,
          112,
          235,
          162,
          186,
          296,
          141,
          187,
          196,
          67,
          196,
          239,
          246,
          201,
          270,
          234,
          219,
          106,
          82,
          8,
          312,
          194,
          184,
          118,
          103,
          242,
          130,
          222,
          191,
          273,
          233,
          153,
          180,
          174,
          243,
          260,
          231,
          93,
          239,
          306,
          241,
          90,
          170,
          242,
          106,
          139,
          171,
          90,
          179,
          170,
          211,
          122,
          148,
          123,
          16,
          211,
          180,
          186,
          159,
          172,
          132,
          150,
          144,
          130,
          198,
          131,
          120,
          148,
          69,
          177,
          100,
          215,
          73,
          92,
          58,
          135,
          62,
          170,
          182,
          95,
          40,
          118,
          32,
          118,
          173,
          69,
          46,
          117,
          50,
          229,
          102,
          137,
          55,
          96,
          52,
          68,
          26,
          126,
          231,
          99,
          181,
          135,
          157,
          63,
          206,
          137,
          62,
          83,
          155,
          62,
          153,
          121,
          133,
          211,
          62,
          65,
          232,
          94,
          264,
          210,
          165,
          184
         ],
         "yaxis": "y"
        },
        {
         "boxmean": true,
         "jitter": 0.3,
         "name": "Plays",
         "type": "box",
         "xaxis": "x2",
         "y": [
          17000,
          21000,
          30000,
          28000,
          21000,
          33000,
          7200,
          9200,
          25000,
          18000,
          12000,
          7700,
          21000,
          29000,
          17000,
          20000,
          15000,
          19000,
          28000,
          25000,
          9100,
          3000,
          14000,
          30000,
          13000,
          5300,
          3900,
          5900,
          6000,
          21000,
          19000,
          6700,
          21000,
          25000,
          18000,
          14000,
          15000,
          13000,
          14000,
          2200,
          9900,
          21000,
          16000,
          7700,
          15000,
          18000,
          4100,
          13000,
          20000,
          13000,
          8600,
          17000,
          16000,
          12000,
          22000,
          2900,
          12000,
          6600,
          14000,
          12000,
          2900,
          5400,
          3400,
          14000,
          17000,
          7500,
          9100,
          10000,
          18000,
          9400,
          9900,
          11000,
          9000,
          9100,
          11000,
          18000,
          13000,
          13000,
          17000,
          18000,
          13000,
          14000,
          19000,
          15000,
          12000,
          19000,
          3700,
          8400,
          10000,
          19000,
          1600,
          3400,
          14000,
          1200,
          4300,
          1100,
          6400,
          17000,
          14000,
          5700,
          5600,
          7400,
          13000,
          5100,
          12000,
          2800,
          12000,
          13000,
          19000,
          13000,
          9600,
          14000,
          16000,
          9700,
          12000,
          16000,
          7400,
          3500,
          14000,
          9300,
          15000,
          11000,
          4200,
          10000,
          3500,
          2700,
          14000,
          14000,
          9200,
          12000,
          12000,
          12000,
          11000,
          1100,
          12000,
          12000,
          17000,
          13000,
          1600,
          4000,
          5500,
          18000,
          1400,
          19000,
          8400,
          4900,
          13000,
          3100,
          11000,
          1300,
          15000,
          13000,
          11000,
          8600,
          5700,
          16000,
          2500,
          16000,
          2600,
          9600,
          16000,
          7800,
          2700,
          11000,
          11000,
          11000,
          5100,
          13000,
          14000,
          1600,
          2800,
          14000,
          7500,
          8500,
          9900,
          6800,
          12000,
          7900,
          6100,
          5400,
          9200,
          14000,
          3200,
          12000,
          14000,
          7900,
          4100,
          5400,
          7600,
          13000,
          3100,
          14000,
          3700,
          12000,
          10000,
          9300,
          1500,
          3600,
          4700,
          6700,
          9300,
          9600,
          4600,
          9500,
          1600,
          7400,
          5700,
          13000,
          3700,
          6900,
          7200,
          2400,
          13000,
          1200,
          4300,
          12000,
          8400,
          3800,
          9100,
          750,
          8900,
          1700,
          8500,
          7800,
          6700,
          4200,
          5900,
          1200,
          7800,
          6100,
          1400,
          10000,
          2800,
          7500,
          9700,
          7700,
          9600,
          8200,
          9600,
          11000,
          6600,
          4000,
          6300,
          8400,
          6600,
          9000,
          7500,
          3300,
          1300,
          11000,
          6000,
          6600,
          1700,
          4400,
          3800,
          1300,
          5700,
          3000,
          8300,
          8500,
          5000,
          4700,
          4600,
          6000,
          9800,
          9100,
          7600,
          8400,
          6100,
          4000,
          7600,
          5300,
          3200,
          5800,
          632,
          4100,
          5600,
          3300,
          3900,
          2300,
          7600,
          1200,
          9100,
          3900,
          2200,
          4800,
          6600,
          3300,
          6600,
          7300,
          8400,
          6500,
          6600,
          10000,
          4500,
          7300,
          6000,
          4400,
          1100,
          10000,
          1400,
          4400,
          3600,
          6300,
          6100,
          1000,
          4700,
          1100,
          6600,
          3900,
          6000,
          5100,
          7900,
          4500,
          7100,
          6600,
          2200,
          5400,
          454,
          2300,
          2500,
          2700,
          4100,
          3100,
          3900,
          1800,
          17000,
          21000,
          30000,
          28000,
          21000,
          33000,
          7200,
          9200,
          25000,
          18000,
          12000,
          7700,
          21000,
          29000,
          17000,
          20000,
          15000,
          19000,
          28000,
          25000,
          9100,
          3000,
          14000,
          30000,
          13000,
          5300,
          3900,
          5900,
          6000,
          21000,
          19000,
          6700,
          21000,
          25000,
          18000,
          14000,
          15000,
          13000,
          14000,
          2200,
          9900,
          21000,
          16000,
          7700,
          15000,
          18000,
          4100,
          13000,
          20000,
          13000,
          8600,
          17000,
          16000,
          12000,
          22000,
          2900,
          12000,
          6600,
          14000,
          12000,
          2900,
          5400,
          3400,
          14000,
          17000,
          6100,
          16000,
          9700,
          12000,
          16000,
          7400,
          3500,
          14000,
          9300,
          15000,
          11000,
          4200,
          10000,
          3500,
          7100,
          16000,
          14000,
          13000,
          6800,
          19000,
          16000,
          5600,
          8500,
          2700,
          14000,
          14000,
          9200,
          12000,
          12000,
          12000,
          11000,
          1100,
          12000,
          12000,
          17000,
          13000,
          1600,
          4000,
          5500,
          18000,
          1400,
          19000,
          8400,
          4900,
          13000,
          3100,
          11000,
          1300,
          15000,
          13000,
          11000,
          8600,
          5700,
          16000,
          2500,
          16000,
          2600,
          9600,
          16000,
          7800,
          2700,
          7900,
          4100,
          5400,
          7600,
          13000,
          3100,
          14000,
          3700,
          12000,
          10000,
          9300,
          1500,
          3600,
          4700,
          6700,
          9300,
          9600,
          4600,
          9500,
          1600,
          7400,
          5700,
          13000,
          3700,
          6900,
          7200,
          2400,
          13000,
          1200,
          4300,
          12000,
          8400,
          3800,
          9100,
          750,
          8900,
          1700,
          8500,
          7800,
          6700,
          4200,
          5900,
          1200,
          7800,
          6100,
          1400,
          10000,
          2800,
          7500,
          9700,
          7700,
          9600,
          8200,
          9600,
          11000,
          6600,
          4000,
          6300,
          8400,
          6600,
          6000,
          5500,
          496,
          3900,
          8200,
          5600,
          4300,
          10000,
          9400,
          1100,
          3800,
          6700,
          9700,
          258,
          809,
          4000,
          6800,
          5600,
          4800,
          1200,
          9000,
          7500,
          3300,
          1300,
          11000,
          6000,
          6600,
          1700,
          4400,
          3800,
          1300,
          5700,
          3000,
          8300,
          8500,
          5000,
          4700,
          4600,
          6000,
          9800,
          9100,
          7600,
          8400,
          6100,
          4000,
          7600,
          5300,
          3200,
          5800,
          632,
          4100,
          5600,
          3300,
          3900,
          2300,
          7600,
          1200,
          9100,
          3900,
          2200,
          5100,
          7200,
          4700,
          4300,
          5300,
          3600,
          2700,
          2900,
          6700,
          252,
          4100,
          1200,
          2500,
          3700,
          431,
          7600,
          2100,
          7100,
          5200,
          3200,
          7100,
          2000,
          7400,
          3800,
          1800,
          5300,
          3700,
          538,
          5800,
          4500,
          984,
          1100,
          1600,
          6100,
          4700,
          9300,
          3400,
          847,
          2800,
          5400,
          5000,
          244,
          1400,
          2100,
          3300,
          1200,
          663,
          5500,
          5600,
          3600,
          4000,
          3300,
          1000,
          4700,
          1100,
          6600,
          3900,
          6000,
          5100,
          932,
          104,
          477,
          2800,
          294,
          2900,
          3400,
          6900,
          4600,
          1400,
          5300,
          2100,
          4200,
          1600,
          2900,
          350,
          1200,
          1400,
          5200,
          3500,
          2700,
          7000,
          3700,
          454,
          4300,
          210,
          1800,
          5200,
          3200,
          2200,
          48,
          522,
          2900,
          100,
          4300,
          2000,
          218,
          2000,
          1400,
          4600,
          305,
          4000,
          3800,
          4900,
          1100,
          6000,
          1800,
          1200,
          253,
          2800,
          1200,
          2300,
          1700,
          1900,
          558,
          439,
          2700,
          982,
          2400,
          2700,
          1800,
          1600,
          4100,
          3500,
          3700,
          59,
          5300,
          1200,
          2500,
          1400,
          397,
          2300,
          160,
          1800,
          2600,
          3000,
          2800,
          621,
          3600,
          1800,
          738,
          442,
          167,
          5100,
          2300,
          1400,
          4600,
          1800,
          2700,
          1300,
          3000,
          577,
          4500,
          5500,
          2500,
          1300,
          69,
          847,
          1800,
          555,
          2600,
          889,
          484,
          3000,
          239,
          4400,
          2600,
          185,
          186,
          130,
          3200,
          2400,
          332,
          2100,
          820,
          2200,
          2700,
          3300,
          199,
          370,
          2400,
          3000,
          5300,
          3100,
          3800,
          3900,
          393,
          3900,
          2500,
          2300,
          2300,
          4400,
          1000,
          4500,
          1700,
          3200,
          297,
          4100,
          17000,
          21000,
          30000,
          28000,
          21000,
          33000,
          7200,
          9200,
          25000,
          18000,
          12000,
          7700,
          21000,
          29000,
          17000,
          20000,
          15000,
          19000,
          28000,
          25000,
          9100,
          3000,
          14000,
          30000,
          13000,
          5300,
          3900,
          5900,
          6000,
          21000,
          19000,
          6700,
          21000,
          25000,
          18000,
          14000,
          15000,
          13000,
          14000,
          2200,
          9900,
          21000,
          16000,
          7700,
          15000,
          18000,
          4100,
          13000,
          20000,
          13000,
          8600,
          17000,
          16000,
          12000,
          22000,
          2900,
          12000,
          6600,
          14000,
          12000,
          2900,
          5400,
          3400,
          14000,
          17000,
          6100,
          17000,
          16000,
          8100,
          17000,
          12000,
          6000,
          20000,
          18000,
          7500,
          9100,
          12000,
          13000,
          19000,
          13000,
          9600,
          14000,
          16000,
          9700,
          12000,
          16000,
          7400,
          3500,
          14000,
          9300,
          15000,
          11000,
          4200,
          10000,
          3500,
          7100,
          16000,
          14000,
          13000,
          6800,
          19000,
          16000,
          5600,
          8500,
          2700,
          14000,
          14000,
          9200,
          12000,
          12000,
          12000,
          11000,
          1100,
          12000,
          12000,
          17000,
          13000,
          1600,
          4000,
          5500,
          18000,
          1400,
          19000,
          8400,
          4900,
          13000,
          3100,
          11000,
          1300,
          15000,
          13000,
          11000,
          8600,
          5700,
          16000,
          2500,
          12000,
          6000,
          9900,
          4100,
          3300,
          6500,
          13000,
          10000,
          1300,
          6800,
          10000,
          7700,
          983,
          11000,
          10000,
          5200,
          7200,
          1400,
          9500,
          2200,
          6000,
          10000,
          4700,
          8100,
          12000,
          12000,
          6100,
          1700,
          12000,
          6600,
          4900,
          14000,
          12000,
          15000,
          12000,
          6400,
          11000,
          4000,
          5500,
          5500,
          9800,
          12000,
          10000,
          3200,
          10000,
          2500,
          8700,
          14000,
          6000,
          4300,
          9600,
          5100,
          11000,
          12000,
          5400,
          7900,
          4100,
          5400,
          7600,
          13000,
          12000,
          5700,
          1500,
          2900,
          8700,
          6700,
          6600,
          6700,
          737,
          8100,
          6000,
          8400,
          8000,
          5400,
          445,
          4800,
          6500,
          2900,
          3700,
          7100,
          6500,
          5600,
          7200,
          1200,
          3500,
          1600,
          3200,
          7800,
          7100,
          5400,
          7800,
          8900,
          9500,
          2000,
          5100,
          8100,
          1400,
          2800,
          6200,
          6400,
          8800,
          5700,
          7800,
          3500,
          1800,
          5300,
          9900,
          513,
          2400,
          5100,
          8700,
          5300,
          6000,
          5500,
          496,
          3900,
          8200,
          5600,
          4300,
          4500,
          7300,
          6000,
          4400,
          1100,
          10000,
          1400,
          4400,
          3600,
          6300,
          6100,
          9300,
          3900,
          1700,
          6500,
          6800,
          9400,
          8200,
          8800,
          753,
          3300,
          6900,
          4500,
          3700,
          3700,
          3500,
          1300,
          279,
          4000,
          8600,
          751,
          5200,
          5100,
          3200,
          1900,
          7000,
          8700,
          6900,
          5400,
          1700,
          3700,
          3000,
          3900,
          7900,
          1000,
          4900,
          8400,
          6200,
          647,
          5000,
          5600,
          2600,
          3600,
          7200,
          408,
          1600,
          7800,
          6200,
          1100,
          2700,
          7700,
          6300,
          3700,
          4000,
          5100,
          4500,
          3500,
          335,
          2100,
          3000,
          4500,
          1500,
          1400,
          7200,
          2400,
          1700,
          2900,
          3700,
          4200,
          1900,
          1600,
          3400,
          4400,
          280,
          2900,
          2500,
          4100,
          2400,
          4000,
          6100,
          1900,
          1600,
          4600,
          2400,
          5000,
          442,
          3900,
          5300,
          2800,
          4700,
          2500,
          796,
          5100,
          356,
          2900,
          1900,
          245,
          6600,
          3400,
          6500,
          1000,
          247,
          3900,
          4900,
          1200,
          3700,
          949,
          4800,
          358,
          6000,
          225,
          1100,
          5900,
          1100,
          4400,
          5500,
          2700,
          4800,
          3800,
          2400,
          365,
          3400,
          1100,
          1600,
          368,
          787,
          2100,
          1100,
          4000,
          836,
          2300,
          2100,
          1600,
          1700,
          4800,
          2800,
          4600,
          3300,
          3100,
          73,
          2700,
          762,
          2600,
          2000,
          2200,
          5100,
          2500,
          4300,
          2700,
          1000,
          2400,
          265,
          5200,
          2100,
          2500,
          3700,
          1900,
          5200,
          2500,
          727,
          1600,
          5900,
          2100,
          561,
          67,
          4300,
          2900,
          1300,
          2700,
          523,
          4200,
          2900,
          992,
          5400,
          871,
          1900,
          3400,
          3700,
          3400,
          4100,
          1400,
          110,
          4100,
          2500,
          1000,
          2700,
          2900,
          248,
          3100,
          2100,
          3500,
          5500,
          3700,
          195,
          1900,
          676,
          471,
          1400,
          1900,
          2300,
          106,
          2600,
          597,
          3400,
          55,
          5400,
          2700,
          820,
          2200,
          2700,
          3300,
          199,
          370,
          2400,
          3000,
          5300,
          3100,
          3800,
          3900,
          393,
          3900,
          2500,
          2300,
          2300,
          4400,
          1000,
          1700,
          1900,
          2200,
          3200,
          648,
          312,
          1500,
          1000,
          1700,
          1000,
          340,
          1600,
          1300,
          2200,
          14,
          329,
          2400,
          183,
          408,
          1800,
          1900,
          3800,
          1900,
          2100,
          3800,
          690,
          1700,
          1600,
          2600,
          547,
          424,
          4100,
          1300,
          1000,
          1100,
          2800,
          278,
          2600,
          1900,
          3200,
          61,
          1400,
          1900,
          1900,
          405,
          3800,
          1700,
          3700,
          3500,
          1500,
          1800,
          3100,
          3100,
          2800,
          772,
          1600,
          1200,
          2000,
          3800,
          2300,
          2900,
          2900,
          1100,
          2200,
          2300,
          1300,
          2600,
          1800,
          1,
          2400,
          1500,
          2700,
          321,
          895,
          2300,
          1600,
          1,
          3100,
          2400,
          2300,
          3000,
          2800,
          2500,
          4000,
          2100,
          2500,
          544,
          1900,
          2200,
          2000,
          1500,
          1200,
          2500,
          1900,
          2700,
          1900,
          2500,
          1700,
          718,
          2800,
          874,
          1500,
          2300,
          2700,
          2400,
          1100,
          2900,
          1700,
          2600,
          1400,
          16,
          1900,
          3200,
          2000,
          252,
          713,
          2400,
          1800,
          1800,
          2300,
          1700,
          2300,
          308,
          1700,
          1400,
          1500,
          2400,
          1100,
          1400,
          848,
          1100,
          933,
          1100,
          1000,
          1700,
          1600,
          26,
          1400,
          1300,
          1500,
          1500,
          1700,
          1900,
          2400,
          1600,
          1800,
          1700,
          2100,
          1800,
          2100,
          1600,
          1900,
          1300,
          1300,
          1100,
          1300,
          1200,
          779,
          514,
          2200,
          1500,
          847,
          867,
          1500,
          527,
          1600,
          987,
          969,
          935,
          2000,
          625,
          16,
          1500,
          1300,
          646,
          2000,
          1500,
          1800,
          1900,
          2000,
          1100,
          1600,
          1400,
          1900,
          1200,
          859,
          1100,
          1600,
          891,
          1600,
          2200,
          1200,
          1600,
          1600,
          492,
          927,
          1100,
          8,
          1200,
          164,
          512,
          976,
          939,
          2100,
          986,
          1000,
          763,
          1400,
          1000,
          1300,
          1200,
          785,
          413,
          187,
          1000,
          1500,
          1200,
          1600,
          1300,
          1400,
          1100,
          1300,
          907,
          1600,
          1200,
          1300,
          1400,
          727,
          1100,
          797,
          1700,
          1600,
          634,
          939,
          763,
          1500,
          1100,
          269,
          1700
         ],
         "yaxis": "y2"
        },
        {
         "boxmean": true,
         "jitter": 0.3,
         "name": "Playing",
         "type": "box",
         "xaxis": "x3",
         "y": [
          3800,
          3200,
          2500,
          679,
          2400,
          1800,
          1100,
          759,
          470,
          1100,
          2300,
          801,
          1100,
          471,
          1100,
          1200,
          1800,
          1700,
          244,
          710,
          1600,
          866,
          492,
          829,
          1500,
          801,
          795,
          955,
          1200,
          577,
          851,
          880,
          463,
          1200,
          1200,
          919,
          1100,
          1500,
          2700,
          419,
          333,
          468,
          756,
          661,
          585,
          541,
          1000,
          614,
          2000,
          472,
          282,
          1200,
          630,
          738,
          589,
          519,
          524,
          1100,
          360,
          898,
          491,
          557,
          489,
          447,
          433,
          222,
          518,
          161,
          218,
          934,
          372,
          786,
          600,
          316,
          309,
          59,
          347,
          740,
          205,
          673,
          326,
          503,
          436,
          257,
          1100,
          270,
          466,
          584,
          286,
          705,
          874,
          868,
          217,
          325,
          315,
          593,
          632,
          232,
          403,
          287,
          341,
          849,
          322,
          432,
          311,
          546,
          399,
          689,
          279,
          1200,
          591,
          131,
          192,
          439,
          418,
          505,
          453,
          1000,
          122,
          189,
          209,
          443,
          389,
          134,
          226,
          283,
          109,
          268,
          118,
          94,
          266,
          163,
          203,
          235,
          258,
          60,
          564,
          279,
          235,
          478,
          713,
          39,
          766,
          88,
          157,
          216,
          218,
          571,
          107,
          248,
          175,
          123,
          186,
          61,
          1100,
          219,
          357,
          140,
          580,
          302,
          108,
          242,
          561,
          158,
          216,
          374,
          779,
          129,
          254,
          180,
          237,
          258,
          148,
          330,
          288,
          350,
          101,
          146,
          312,
          469,
          737,
          188,
          141,
          95,
          117,
          260,
          403,
          202,
          387,
          118,
          358,
          44,
          218,
          186,
          46,
          132,
          139,
          149,
          748,
          187,
          89,
          107,
          589,
          53,
          109,
          205,
          82,
          57,
          444,
          76,
          335,
          430,
          85,
          131,
          235,
          198,
          149,
          189,
          103,
          228,
          403,
          250,
          135,
          99,
          128,
          399,
          1100,
          95,
          189,
          116,
          131,
          153,
          596,
          59,
          301,
          364,
          54,
          650,
          93,
          60,
          172,
          155,
          102,
          46,
          115,
          115,
          90,
          242,
          165,
          17,
          61,
          247,
          108,
          92,
          76,
          382,
          158,
          125,
          434,
          90,
          42,
          66,
          537,
          410,
          20,
          65,
          57,
          106,
          34,
          644,
          71,
          180,
          68,
          47,
          32,
          60,
          45,
          321,
          149,
          126,
          130,
          105,
          98,
          295,
          63,
          161,
          95,
          170,
          125,
          79,
          22,
          374,
          169,
          27,
          67,
          426,
          82,
          68,
          305,
          23,
          72,
          133,
          210,
          62,
          148,
          59,
          86,
          267,
          114,
          158,
          65,
          44,
          75,
          55,
          72,
          32,
          59,
          52,
          148,
          352,
          78,
          76,
          331,
          37,
          108,
          159,
          3800,
          3200,
          2500,
          679,
          2400,
          1800,
          1100,
          759,
          470,
          1100,
          2300,
          801,
          1100,
          471,
          1100,
          1200,
          1800,
          1700,
          244,
          710,
          1600,
          866,
          492,
          829,
          1500,
          801,
          795,
          955,
          1200,
          577,
          851,
          880,
          463,
          1200,
          1200,
          919,
          1100,
          1500,
          2700,
          419,
          333,
          468,
          756,
          661,
          585,
          541,
          1000,
          614,
          2000,
          472,
          282,
          1200,
          630,
          738,
          589,
          519,
          524,
          1100,
          360,
          898,
          491,
          557,
          489,
          447,
          433,
          944,
          192,
          439,
          418,
          505,
          453,
          1000,
          122,
          189,
          209,
          443,
          389,
          134,
          226,
          388,
          407,
          177,
          360,
          272,
          51,
          344,
          280,
          688,
          283,
          109,
          268,
          118,
          94,
          266,
          163,
          203,
          235,
          258,
          60,
          564,
          279,
          235,
          478,
          713,
          39,
          766,
          88,
          157,
          216,
          218,
          571,
          107,
          248,
          175,
          123,
          186,
          61,
          1100,
          219,
          357,
          140,
          580,
          302,
          108,
          242,
          561,
          260,
          403,
          202,
          387,
          118,
          358,
          44,
          218,
          186,
          46,
          132,
          139,
          149,
          748,
          187,
          89,
          107,
          589,
          53,
          109,
          205,
          82,
          57,
          444,
          76,
          335,
          430,
          85,
          131,
          235,
          198,
          149,
          189,
          103,
          228,
          403,
          250,
          135,
          99,
          128,
          399,
          1100,
          95,
          189,
          116,
          131,
          153,
          596,
          59,
          301,
          364,
          54,
          650,
          93,
          60,
          172,
          155,
          102,
          46,
          115,
          40,
          54,
          96,
          122,
          334,
          313,
          199,
          59,
          94,
          170,
          128,
          80,
          21,
          271,
          88,
          93,
          435,
          172,
          140,
          97,
          115,
          90,
          242,
          165,
          17,
          61,
          247,
          108,
          92,
          76,
          382,
          158,
          125,
          434,
          90,
          42,
          66,
          537,
          410,
          20,
          65,
          57,
          106,
          34,
          644,
          71,
          180,
          68,
          47,
          32,
          60,
          45,
          321,
          149,
          126,
          130,
          105,
          98,
          295,
          63,
          362,
          137,
          51,
          56,
          270,
          65,
          101,
          67,
          35,
          32,
          37,
          153,
          154,
          150,
          57,
          74,
          235,
          17,
          7,
          281,
          43,
          200,
          50,
          186,
          257,
          67,
          71,
          71,
          65,
          282,
          126,
          34,
          121,
          47,
          86,
          52,
          132,
          248,
          230,
          20,
          99,
          104,
          176,
          65,
          293,
          131,
          100,
          37,
          97,
          92,
          68,
          230,
          59,
          86,
          267,
          114,
          158,
          65,
          44,
          35,
          95,
          11,
          176,
          74,
          64,
          72,
          21,
          211,
          150,
          37,
          73,
          13,
          157,
          212,
          90,
          103,
          76,
          173,
          79,
          40,
          33,
          124,
          120,
          137,
          97,
          74,
          110,
          48,
          152,
          40,
          38,
          135,
          15,
          68,
          31,
          32,
          75,
          48,
          41,
          17,
          26,
          11,
          93,
          42,
          21,
          90,
          67,
          37,
          132,
          89,
          44,
          32,
          96,
          49,
          33,
          53,
          127,
          188,
          39,
          69,
          100,
          44,
          26,
          49,
          2,
          34,
          128,
          91,
          38,
          29,
          41,
          86,
          41,
          107,
          29,
          60,
          132,
          56,
          25,
          140,
          21,
          47,
          36,
          78,
          47,
          76,
          109,
          247,
          81,
          38,
          16,
          30,
          29,
          261,
          241,
          8,
          30,
          110,
          36,
          64,
          56,
          22,
          118,
          5,
          21,
          67,
          28,
          13,
          1,
          37,
          33,
          20,
          91,
          65,
          134,
          39,
          13,
          73,
          59,
          96,
          26,
          44,
          18,
          64,
          11,
          22,
          51,
          52,
          41,
          58,
          8,
          38,
          115,
          45,
          30,
          19,
          18,
          3800,
          3200,
          2500,
          679,
          2400,
          1800,
          1100,
          759,
          470,
          1100,
          2300,
          801,
          1100,
          471,
          1100,
          1200,
          1800,
          1700,
          244,
          710,
          1600,
          866,
          492,
          829,
          1500,
          801,
          795,
          955,
          1200,
          577,
          851,
          880,
          463,
          1200,
          1200,
          919,
          1100,
          1500,
          2700,
          419,
          333,
          468,
          756,
          661,
          585,
          541,
          1000,
          614,
          2000,
          472,
          282,
          1200,
          630,
          738,
          589,
          519,
          524,
          1100,
          360,
          898,
          491,
          557,
          489,
          447,
          433,
          944,
          926,
          654,
          999,
          339,
          287,
          847,
          1800,
          197,
          222,
          518,
          399,
          689,
          279,
          1200,
          591,
          131,
          192,
          439,
          418,
          505,
          453,
          1000,
          122,
          189,
          209,
          443,
          389,
          134,
          226,
          388,
          407,
          177,
          360,
          272,
          51,
          344,
          280,
          688,
          283,
          109,
          268,
          118,
          94,
          266,
          163,
          203,
          235,
          258,
          60,
          564,
          279,
          235,
          478,
          714,
          39,
          766,
          88,
          157,
          216,
          218,
          571,
          107,
          248,
          175,
          123,
          186,
          61,
          1100,
          219,
          357,
          117,
          154,
          133,
          358,
          292,
          176,
          211,
          228,
          284,
          221,
          56,
          94,
          241,
          509,
          176,
          256,
          320,
          100,
          287,
          154,
          263,
          172,
          195,
          206,
          162,
          98,
          162,
          192,
          146,
          227,
          156,
          34,
          111,
          36,
          669,
          56,
          314,
          63,
          155,
          492,
          177,
          96,
          474,
          26,
          168,
          454,
          280,
          575,
          304,
          397,
          137,
          114,
          98,
          125,
          91,
          260,
          403,
          202,
          387,
          118,
          72,
          58,
          55,
          143,
          58,
          183,
          256,
          191,
          62,
          81,
          97,
          40,
          85,
          140,
          228,
          252,
          118,
          223,
          50,
          141,
          84,
          35,
          302,
          141,
          137,
          268,
          293,
          88,
          520,
          59,
          125,
          215,
          128,
          204,
          182,
          183,
          162,
          206,
          96,
          127,
          82,
          356,
          258,
          83,
          387,
          186,
          156,
          241,
          297,
          89,
          524,
          22,
          40,
          54,
          96,
          122,
          334,
          313,
          199,
          67,
          426,
          82,
          68,
          305,
          23,
          72,
          133,
          210,
          62,
          148,
          40,
          142,
          53,
          137,
          78,
          74,
          78,
          57,
          39,
          215,
          146,
          263,
          200,
          157,
          112,
          155,
          137,
          160,
          35,
          68,
          328,
          213,
          83,
          128,
          39,
          64,
          43,
          26,
          242,
          87,
          192,
          212,
          302,
          67,
          43,
          31,
          85,
          119,
          164,
          43,
          152,
          82,
          108,
          159,
          107,
          128,
          76,
          75,
          141,
          35,
          193,
          45,
          28,
          84,
          60,
          43,
          38,
          122,
          75,
          143,
          213,
          153,
          64,
          72,
          60,
          155,
          104,
          128,
          131,
          87,
          67,
          90,
          145,
          80,
          161,
          58,
          71,
          31,
          28,
          51,
          141,
          61,
          135,
          109,
          20,
          92,
          100,
          113,
          391,
          119,
          71,
          95,
          145,
          137,
          210,
          26,
          19,
          41,
          9,
          33,
          22,
          70,
          227,
          25,
          44,
          99,
          19,
          65,
          34,
          80,
          31,
          50,
          74,
          15,
          83,
          7,
          45,
          25,
          161,
          77,
          92,
          38,
          55,
          25,
          13,
          62,
          97,
          66,
          97,
          35,
          39,
          61,
          205,
          18,
          83,
          31,
          105,
          65,
          45,
          27,
          23,
          49,
          51,
          72,
          3,
          142,
          107,
          60,
          70,
          36,
          36,
          13,
          129,
          34,
          24,
          203,
          46,
          18,
          33,
          32,
          62,
          35,
          30,
          26,
          11,
          55,
          146,
          45,
          112,
          23,
          19,
          41,
          56,
          59,
          78,
          59,
          60,
          22,
          53,
          85,
          39,
          56,
          34,
          146,
          308,
          37,
          24,
          39,
          71,
          31,
          105,
          25,
          4,
          57,
          87,
          83,
          51,
          55,
          14,
          1,
          40,
          29,
          27,
          0,
          16,
          44,
          65,
          134,
          39,
          13,
          73,
          59,
          96,
          26,
          44,
          18,
          64,
          11,
          22,
          51,
          52,
          41,
          58,
          8,
          38,
          81,
          29,
          9,
          22,
          32,
          20,
          44,
          28,
          15,
          33,
          6,
          142,
          42,
          11,
          22,
          169,
          19,
          20,
          27,
          68,
          31,
          20,
          21,
          70,
          18,
          62,
          92,
          57,
          59,
          25,
          15,
          9,
          37,
          32,
          42,
          23,
          18,
          57,
          135,
          89,
          3,
          124,
          52,
          65,
          46,
          28,
          35,
          23,
          15,
          57,
          46,
          7,
          51,
          20,
          90,
          114,
          102,
          66,
          1,
          37,
          40,
          10,
          16,
          65,
          23,
          32,
          3,
          43,
          0,
          39,
          132,
          17,
          40,
          71,
          6,
          21,
          0,
          17,
          15,
          12,
          7,
          6,
          20,
          31,
          11,
          23,
          29,
          22,
          16,
          8,
          115,
          12,
          50,
          18,
          3,
          14,
          12,
          2,
          81,
          33,
          24,
          5,
          26,
          9,
          10,
          19,
          8,
          21,
          14,
          38,
          0,
          22,
          3,
          10,
          15,
          20,
          29,
          39,
          51,
          15,
          4,
          13,
          31,
          4,
          3,
          41,
          6,
          57,
          17,
          23,
          48,
          32,
          9,
          47,
          36,
          8,
          1,
          13,
          16,
          40,
          31,
          6,
          81,
          77,
          18,
          8,
          76,
          19,
          4,
          15,
          5,
          9,
          22,
          6,
          26,
          29,
          19,
          30,
          14,
          12,
          18,
          0,
          48,
          16,
          49,
          22,
          9,
          56,
          5,
          23,
          34,
          10,
          2,
          21,
          15,
          13,
          10,
          2,
          6,
          26,
          10,
          1,
          5,
          2,
          36,
          2,
          38,
          8,
          40,
          2,
          8,
          7,
          23,
          2,
          30,
          10,
          10,
          1,
          49,
          20,
          31,
          19,
          18,
          1,
          1,
          14,
          16,
          6,
          7,
          4,
          8,
          2,
          63,
          16,
          7,
          15,
          22,
          4,
          76,
          6,
          0,
          18,
          5,
          2,
          2,
          6,
          1,
          54,
          2,
          12,
          7,
          15,
          10,
          8,
          5,
          49,
          45,
          79,
          11
         ],
         "yaxis": "y3"
        },
        {
         "boxmean": true,
         "jitter": 0.3,
         "name": "Wishlist",
         "type": "box",
         "xaxis": "x4",
         "y": [
          4800,
          3600,
          2600,
          1800,
          2300,
          230,
          3800,
          3300,
          126,
          3600,
          3000,
          3400,
          2600,
          1200,
          3300,
          2000,
          2000,
          2900,
          1100,
          2000,
          2100,
          2000,
          2000,
          664,
          2900,
          3300,
          2200,
          3100,
          2700,
          2200,
          2200,
          3700,
          775,
          801,
          2600,
          3400,
          1500,
          2200,
          280,
          2200,
          2800,
          1200,
          1400,
          3100,
          1900,
          1400,
          2600,
          2300,
          1100,
          2500,
          2100,
          1600,
          1700,
          2400,
          1000,
          2300,
          2400,
          171,
          1200,
          2200,
          1800,
          2300,
          2600,
          1400,
          1400,
          753,
          2200,
          1400,
          460,
          2400,
          2800,
          1600,
          1800,
          1700,
          907,
          237,
          1800,
          1300,
          1400,
          593,
          1300,
          1200,
          214,
          1000,
          1500,
          742,
          2500,
          1500,
          1100,
          635,
          1100,
          750,
          928,
          1300,
          2300,
          1400,
          959,
          672,
          1000,
          1900,
          216,
          1900,
          892,
          1300,
          716,
          2100,
          786,
          1400,
          358,
          52,
          1300,
          460,
          651,
          1000,
          1000,
          158,
          1500,
          1100,
          35,
          1500,
          817,
          994,
          1900,
          1700,
          829,
          2300,
          362,
          866,
          1300,
          1700,
          1000,
          656,
          514,
          1900,
          682,
          243,
          113,
          757,
          2200,
          1900,
          1200,
          93,
          1600,
          168,
          1600,
          1300,
          1600,
          1900,
          729,
          1900,
          508,
          1300,
          514,
          1300,
          1300,
          376,
          2000,
          521,
          496,
          1100,
          287,
          1600,
          2300,
          896,
          1300,
          1100,
          1600,
          852,
          461,
          1400,
          1300,
          721,
          700,
          990,
          605,
          1200,
          528,
          799,
          1300,
          1500,
          1400,
          660,
          1300,
          842,
          82,
          1400,
          2100,
          1000,
          2000,
          496,
          1600,
          318,
          1700,
          461,
          833,
          463,
          811,
          1200,
          1200,
          1500,
          687,
          645,
          594,
          549,
          1400,
          765,
          249,
          286,
          1300,
          385,
          944,
          1600,
          241,
          804,
          904,
          242,
          722,
          958,
          691,
          1100,
          441,
          1300,
          1200,
          1200,
          834,
          1000,
          363,
          564,
          552,
          648,
          1100,
          501,
          930,
          445,
          500,
          986,
          66,
          110,
          432,
          477,
          623,
          771,
          742,
          166,
          455,
          270,
          401,
          1200,
          1100,
          110,
          217,
          354,
          493,
          274,
          917,
          704,
          599,
          5,
          110,
          442,
          212,
          925,
          1200,
          467,
          207,
          176,
          277,
          478,
          163,
          779,
          574,
          705,
          855,
          427,
          1100,
          761,
          423,
          1200,
          686,
          1100,
          449,
          567,
          450,
          363,
          590,
          701,
          629,
          783,
          453,
          482,
          125,
          319,
          470,
          195,
          171,
          90,
          466,
          616,
          576,
          96,
          701,
          858,
          1400,
          448,
          534,
          889,
          407,
          242,
          459,
          401,
          126,
          342,
          234,
          290,
          124,
          135,
          636,
          524,
          602,
          918,
          1500,
          634,
          73,
          789,
          260,
          473,
          4800,
          3600,
          2600,
          1800,
          2300,
          230,
          3800,
          3300,
          126,
          3600,
          3000,
          3400,
          2600,
          1200,
          3300,
          2000,
          2000,
          2900,
          1100,
          2000,
          2100,
          2000,
          2000,
          664,
          2900,
          3300,
          2200,
          3100,
          2700,
          2200,
          2200,
          3700,
          775,
          801,
          2600,
          3400,
          1500,
          2200,
          280,
          2200,
          2800,
          1200,
          1400,
          3100,
          1900,
          1400,
          2600,
          2300,
          1100,
          2500,
          2100,
          1600,
          1700,
          2400,
          1000,
          2300,
          2400,
          171,
          1200,
          2200,
          1800,
          2300,
          2600,
          1400,
          1400,
          409,
          651,
          1000,
          1000,
          158,
          1500,
          1100,
          35,
          1500,
          817,
          994,
          1900,
          1700,
          829,
          1200,
          752,
          1200,
          911,
          1600,
          250,
          494,
          1800,
          3100,
          2300,
          362,
          866,
          1300,
          1700,
          1000,
          656,
          514,
          1900,
          682,
          243,
          113,
          757,
          2200,
          1900,
          1200,
          93,
          1600,
          168,
          1600,
          1300,
          1600,
          1900,
          729,
          1900,
          508,
          1300,
          514,
          1300,
          1300,
          376,
          2000,
          521,
          496,
          1100,
          287,
          1600,
          2300,
          1400,
          2100,
          1000,
          2000,
          496,
          1600,
          318,
          1700,
          461,
          833,
          463,
          811,
          1200,
          1200,
          1500,
          687,
          645,
          594,
          549,
          1400,
          765,
          249,
          286,
          1300,
          385,
          944,
          1600,
          241,
          804,
          904,
          242,
          722,
          958,
          691,
          1100,
          441,
          1300,
          1200,
          1200,
          834,
          1000,
          363,
          564,
          552,
          648,
          1100,
          501,
          930,
          445,
          500,
          986,
          66,
          110,
          432,
          477,
          623,
          771,
          742,
          166,
          455,
          269,
          597,
          592,
          837,
          636,
          1300,
          513,
          141,
          227,
          987,
          453,
          768,
          194,
          895,
          561,
          470,
          746,
          692,
          822,
          424,
          270,
          401,
          1200,
          1100,
          110,
          217,
          354,
          493,
          274,
          917,
          704,
          599,
          5,
          110,
          442,
          212,
          925,
          1200,
          467,
          207,
          176,
          277,
          478,
          163,
          779,
          574,
          705,
          855,
          427,
          1100,
          761,
          423,
          1200,
          686,
          1100,
          449,
          567,
          450,
          363,
          590,
          463,
          236,
          754,
          496,
          407,
          505,
          540,
          854,
          262,
          847,
          464,
          651,
          625,
          487,
          492,
          230,
          33,
          112,
          31,
          677,
          138,
          916,
          350,
          574,
          621,
          443,
          202,
          409,
          488,
          808,
          983,
          550,
          559,
          234,
          675,
          170,
          567,
          22,
          532,
          119,
          308,
          279,
          876,
          827,
          657,
          1000,
          1000,
          421,
          417,
          459,
          566,
          625,
          889,
          407,
          242,
          459,
          401,
          126,
          342,
          397,
          61,
          115,
          607,
          209,
          402,
          458,
          78,
          188,
          580,
          307,
          681,
          183,
          792,
          333,
          54,
          575,
          445,
          195,
          512,
          241,
          127,
          395,
          362,
          319,
          85,
          649,
          16,
          388,
          371,
          329,
          216,
          604,
          212,
          418,
          382,
          527,
          540,
          628,
          132,
          116,
          212,
          181,
          155,
          653,
          219,
          380,
          174,
          283,
          572,
          70,
          217,
          432,
          729,
          306,
          76,
          500,
          480,
          714,
          503,
          497,
          94,
          188,
          385,
          224,
          22,
          185,
          842,
          503,
          410,
          727,
          146,
          469,
          352,
          643,
          485,
          492,
          327,
          191,
          230,
          537,
          266,
          54,
          142,
          460,
          645,
          115,
          634,
          193,
          385,
          95,
          299,
          314,
          133,
          276,
          548,
          150,
          194,
          335,
          491,
          213,
          35,
          114,
          175,
          75,
          343,
          123,
          235,
          149,
          4,
          238,
          388,
          276,
          500,
          329,
          309,
          385,
          111,
          174,
          147,
          506,
          241,
          38,
          160,
          202,
          132,
          298,
          317,
          244,
          397,
          449,
          12,
          513,
          74,
          319,
          142,
          142,
          268,
          4800,
          3600,
          2600,
          1800,
          2300,
          230,
          3800,
          3300,
          126,
          3600,
          3000,
          3400,
          2600,
          1200,
          3300,
          2000,
          2000,
          2900,
          1100,
          2000,
          2100,
          2000,
          2000,
          664,
          2900,
          3300,
          2200,
          3100,
          2700,
          2200,
          2200,
          3700,
          775,
          801,
          2600,
          3400,
          1500,
          2200,
          280,
          2200,
          2800,
          1200,
          1400,
          3100,
          1900,
          1400,
          2600,
          2300,
          1100,
          2500,
          2100,
          1600,
          1700,
          2400,
          1000,
          2300,
          2400,
          171,
          1200,
          2200,
          1800,
          2300,
          2600,
          1400,
          1400,
          409,
          47,
          271,
          2100,
          1200,
          1600,
          2800,
          1100,
          949,
          753,
          2200,
          786,
          1400,
          358,
          52,
          1300,
          460,
          651,
          1000,
          1000,
          158,
          1500,
          1100,
          35,
          1500,
          817,
          994,
          1900,
          1700,
          829,
          1200,
          752,
          1200,
          911,
          1600,
          250,
          494,
          1800,
          3100,
          2300,
          362,
          866,
          1300,
          1700,
          1000,
          656,
          514,
          1900,
          682,
          243,
          113,
          757,
          2200,
          1900,
          1200,
          93,
          1600,
          168,
          1600,
          1300,
          1600,
          1900,
          729,
          1900,
          508,
          1300,
          514,
          1300,
          1300,
          376,
          2000,
          813,
          2000,
          480,
          1300,
          1400,
          481,
          716,
          1300,
          1300,
          1200,
          228,
          1300,
          1100,
          85,
          561,
          1500,
          1600,
          934,
          814,
          951,
          2200,
          774,
          2400,
          1100,
          589,
          460,
          991,
          1600,
          461,
          1500,
          1400,
          276,
          467,
          159,
          82,
          517,
          572,
          801,
          1200,
          995,
          643,
          515,
          861,
          692,
          1100,
          391,
          911,
          22,
          1500,
          1100,
          652,
          871,
          370,
          526,
          1000,
          1400,
          2100,
          1000,
          2000,
          496,
          390,
          365,
          651,
          1300,
          288,
          910,
          1300,
          813,
          1000,
          678,
          716,
          189,
          585,
          924,
          598,
          341,
          476,
          852,
          639,
          360,
          681,
          496,
          681,
          1200,
          815,
          381,
          1300,
          373,
          196,
          548,
          632,
          419,
          331,
          1700,
          715,
          563,
          714,
          472,
          741,
          668,
          152,
          681,
          325,
          1200,
          1300,
          643,
          383,
          727,
          790,
          342,
          103,
          178,
          269,
          597,
          592,
          837,
          636,
          1300,
          513,
          171,
          90,
          466,
          616,
          576,
          96,
          701,
          858,
          1400,
          448,
          534,
          121,
          732,
          701,
          1200,
          248,
          210,
          185,
          154,
          376,
          469,
          36,
          65,
          600,
          702,
          671,
          1300,
          620,
          981,
          213,
          738,
          504,
          14,
          1300,
          946,
          262,
          343,
          301,
          152,
          274,
          693,
          267,
          644,
          139,
          446,
          223,
          265,
          417,
          782,
          607,
          518,
          1200,
          644,
          150,
          513,
          993,
          140,
          572,
          468,
          671,
          189,
          253,
          271,
          334,
          339,
          334,
          227,
          510,
          1000,
          588,
          291,
          741,
          373,
          176,
          493,
          768,
          716,
          162,
          407,
          575,
          838,
          183,
          561,
          459,
          538,
          797,
          409,
          246,
          300,
          227,
          172,
          586,
          292,
          499,
          166,
          377,
          457,
          238,
          636,
          319,
          583,
          372,
          42,
          645,
          335,
          1400,
          268,
          120,
          323,
          150,
          316,
          314,
          449,
          184,
          631,
          391,
          385,
          227,
          763,
          170,
          195,
          399,
          101,
          518,
          275,
          163,
          484,
          134,
          140,
          682,
          2,
          355,
          353,
          140,
          294,
          453,
          272,
          435,
          359,
          406,
          629,
          193,
          494,
          212,
          165,
          601,
          225,
          497,
          489,
          246,
          351,
          448,
          179,
          288,
          449,
          21,
          142,
          260,
          379,
          286,
          217,
          459,
          151,
          461,
          244,
          101,
          199,
          32,
          21,
          770,
          695,
          128,
          314,
          356,
          193,
          99,
          297,
          455,
          263,
          36,
          119,
          181,
          343,
          140,
          949,
          235,
          133,
          219,
          216,
          113,
          478,
          185,
          91,
          214,
          535,
          695,
          113,
          212,
          106,
          180,
          257,
          24,
          280,
          38,
          511,
          588,
          187,
          364,
          97,
          22,
          42,
          334,
          572,
          330,
          3,
          157,
          253,
          329,
          309,
          385,
          111,
          174,
          147,
          506,
          241,
          38,
          160,
          202,
          132,
          298,
          317,
          244,
          397,
          449,
          12,
          513,
          537,
          213,
          85,
          271,
          139,
          313,
          426,
          255,
          172,
          477,
          14,
          366,
          253,
          126,
          69,
          136,
          139,
          35,
          209,
          484,
          364,
          156,
          180,
          221,
          122,
          402,
          160,
          168,
          290,
          434,
          167,
          109,
          424,
          210,
          401,
          136,
          119,
          8,
          471,
          87,
          45,
          195,
          266,
          178,
          337,
          154,
          235,
          71,
          100,
          255,
          324,
          189,
          198,
          220,
          402,
          354,
          363,
          159,
          10,
          150,
          78,
          155,
          76,
          146,
          54,
          270,
          78,
          221,
          2,
          110,
          174,
          35,
          133,
          349,
          125,
          169,
          7,
          129,
          6,
          73,
          113,
          123,
          35,
          62,
          94,
          206,
          294,
          208,
          188,
          100,
          481,
          175,
          294,
          119,
          50,
          191,
          180,
          29,
          271,
          66,
          231,
          76,
          117,
          63,
          198,
          441,
          122,
          114,
          73,
          255,
          15,
          171,
          80,
          29,
          162,
          154,
          22,
          587,
          89,
          96,
          41,
          136,
          420,
          52,
          57,
          289,
          9,
          199,
          140,
          212,
          201,
          360,
          192,
          343,
          196,
          27,
          12,
          298,
          119,
          108,
          230,
          61,
          184,
          55,
          242,
          133,
          264,
          196,
          81,
          57,
          50,
          109,
          328,
          113,
          63,
          159,
          183,
          366,
          81,
          67,
          162,
          23,
          76,
          92,
          257,
          239,
          182,
          349,
          165,
          54,
          180,
          51,
          55,
          139,
          163,
          75,
          115,
          69,
          91,
          106,
          93,
          38,
          152,
          32,
          71,
          55,
          177,
          72,
          167,
          23,
          13,
          57,
          69,
          12,
          219,
          191,
          32,
          156,
          92,
          101,
          331,
          110,
          13,
          4,
          81,
          54,
          344,
          27,
          123,
          23,
          39,
          28,
          246,
          26,
          233,
          88,
          106,
          109,
          72,
          45,
          22,
          227,
          71,
          12,
          23,
          91,
          16,
          136,
          136,
          212,
          95,
          13,
          82,
          201,
          67,
          107,
          206,
          602,
          73
         ],
         "yaxis": "y4"
        }
       ],
       "layout": {
        "showlegend": false,
        "template": {
         "data": {
          "bar": [
           {
            "error_x": {
             "color": "#2a3f5f"
            },
            "error_y": {
             "color": "#2a3f5f"
            },
            "marker": {
             "line": {
              "color": "#E5ECF6",
              "width": 0.5
             },
             "pattern": {
              "fillmode": "overlay",
              "size": 10,
              "solidity": 0.2
             }
            },
            "type": "bar"
           }
          ],
          "barpolar": [
           {
            "marker": {
             "line": {
              "color": "#E5ECF6",
              "width": 0.5
             },
             "pattern": {
              "fillmode": "overlay",
              "size": 10,
              "solidity": 0.2
             }
            },
            "type": "barpolar"
           }
          ],
          "carpet": [
           {
            "aaxis": {
             "endlinecolor": "#2a3f5f",
             "gridcolor": "white",
             "linecolor": "white",
             "minorgridcolor": "white",
             "startlinecolor": "#2a3f5f"
            },
            "baxis": {
             "endlinecolor": "#2a3f5f",
             "gridcolor": "white",
             "linecolor": "white",
             "minorgridcolor": "white",
             "startlinecolor": "#2a3f5f"
            },
            "type": "carpet"
           }
          ],
          "choropleth": [
           {
            "colorbar": {
             "outlinewidth": 0,
             "ticks": ""
            },
            "type": "choropleth"
           }
          ],
          "contour": [
           {
            "colorbar": {
             "outlinewidth": 0,
             "ticks": ""
            },
            "colorscale": [
             [
              0,
              "#0d0887"
             ],
             [
              0.1111111111111111,
              "#46039f"
             ],
             [
              0.2222222222222222,
              "#7201a8"
             ],
             [
              0.3333333333333333,
              "#9c179e"
             ],
             [
              0.4444444444444444,
              "#bd3786"
             ],
             [
              0.5555555555555556,
              "#d8576b"
             ],
             [
              0.6666666666666666,
              "#ed7953"
             ],
             [
              0.7777777777777778,
              "#fb9f3a"
             ],
             [
              0.8888888888888888,
              "#fdca26"
             ],
             [
              1,
              "#f0f921"
             ]
            ],
            "type": "contour"
           }
          ],
          "contourcarpet": [
           {
            "colorbar": {
             "outlinewidth": 0,
             "ticks": ""
            },
            "type": "contourcarpet"
           }
          ],
          "heatmap": [
           {
            "colorbar": {
             "outlinewidth": 0,
             "ticks": ""
            },
            "colorscale": [
             [
              0,
              "#0d0887"
             ],
             [
              0.1111111111111111,
              "#46039f"
             ],
             [
              0.2222222222222222,
              "#7201a8"
             ],
             [
              0.3333333333333333,
              "#9c179e"
             ],
             [
              0.4444444444444444,
              "#bd3786"
             ],
             [
              0.5555555555555556,
              "#d8576b"
             ],
             [
              0.6666666666666666,
              "#ed7953"
             ],
             [
              0.7777777777777778,
              "#fb9f3a"
             ],
             [
              0.8888888888888888,
              "#fdca26"
             ],
             [
              1,
              "#f0f921"
             ]
            ],
            "type": "heatmap"
           }
          ],
          "heatmapgl": [
           {
            "colorbar": {
             "outlinewidth": 0,
             "ticks": ""
            },
            "colorscale": [
             [
              0,
              "#0d0887"
             ],
             [
              0.1111111111111111,
              "#46039f"
             ],
             [
              0.2222222222222222,
              "#7201a8"
             ],
             [
              0.3333333333333333,
              "#9c179e"
             ],
             [
              0.4444444444444444,
              "#bd3786"
             ],
             [
              0.5555555555555556,
              "#d8576b"
             ],
             [
              0.6666666666666666,
              "#ed7953"
             ],
             [
              0.7777777777777778,
              "#fb9f3a"
             ],
             [
              0.8888888888888888,
              "#fdca26"
             ],
             [
              1,
              "#f0f921"
             ]
            ],
            "type": "heatmapgl"
           }
          ],
          "histogram": [
           {
            "marker": {
             "pattern": {
              "fillmode": "overlay",
              "size": 10,
              "solidity": 0.2
             }
            },
            "type": "histogram"
           }
          ],
          "histogram2d": [
           {
            "colorbar": {
             "outlinewidth": 0,
             "ticks": ""
            },
            "colorscale": [
             [
              0,
              "#0d0887"
             ],
             [
              0.1111111111111111,
              "#46039f"
             ],
             [
              0.2222222222222222,
              "#7201a8"
             ],
             [
              0.3333333333333333,
              "#9c179e"
             ],
             [
              0.4444444444444444,
              "#bd3786"
             ],
             [
              0.5555555555555556,
              "#d8576b"
             ],
             [
              0.6666666666666666,
              "#ed7953"
             ],
             [
              0.7777777777777778,
              "#fb9f3a"
             ],
             [
              0.8888888888888888,
              "#fdca26"
             ],
             [
              1,
              "#f0f921"
             ]
            ],
            "type": "histogram2d"
           }
          ],
          "histogram2dcontour": [
           {
            "colorbar": {
             "outlinewidth": 0,
             "ticks": ""
            },
            "colorscale": [
             [
              0,
              "#0d0887"
             ],
             [
              0.1111111111111111,
              "#46039f"
             ],
             [
              0.2222222222222222,
              "#7201a8"
             ],
             [
              0.3333333333333333,
              "#9c179e"
             ],
             [
              0.4444444444444444,
              "#bd3786"
             ],
             [
              0.5555555555555556,
              "#d8576b"
             ],
             [
              0.6666666666666666,
              "#ed7953"
             ],
             [
              0.7777777777777778,
              "#fb9f3a"
             ],
             [
              0.8888888888888888,
              "#fdca26"
             ],
             [
              1,
              "#f0f921"
             ]
            ],
            "type": "histogram2dcontour"
           }
          ],
          "mesh3d": [
           {
            "colorbar": {
             "outlinewidth": 0,
             "ticks": ""
            },
            "type": "mesh3d"
           }
          ],
          "parcoords": [
           {
            "line": {
             "colorbar": {
              "outlinewidth": 0,
              "ticks": ""
             }
            },
            "type": "parcoords"
           }
          ],
          "pie": [
           {
            "automargin": true,
            "type": "pie"
           }
          ],
          "scatter": [
           {
            "fillpattern": {
             "fillmode": "overlay",
             "size": 10,
             "solidity": 0.2
            },
            "type": "scatter"
           }
          ],
          "scatter3d": [
           {
            "line": {
             "colorbar": {
              "outlinewidth": 0,
              "ticks": ""
             }
            },
            "marker": {
             "colorbar": {
              "outlinewidth": 0,
              "ticks": ""
             }
            },
            "type": "scatter3d"
           }
          ],
          "scattercarpet": [
           {
            "marker": {
             "colorbar": {
              "outlinewidth": 0,
              "ticks": ""
             }
            },
            "type": "scattercarpet"
           }
          ],
          "scattergeo": [
           {
            "marker": {
             "colorbar": {
              "outlinewidth": 0,
              "ticks": ""
             }
            },
            "type": "scattergeo"
           }
          ],
          "scattergl": [
           {
            "marker": {
             "colorbar": {
              "outlinewidth": 0,
              "ticks": ""
             }
            },
            "type": "scattergl"
           }
          ],
          "scattermapbox": [
           {
            "marker": {
             "colorbar": {
              "outlinewidth": 0,
              "ticks": ""
             }
            },
            "type": "scattermapbox"
           }
          ],
          "scatterpolar": [
           {
            "marker": {
             "colorbar": {
              "outlinewidth": 0,
              "ticks": ""
             }
            },
            "type": "scatterpolar"
           }
          ],
          "scatterpolargl": [
           {
            "marker": {
             "colorbar": {
              "outlinewidth": 0,
              "ticks": ""
             }
            },
            "type": "scatterpolargl"
           }
          ],
          "scatterternary": [
           {
            "marker": {
             "colorbar": {
              "outlinewidth": 0,
              "ticks": ""
             }
            },
            "type": "scatterternary"
           }
          ],
          "surface": [
           {
            "colorbar": {
             "outlinewidth": 0,
             "ticks": ""
            },
            "colorscale": [
             [
              0,
              "#0d0887"
             ],
             [
              0.1111111111111111,
              "#46039f"
             ],
             [
              0.2222222222222222,
              "#7201a8"
             ],
             [
              0.3333333333333333,
              "#9c179e"
             ],
             [
              0.4444444444444444,
              "#bd3786"
             ],
             [
              0.5555555555555556,
              "#d8576b"
             ],
             [
              0.6666666666666666,
              "#ed7953"
             ],
             [
              0.7777777777777778,
              "#fb9f3a"
             ],
             [
              0.8888888888888888,
              "#fdca26"
             ],
             [
              1,
              "#f0f921"
             ]
            ],
            "type": "surface"
           }
          ],
          "table": [
           {
            "cells": {
             "fill": {
              "color": "#EBF0F8"
             },
             "line": {
              "color": "white"
             }
            },
            "header": {
             "fill": {
              "color": "#C8D4E3"
             },
             "line": {
              "color": "white"
             }
            },
            "type": "table"
           }
          ]
         },
         "layout": {
          "annotationdefaults": {
           "arrowcolor": "#2a3f5f",
           "arrowhead": 0,
           "arrowwidth": 1
          },
          "autotypenumbers": "strict",
          "coloraxis": {
           "colorbar": {
            "outlinewidth": 0,
            "ticks": ""
           }
          },
          "colorscale": {
           "diverging": [
            [
             0,
             "#8e0152"
            ],
            [
             0.1,
             "#c51b7d"
            ],
            [
             0.2,
             "#de77ae"
            ],
            [
             0.3,
             "#f1b6da"
            ],
            [
             0.4,
             "#fde0ef"
            ],
            [
             0.5,
             "#f7f7f7"
            ],
            [
             0.6,
             "#e6f5d0"
            ],
            [
             0.7,
             "#b8e186"
            ],
            [
             0.8,
             "#7fbc41"
            ],
            [
             0.9,
             "#4d9221"
            ],
            [
             1,
             "#276419"
            ]
           ],
           "sequential": [
            [
             0,
             "#0d0887"
            ],
            [
             0.1111111111111111,
             "#46039f"
            ],
            [
             0.2222222222222222,
             "#7201a8"
            ],
            [
             0.3333333333333333,
             "#9c179e"
            ],
            [
             0.4444444444444444,
             "#bd3786"
            ],
            [
             0.5555555555555556,
             "#d8576b"
            ],
            [
             0.6666666666666666,
             "#ed7953"
            ],
            [
             0.7777777777777778,
             "#fb9f3a"
            ],
            [
             0.8888888888888888,
             "#fdca26"
            ],
            [
             1,
             "#f0f921"
            ]
           ],
           "sequentialminus": [
            [
             0,
             "#0d0887"
            ],
            [
             0.1111111111111111,
             "#46039f"
            ],
            [
             0.2222222222222222,
             "#7201a8"
            ],
            [
             0.3333333333333333,
             "#9c179e"
            ],
            [
             0.4444444444444444,
             "#bd3786"
            ],
            [
             0.5555555555555556,
             "#d8576b"
            ],
            [
             0.6666666666666666,
             "#ed7953"
            ],
            [
             0.7777777777777778,
             "#fb9f3a"
            ],
            [
             0.8888888888888888,
             "#fdca26"
            ],
            [
             1,
             "#f0f921"
            ]
           ]
          },
          "colorway": [
           "#636efa",
           "#EF553B",
           "#00cc96",
           "#ab63fa",
           "#FFA15A",
           "#19d3f3",
           "#FF6692",
           "#B6E880",
           "#FF97FF",
           "#FECB52"
          ],
          "font": {
           "color": "#2a3f5f"
          },
          "geo": {
           "bgcolor": "white",
           "lakecolor": "white",
           "landcolor": "#E5ECF6",
           "showlakes": true,
           "showland": true,
           "subunitcolor": "white"
          },
          "hoverlabel": {
           "align": "left"
          },
          "hovermode": "closest",
          "mapbox": {
           "style": "light"
          },
          "paper_bgcolor": "white",
          "plot_bgcolor": "#E5ECF6",
          "polar": {
           "angularaxis": {
            "gridcolor": "white",
            "linecolor": "white",
            "ticks": ""
           },
           "bgcolor": "#E5ECF6",
           "radialaxis": {
            "gridcolor": "white",
            "linecolor": "white",
            "ticks": ""
           }
          },
          "scene": {
           "xaxis": {
            "backgroundcolor": "#E5ECF6",
            "gridcolor": "white",
            "gridwidth": 2,
            "linecolor": "white",
            "showbackground": true,
            "ticks": "",
            "zerolinecolor": "white"
           },
           "yaxis": {
            "backgroundcolor": "#E5ECF6",
            "gridcolor": "white",
            "gridwidth": 2,
            "linecolor": "white",
            "showbackground": true,
            "ticks": "",
            "zerolinecolor": "white"
           },
           "zaxis": {
            "backgroundcolor": "#E5ECF6",
            "gridcolor": "white",
            "gridwidth": 2,
            "linecolor": "white",
            "showbackground": true,
            "ticks": "",
            "zerolinecolor": "white"
           }
          },
          "shapedefaults": {
           "line": {
            "color": "#2a3f5f"
           }
          },
          "ternary": {
           "aaxis": {
            "gridcolor": "white",
            "linecolor": "white",
            "ticks": ""
           },
           "baxis": {
            "gridcolor": "white",
            "linecolor": "white",
            "ticks": ""
           },
           "bgcolor": "#E5ECF6",
           "caxis": {
            "gridcolor": "white",
            "linecolor": "white",
            "ticks": ""
           }
          },
          "title": {
           "x": 0.05
          },
          "xaxis": {
           "automargin": true,
           "gridcolor": "white",
           "linecolor": "white",
           "ticks": "",
           "title": {
            "standoff": 15
           },
           "zerolinecolor": "white",
           "zerolinewidth": 2
          },
          "yaxis": {
           "automargin": true,
           "gridcolor": "white",
           "linecolor": "white",
           "ticks": "",
           "title": {
            "standoff": 15
           },
           "zerolinecolor": "white",
           "zerolinewidth": 2
          }
         }
        },
        "title": {
         "text": "Boxsplot of Numeric Columns"
        },
        "xaxis": {
         "anchor": "y",
         "domain": [
          0,
          0.2125
         ]
        },
        "xaxis2": {
         "anchor": "y2",
         "domain": [
          0.2625,
          0.475
         ]
        },
        "xaxis3": {
         "anchor": "y3",
         "domain": [
          0.525,
          0.7375
         ]
        },
        "xaxis4": {
         "anchor": "y4",
         "domain": [
          0.7875,
          1
         ]
        },
        "yaxis": {
         "anchor": "x",
         "domain": [
          0,
          1
         ]
        },
        "yaxis2": {
         "anchor": "x2",
         "domain": [
          0,
          1
         ]
        },
        "yaxis3": {
         "anchor": "x3",
         "domain": [
          0,
          1
         ]
        },
        "yaxis4": {
         "anchor": "x4",
         "domain": [
          0,
          1
         ]
        }
       }
      }
     },
     "metadata": {},
     "output_type": "display_data"
    }
   ],
   "source": [
    "fig = go.Figure()\n",
    "fig = make_subplots(rows=1, cols=len(numeric_columns))\n",
    "for i, var in enumerate(numeric_columns):\n",
    "    fig.add_trace(\n",
    "        go.Box(y=df[var],\n",
    "        name=var,\n",
    "        boxmean=True),\n",
    "        row=1, col=i+1\n",
    "    )\n",
    "fig.update_layout(title=dict(text=\"Boxsplot of Numeric Columns\"), showlegend=False)\n",
    "fig.update_traces(jitter=.3)"
   ]
  },
  {
   "attachments": {},
   "cell_type": "markdown",
   "metadata": {},
   "source": [
    "<p style=\"font-size: 15px\">Com o boxsplot é possível perceber a existência de outlier e o quão distantes eles estão da média, ou seja, para essa quantidade de jogos a média é baixa em comparação ao valor máximo demonstrando que poucos jogos são muito populares dentre os jogadores que utilizam a plataforma.</p>\n",
    "<p style=\"font-size: 15px\">Um destaque para as variáveis Plays e Playing, que demostram a quantidade de jogadores totais e a quantidade de jogadores ativos respectivamente, onde a média de jogadores ativos é muito menor que a média de jogadores totais, ou seja, a maioria dos jogadores não mantém ativos em um jogo.</p>"
   ]
  },
  {
   "attachments": {},
   "cell_type": "markdown",
   "metadata": {},
   "source": [
    "### Popularity Gender"
   ]
  },
  {
   "cell_type": "code",
   "execution_count": 46,
   "metadata": {},
   "outputs": [
    {
     "data": {
      "text/plain": [
       "Adventure            1005\n",
       "RPG                   515\n",
       "Shooter               351\n",
       "Platform              329\n",
       "Indie                 282\n",
       "Puzzle                174\n",
       "Brawler               157\n",
       "Strategy              142\n",
       "Simulator             125\n",
       "TurnBasedStrategy      99\n",
       "dtype: int64"
      ]
     },
     "execution_count": 46,
     "metadata": {},
     "output_type": "execute_result"
    }
   ],
   "source": [
    "genres = df[\"Genres\"].str.get_dummies(\",\")\n",
    "genres.sum().sort_values(ascending=False).head(10)"
   ]
  },
  {
   "cell_type": "code",
   "execution_count": 47,
   "metadata": {},
   "outputs": [
    {
     "data": {
      "application/vnd.plotly.v1+json": {
       "config": {
        "plotlyServerURL": "https://plot.ly"
       },
       "data": [
        {
         "alignmentgroup": "True",
         "hovertemplate": "color=Adventure<br>x=%{x}<br>y=%{y}<br>text=%{text}<extra></extra>",
         "legendgroup": "Adventure",
         "marker": {
          "color": "rgb(102, 197, 204)",
          "pattern": {
           "shape": ""
          }
         },
         "name": "Adventure",
         "offsetgroup": "Adventure",
         "orientation": "h",
         "showlegend": true,
         "text": [
          1005
         ],
         "textposition": "auto",
         "type": "bar",
         "x": [
          1005
         ],
         "xaxis": "x",
         "y": [
          "Adventure"
         ],
         "yaxis": "y"
        },
        {
         "alignmentgroup": "True",
         "hovertemplate": "color=RPG<br>x=%{x}<br>y=%{y}<br>text=%{text}<extra></extra>",
         "legendgroup": "RPG",
         "marker": {
          "color": "rgb(246, 207, 113)",
          "pattern": {
           "shape": ""
          }
         },
         "name": "RPG",
         "offsetgroup": "RPG",
         "orientation": "h",
         "showlegend": true,
         "text": [
          515
         ],
         "textposition": "auto",
         "type": "bar",
         "x": [
          515
         ],
         "xaxis": "x",
         "y": [
          "RPG"
         ],
         "yaxis": "y"
        },
        {
         "alignmentgroup": "True",
         "hovertemplate": "color=Shooter<br>x=%{x}<br>y=%{y}<br>text=%{text}<extra></extra>",
         "legendgroup": "Shooter",
         "marker": {
          "color": "rgb(248, 156, 116)",
          "pattern": {
           "shape": ""
          }
         },
         "name": "Shooter",
         "offsetgroup": "Shooter",
         "orientation": "h",
         "showlegend": true,
         "text": [
          351
         ],
         "textposition": "auto",
         "type": "bar",
         "x": [
          351
         ],
         "xaxis": "x",
         "y": [
          "Shooter"
         ],
         "yaxis": "y"
        },
        {
         "alignmentgroup": "True",
         "hovertemplate": "color=Platform<br>x=%{x}<br>y=%{y}<br>text=%{text}<extra></extra>",
         "legendgroup": "Platform",
         "marker": {
          "color": "rgb(220, 176, 242)",
          "pattern": {
           "shape": ""
          }
         },
         "name": "Platform",
         "offsetgroup": "Platform",
         "orientation": "h",
         "showlegend": true,
         "text": [
          329
         ],
         "textposition": "auto",
         "type": "bar",
         "x": [
          329
         ],
         "xaxis": "x",
         "y": [
          "Platform"
         ],
         "yaxis": "y"
        },
        {
         "alignmentgroup": "True",
         "hovertemplate": "color=Indie<br>x=%{x}<br>y=%{y}<br>text=%{text}<extra></extra>",
         "legendgroup": "Indie",
         "marker": {
          "color": "rgb(135, 197, 95)",
          "pattern": {
           "shape": ""
          }
         },
         "name": "Indie",
         "offsetgroup": "Indie",
         "orientation": "h",
         "showlegend": true,
         "text": [
          282
         ],
         "textposition": "auto",
         "type": "bar",
         "x": [
          282
         ],
         "xaxis": "x",
         "y": [
          "Indie"
         ],
         "yaxis": "y"
        },
        {
         "alignmentgroup": "True",
         "hovertemplate": "color=Puzzle<br>x=%{x}<br>y=%{y}<br>text=%{text}<extra></extra>",
         "legendgroup": "Puzzle",
         "marker": {
          "color": "rgb(158, 185, 243)",
          "pattern": {
           "shape": ""
          }
         },
         "name": "Puzzle",
         "offsetgroup": "Puzzle",
         "orientation": "h",
         "showlegend": true,
         "text": [
          174
         ],
         "textposition": "auto",
         "type": "bar",
         "x": [
          174
         ],
         "xaxis": "x",
         "y": [
          "Puzzle"
         ],
         "yaxis": "y"
        },
        {
         "alignmentgroup": "True",
         "hovertemplate": "color=Brawler<br>x=%{x}<br>y=%{y}<br>text=%{text}<extra></extra>",
         "legendgroup": "Brawler",
         "marker": {
          "color": "rgb(254, 136, 177)",
          "pattern": {
           "shape": ""
          }
         },
         "name": "Brawler",
         "offsetgroup": "Brawler",
         "orientation": "h",
         "showlegend": true,
         "text": [
          157
         ],
         "textposition": "auto",
         "type": "bar",
         "x": [
          157
         ],
         "xaxis": "x",
         "y": [
          "Brawler"
         ],
         "yaxis": "y"
        },
        {
         "alignmentgroup": "True",
         "hovertemplate": "color=Strategy<br>x=%{x}<br>y=%{y}<br>text=%{text}<extra></extra>",
         "legendgroup": "Strategy",
         "marker": {
          "color": "rgb(201, 219, 116)",
          "pattern": {
           "shape": ""
          }
         },
         "name": "Strategy",
         "offsetgroup": "Strategy",
         "orientation": "h",
         "showlegend": true,
         "text": [
          142
         ],
         "textposition": "auto",
         "type": "bar",
         "x": [
          142
         ],
         "xaxis": "x",
         "y": [
          "Strategy"
         ],
         "yaxis": "y"
        },
        {
         "alignmentgroup": "True",
         "hovertemplate": "color=Simulator<br>x=%{x}<br>y=%{y}<br>text=%{text}<extra></extra>",
         "legendgroup": "Simulator",
         "marker": {
          "color": "rgb(139, 224, 164)",
          "pattern": {
           "shape": ""
          }
         },
         "name": "Simulator",
         "offsetgroup": "Simulator",
         "orientation": "h",
         "showlegend": true,
         "text": [
          125
         ],
         "textposition": "auto",
         "type": "bar",
         "x": [
          125
         ],
         "xaxis": "x",
         "y": [
          "Simulator"
         ],
         "yaxis": "y"
        },
        {
         "alignmentgroup": "True",
         "hovertemplate": "color=TurnBasedStrategy<br>x=%{x}<br>y=%{y}<br>text=%{text}<extra></extra>",
         "legendgroup": "TurnBasedStrategy",
         "marker": {
          "color": "rgb(180, 151, 231)",
          "pattern": {
           "shape": ""
          }
         },
         "name": "TurnBasedStrategy",
         "offsetgroup": "TurnBasedStrategy",
         "orientation": "h",
         "showlegend": true,
         "text": [
          99
         ],
         "textposition": "auto",
         "type": "bar",
         "x": [
          99
         ],
         "xaxis": "x",
         "y": [
          "TurnBasedStrategy"
         ],
         "yaxis": "y"
        }
       ],
       "layout": {
        "barmode": "relative",
        "hovermode": false,
        "legend": {
         "title": {
          "text": "color"
         },
         "tracegroupgap": 0
        },
        "showlegend": false,
        "template": {
         "data": {
          "bar": [
           {
            "error_x": {
             "color": "#2a3f5f"
            },
            "error_y": {
             "color": "#2a3f5f"
            },
            "marker": {
             "line": {
              "color": "#E5ECF6",
              "width": 0.5
             },
             "pattern": {
              "fillmode": "overlay",
              "size": 10,
              "solidity": 0.2
             }
            },
            "type": "bar"
           }
          ],
          "barpolar": [
           {
            "marker": {
             "line": {
              "color": "#E5ECF6",
              "width": 0.5
             },
             "pattern": {
              "fillmode": "overlay",
              "size": 10,
              "solidity": 0.2
             }
            },
            "type": "barpolar"
           }
          ],
          "carpet": [
           {
            "aaxis": {
             "endlinecolor": "#2a3f5f",
             "gridcolor": "white",
             "linecolor": "white",
             "minorgridcolor": "white",
             "startlinecolor": "#2a3f5f"
            },
            "baxis": {
             "endlinecolor": "#2a3f5f",
             "gridcolor": "white",
             "linecolor": "white",
             "minorgridcolor": "white",
             "startlinecolor": "#2a3f5f"
            },
            "type": "carpet"
           }
          ],
          "choropleth": [
           {
            "colorbar": {
             "outlinewidth": 0,
             "ticks": ""
            },
            "type": "choropleth"
           }
          ],
          "contour": [
           {
            "colorbar": {
             "outlinewidth": 0,
             "ticks": ""
            },
            "colorscale": [
             [
              0,
              "#0d0887"
             ],
             [
              0.1111111111111111,
              "#46039f"
             ],
             [
              0.2222222222222222,
              "#7201a8"
             ],
             [
              0.3333333333333333,
              "#9c179e"
             ],
             [
              0.4444444444444444,
              "#bd3786"
             ],
             [
              0.5555555555555556,
              "#d8576b"
             ],
             [
              0.6666666666666666,
              "#ed7953"
             ],
             [
              0.7777777777777778,
              "#fb9f3a"
             ],
             [
              0.8888888888888888,
              "#fdca26"
             ],
             [
              1,
              "#f0f921"
             ]
            ],
            "type": "contour"
           }
          ],
          "contourcarpet": [
           {
            "colorbar": {
             "outlinewidth": 0,
             "ticks": ""
            },
            "type": "contourcarpet"
           }
          ],
          "heatmap": [
           {
            "colorbar": {
             "outlinewidth": 0,
             "ticks": ""
            },
            "colorscale": [
             [
              0,
              "#0d0887"
             ],
             [
              0.1111111111111111,
              "#46039f"
             ],
             [
              0.2222222222222222,
              "#7201a8"
             ],
             [
              0.3333333333333333,
              "#9c179e"
             ],
             [
              0.4444444444444444,
              "#bd3786"
             ],
             [
              0.5555555555555556,
              "#d8576b"
             ],
             [
              0.6666666666666666,
              "#ed7953"
             ],
             [
              0.7777777777777778,
              "#fb9f3a"
             ],
             [
              0.8888888888888888,
              "#fdca26"
             ],
             [
              1,
              "#f0f921"
             ]
            ],
            "type": "heatmap"
           }
          ],
          "heatmapgl": [
           {
            "colorbar": {
             "outlinewidth": 0,
             "ticks": ""
            },
            "colorscale": [
             [
              0,
              "#0d0887"
             ],
             [
              0.1111111111111111,
              "#46039f"
             ],
             [
              0.2222222222222222,
              "#7201a8"
             ],
             [
              0.3333333333333333,
              "#9c179e"
             ],
             [
              0.4444444444444444,
              "#bd3786"
             ],
             [
              0.5555555555555556,
              "#d8576b"
             ],
             [
              0.6666666666666666,
              "#ed7953"
             ],
             [
              0.7777777777777778,
              "#fb9f3a"
             ],
             [
              0.8888888888888888,
              "#fdca26"
             ],
             [
              1,
              "#f0f921"
             ]
            ],
            "type": "heatmapgl"
           }
          ],
          "histogram": [
           {
            "marker": {
             "pattern": {
              "fillmode": "overlay",
              "size": 10,
              "solidity": 0.2
             }
            },
            "type": "histogram"
           }
          ],
          "histogram2d": [
           {
            "colorbar": {
             "outlinewidth": 0,
             "ticks": ""
            },
            "colorscale": [
             [
              0,
              "#0d0887"
             ],
             [
              0.1111111111111111,
              "#46039f"
             ],
             [
              0.2222222222222222,
              "#7201a8"
             ],
             [
              0.3333333333333333,
              "#9c179e"
             ],
             [
              0.4444444444444444,
              "#bd3786"
             ],
             [
              0.5555555555555556,
              "#d8576b"
             ],
             [
              0.6666666666666666,
              "#ed7953"
             ],
             [
              0.7777777777777778,
              "#fb9f3a"
             ],
             [
              0.8888888888888888,
              "#fdca26"
             ],
             [
              1,
              "#f0f921"
             ]
            ],
            "type": "histogram2d"
           }
          ],
          "histogram2dcontour": [
           {
            "colorbar": {
             "outlinewidth": 0,
             "ticks": ""
            },
            "colorscale": [
             [
              0,
              "#0d0887"
             ],
             [
              0.1111111111111111,
              "#46039f"
             ],
             [
              0.2222222222222222,
              "#7201a8"
             ],
             [
              0.3333333333333333,
              "#9c179e"
             ],
             [
              0.4444444444444444,
              "#bd3786"
             ],
             [
              0.5555555555555556,
              "#d8576b"
             ],
             [
              0.6666666666666666,
              "#ed7953"
             ],
             [
              0.7777777777777778,
              "#fb9f3a"
             ],
             [
              0.8888888888888888,
              "#fdca26"
             ],
             [
              1,
              "#f0f921"
             ]
            ],
            "type": "histogram2dcontour"
           }
          ],
          "mesh3d": [
           {
            "colorbar": {
             "outlinewidth": 0,
             "ticks": ""
            },
            "type": "mesh3d"
           }
          ],
          "parcoords": [
           {
            "line": {
             "colorbar": {
              "outlinewidth": 0,
              "ticks": ""
             }
            },
            "type": "parcoords"
           }
          ],
          "pie": [
           {
            "automargin": true,
            "type": "pie"
           }
          ],
          "scatter": [
           {
            "fillpattern": {
             "fillmode": "overlay",
             "size": 10,
             "solidity": 0.2
            },
            "type": "scatter"
           }
          ],
          "scatter3d": [
           {
            "line": {
             "colorbar": {
              "outlinewidth": 0,
              "ticks": ""
             }
            },
            "marker": {
             "colorbar": {
              "outlinewidth": 0,
              "ticks": ""
             }
            },
            "type": "scatter3d"
           }
          ],
          "scattercarpet": [
           {
            "marker": {
             "colorbar": {
              "outlinewidth": 0,
              "ticks": ""
             }
            },
            "type": "scattercarpet"
           }
          ],
          "scattergeo": [
           {
            "marker": {
             "colorbar": {
              "outlinewidth": 0,
              "ticks": ""
             }
            },
            "type": "scattergeo"
           }
          ],
          "scattergl": [
           {
            "marker": {
             "colorbar": {
              "outlinewidth": 0,
              "ticks": ""
             }
            },
            "type": "scattergl"
           }
          ],
          "scattermapbox": [
           {
            "marker": {
             "colorbar": {
              "outlinewidth": 0,
              "ticks": ""
             }
            },
            "type": "scattermapbox"
           }
          ],
          "scatterpolar": [
           {
            "marker": {
             "colorbar": {
              "outlinewidth": 0,
              "ticks": ""
             }
            },
            "type": "scatterpolar"
           }
          ],
          "scatterpolargl": [
           {
            "marker": {
             "colorbar": {
              "outlinewidth": 0,
              "ticks": ""
             }
            },
            "type": "scatterpolargl"
           }
          ],
          "scatterternary": [
           {
            "marker": {
             "colorbar": {
              "outlinewidth": 0,
              "ticks": ""
             }
            },
            "type": "scatterternary"
           }
          ],
          "surface": [
           {
            "colorbar": {
             "outlinewidth": 0,
             "ticks": ""
            },
            "colorscale": [
             [
              0,
              "#0d0887"
             ],
             [
              0.1111111111111111,
              "#46039f"
             ],
             [
              0.2222222222222222,
              "#7201a8"
             ],
             [
              0.3333333333333333,
              "#9c179e"
             ],
             [
              0.4444444444444444,
              "#bd3786"
             ],
             [
              0.5555555555555556,
              "#d8576b"
             ],
             [
              0.6666666666666666,
              "#ed7953"
             ],
             [
              0.7777777777777778,
              "#fb9f3a"
             ],
             [
              0.8888888888888888,
              "#fdca26"
             ],
             [
              1,
              "#f0f921"
             ]
            ],
            "type": "surface"
           }
          ],
          "table": [
           {
            "cells": {
             "fill": {
              "color": "#EBF0F8"
             },
             "line": {
              "color": "white"
             }
            },
            "header": {
             "fill": {
              "color": "#C8D4E3"
             },
             "line": {
              "color": "white"
             }
            },
            "type": "table"
           }
          ]
         },
         "layout": {
          "annotationdefaults": {
           "arrowcolor": "#2a3f5f",
           "arrowhead": 0,
           "arrowwidth": 1
          },
          "autotypenumbers": "strict",
          "coloraxis": {
           "colorbar": {
            "outlinewidth": 0,
            "ticks": ""
           }
          },
          "colorscale": {
           "diverging": [
            [
             0,
             "#8e0152"
            ],
            [
             0.1,
             "#c51b7d"
            ],
            [
             0.2,
             "#de77ae"
            ],
            [
             0.3,
             "#f1b6da"
            ],
            [
             0.4,
             "#fde0ef"
            ],
            [
             0.5,
             "#f7f7f7"
            ],
            [
             0.6,
             "#e6f5d0"
            ],
            [
             0.7,
             "#b8e186"
            ],
            [
             0.8,
             "#7fbc41"
            ],
            [
             0.9,
             "#4d9221"
            ],
            [
             1,
             "#276419"
            ]
           ],
           "sequential": [
            [
             0,
             "#0d0887"
            ],
            [
             0.1111111111111111,
             "#46039f"
            ],
            [
             0.2222222222222222,
             "#7201a8"
            ],
            [
             0.3333333333333333,
             "#9c179e"
            ],
            [
             0.4444444444444444,
             "#bd3786"
            ],
            [
             0.5555555555555556,
             "#d8576b"
            ],
            [
             0.6666666666666666,
             "#ed7953"
            ],
            [
             0.7777777777777778,
             "#fb9f3a"
            ],
            [
             0.8888888888888888,
             "#fdca26"
            ],
            [
             1,
             "#f0f921"
            ]
           ],
           "sequentialminus": [
            [
             0,
             "#0d0887"
            ],
            [
             0.1111111111111111,
             "#46039f"
            ],
            [
             0.2222222222222222,
             "#7201a8"
            ],
            [
             0.3333333333333333,
             "#9c179e"
            ],
            [
             0.4444444444444444,
             "#bd3786"
            ],
            [
             0.5555555555555556,
             "#d8576b"
            ],
            [
             0.6666666666666666,
             "#ed7953"
            ],
            [
             0.7777777777777778,
             "#fb9f3a"
            ],
            [
             0.8888888888888888,
             "#fdca26"
            ],
            [
             1,
             "#f0f921"
            ]
           ]
          },
          "colorway": [
           "#636efa",
           "#EF553B",
           "#00cc96",
           "#ab63fa",
           "#FFA15A",
           "#19d3f3",
           "#FF6692",
           "#B6E880",
           "#FF97FF",
           "#FECB52"
          ],
          "font": {
           "color": "#2a3f5f"
          },
          "geo": {
           "bgcolor": "white",
           "lakecolor": "white",
           "landcolor": "#E5ECF6",
           "showlakes": true,
           "showland": true,
           "subunitcolor": "white"
          },
          "hoverlabel": {
           "align": "left"
          },
          "hovermode": "closest",
          "mapbox": {
           "style": "light"
          },
          "paper_bgcolor": "white",
          "plot_bgcolor": "#E5ECF6",
          "polar": {
           "angularaxis": {
            "gridcolor": "white",
            "linecolor": "white",
            "ticks": ""
           },
           "bgcolor": "#E5ECF6",
           "radialaxis": {
            "gridcolor": "white",
            "linecolor": "white",
            "ticks": ""
           }
          },
          "scene": {
           "xaxis": {
            "backgroundcolor": "#E5ECF6",
            "gridcolor": "white",
            "gridwidth": 2,
            "linecolor": "white",
            "showbackground": true,
            "ticks": "",
            "zerolinecolor": "white"
           },
           "yaxis": {
            "backgroundcolor": "#E5ECF6",
            "gridcolor": "white",
            "gridwidth": 2,
            "linecolor": "white",
            "showbackground": true,
            "ticks": "",
            "zerolinecolor": "white"
           },
           "zaxis": {
            "backgroundcolor": "#E5ECF6",
            "gridcolor": "white",
            "gridwidth": 2,
            "linecolor": "white",
            "showbackground": true,
            "ticks": "",
            "zerolinecolor": "white"
           }
          },
          "shapedefaults": {
           "line": {
            "color": "#2a3f5f"
           }
          },
          "ternary": {
           "aaxis": {
            "gridcolor": "white",
            "linecolor": "white",
            "ticks": ""
           },
           "baxis": {
            "gridcolor": "white",
            "linecolor": "white",
            "ticks": ""
           },
           "bgcolor": "#E5ECF6",
           "caxis": {
            "gridcolor": "white",
            "linecolor": "white",
            "ticks": ""
           }
          },
          "title": {
           "x": 0.05
          },
          "xaxis": {
           "automargin": true,
           "gridcolor": "white",
           "linecolor": "white",
           "ticks": "",
           "title": {
            "standoff": 15
           },
           "zerolinecolor": "white",
           "zerolinewidth": 2
          },
          "yaxis": {
           "automargin": true,
           "gridcolor": "white",
           "linecolor": "white",
           "ticks": "",
           "title": {
            "standoff": 15
           },
           "zerolinecolor": "white",
           "zerolinewidth": 2
          }
         }
        },
        "title": {
         "text": "Top 10 Genres With more Games"
        },
        "xaxis": {
         "anchor": "y",
         "domain": [
          0,
          1
         ],
         "showticklabels": true,
         "title": {
          "text": "Games Release"
         },
         "visible": true
        },
        "yaxis": {
         "anchor": "x",
         "autorange": "reversed",
         "domain": [
          0,
          1
         ],
         "showticklabels": true,
         "title": {
          "text": ""
         },
         "visible": true
        }
       }
      }
     },
     "metadata": {},
     "output_type": "display_data"
    }
   ],
   "source": [
    "fig = px.bar(x=genres.sum().sort_values(ascending=False).head(10), \n",
    "             y=genres.sum().sort_values(ascending=False).head(10).index,\n",
    "             title=\"Top 10 Genres With more Games\",\n",
    "             color=genres.sum().sort_values(ascending=False).head(10).index,\n",
    "             color_discrete_sequence=px.colors.qualitative.Pastel,\n",
    "             text=genres.sum().sort_values(ascending=False).head(10))\n",
    "\n",
    "fig.update_layout(hovermode=False)\n",
    "fig.update_yaxes(title='', visible=True, showticklabels=True, autorange=\"reversed\")\n",
    "fig.update_layout(showlegend=False)\n",
    "fig.update_xaxes(title='Games Release', visible=True, showticklabels=True)\n",
    "fig.show()"
   ]
  },
  {
   "attachments": {},
   "cell_type": "markdown",
   "metadata": {},
   "source": [
    "<p style=\"font-size: 15px\">Com o gráfico de barras é possível perceber que o gênero de aventura é muito mais frequente que os outros, mas os gêneros abaixo tem uma variação muito menor entre eles. Com essa informação podemos ver a preferencia dos jogadores da plataforma por esse gênero.</p>"
   ]
  },
  {
   "attachments": {},
   "cell_type": "markdown",
   "metadata": {},
   "source": [
    "### Month With more Realeases"
   ]
  },
  {
   "cell_type": "code",
   "execution_count": 48,
   "metadata": {},
   "outputs": [
    {
     "data": {
      "text/plain": [
       "Release Date\n",
       "January       89\n",
       "February     111\n",
       "March        139\n",
       "April         85\n",
       "May           83\n",
       "June         104\n",
       "July          91\n",
       "August        87\n",
       "September    189\n",
       "October      191\n",
       "November     218\n",
       "December     112\n",
       "Name: count, dtype: int64"
      ]
     },
     "execution_count": 48,
     "metadata": {},
     "output_type": "execute_result"
    }
   ],
   "source": [
    "order = ['January', 'February', 'March', 'April', 'May', 'June', 'July', 'August', 'September', 'October', 'November', 'December']\n",
    "\n",
    "df['Release Date'].dt.month_name().value_counts().reindex(order)"
   ]
  },
  {
   "cell_type": "code",
   "execution_count": 49,
   "metadata": {},
   "outputs": [
    {
     "data": {
      "application/vnd.plotly.v1+json": {
       "config": {
        "plotlyServerURL": "https://plot.ly"
       },
       "data": [
        {
         "hovertemplate": "Month=%{x}<br>Games Release=%{y}<extra></extra>",
         "legendgroup": "",
         "line": {
          "color": "rgb(102, 197, 204)",
          "dash": "solid"
         },
         "marker": {
          "symbol": "circle"
         },
         "mode": "markers+lines",
         "name": "",
         "orientation": "v",
         "showlegend": false,
         "type": "scatter",
         "x": [
          "January",
          "February",
          "March",
          "April",
          "May",
          "June",
          "July",
          "August",
          "September",
          "October",
          "November",
          "December"
         ],
         "xaxis": "x",
         "y": [
          89,
          111,
          139,
          85,
          83,
          104,
          91,
          87,
          189,
          191,
          218,
          112
         ],
         "yaxis": "y"
        }
       ],
       "layout": {
        "legend": {
         "tracegroupgap": 0
        },
        "template": {
         "data": {
          "bar": [
           {
            "error_x": {
             "color": "#2a3f5f"
            },
            "error_y": {
             "color": "#2a3f5f"
            },
            "marker": {
             "line": {
              "color": "#E5ECF6",
              "width": 0.5
             },
             "pattern": {
              "fillmode": "overlay",
              "size": 10,
              "solidity": 0.2
             }
            },
            "type": "bar"
           }
          ],
          "barpolar": [
           {
            "marker": {
             "line": {
              "color": "#E5ECF6",
              "width": 0.5
             },
             "pattern": {
              "fillmode": "overlay",
              "size": 10,
              "solidity": 0.2
             }
            },
            "type": "barpolar"
           }
          ],
          "carpet": [
           {
            "aaxis": {
             "endlinecolor": "#2a3f5f",
             "gridcolor": "white",
             "linecolor": "white",
             "minorgridcolor": "white",
             "startlinecolor": "#2a3f5f"
            },
            "baxis": {
             "endlinecolor": "#2a3f5f",
             "gridcolor": "white",
             "linecolor": "white",
             "minorgridcolor": "white",
             "startlinecolor": "#2a3f5f"
            },
            "type": "carpet"
           }
          ],
          "choropleth": [
           {
            "colorbar": {
             "outlinewidth": 0,
             "ticks": ""
            },
            "type": "choropleth"
           }
          ],
          "contour": [
           {
            "colorbar": {
             "outlinewidth": 0,
             "ticks": ""
            },
            "colorscale": [
             [
              0,
              "#0d0887"
             ],
             [
              0.1111111111111111,
              "#46039f"
             ],
             [
              0.2222222222222222,
              "#7201a8"
             ],
             [
              0.3333333333333333,
              "#9c179e"
             ],
             [
              0.4444444444444444,
              "#bd3786"
             ],
             [
              0.5555555555555556,
              "#d8576b"
             ],
             [
              0.6666666666666666,
              "#ed7953"
             ],
             [
              0.7777777777777778,
              "#fb9f3a"
             ],
             [
              0.8888888888888888,
              "#fdca26"
             ],
             [
              1,
              "#f0f921"
             ]
            ],
            "type": "contour"
           }
          ],
          "contourcarpet": [
           {
            "colorbar": {
             "outlinewidth": 0,
             "ticks": ""
            },
            "type": "contourcarpet"
           }
          ],
          "heatmap": [
           {
            "colorbar": {
             "outlinewidth": 0,
             "ticks": ""
            },
            "colorscale": [
             [
              0,
              "#0d0887"
             ],
             [
              0.1111111111111111,
              "#46039f"
             ],
             [
              0.2222222222222222,
              "#7201a8"
             ],
             [
              0.3333333333333333,
              "#9c179e"
             ],
             [
              0.4444444444444444,
              "#bd3786"
             ],
             [
              0.5555555555555556,
              "#d8576b"
             ],
             [
              0.6666666666666666,
              "#ed7953"
             ],
             [
              0.7777777777777778,
              "#fb9f3a"
             ],
             [
              0.8888888888888888,
              "#fdca26"
             ],
             [
              1,
              "#f0f921"
             ]
            ],
            "type": "heatmap"
           }
          ],
          "heatmapgl": [
           {
            "colorbar": {
             "outlinewidth": 0,
             "ticks": ""
            },
            "colorscale": [
             [
              0,
              "#0d0887"
             ],
             [
              0.1111111111111111,
              "#46039f"
             ],
             [
              0.2222222222222222,
              "#7201a8"
             ],
             [
              0.3333333333333333,
              "#9c179e"
             ],
             [
              0.4444444444444444,
              "#bd3786"
             ],
             [
              0.5555555555555556,
              "#d8576b"
             ],
             [
              0.6666666666666666,
              "#ed7953"
             ],
             [
              0.7777777777777778,
              "#fb9f3a"
             ],
             [
              0.8888888888888888,
              "#fdca26"
             ],
             [
              1,
              "#f0f921"
             ]
            ],
            "type": "heatmapgl"
           }
          ],
          "histogram": [
           {
            "marker": {
             "pattern": {
              "fillmode": "overlay",
              "size": 10,
              "solidity": 0.2
             }
            },
            "type": "histogram"
           }
          ],
          "histogram2d": [
           {
            "colorbar": {
             "outlinewidth": 0,
             "ticks": ""
            },
            "colorscale": [
             [
              0,
              "#0d0887"
             ],
             [
              0.1111111111111111,
              "#46039f"
             ],
             [
              0.2222222222222222,
              "#7201a8"
             ],
             [
              0.3333333333333333,
              "#9c179e"
             ],
             [
              0.4444444444444444,
              "#bd3786"
             ],
             [
              0.5555555555555556,
              "#d8576b"
             ],
             [
              0.6666666666666666,
              "#ed7953"
             ],
             [
              0.7777777777777778,
              "#fb9f3a"
             ],
             [
              0.8888888888888888,
              "#fdca26"
             ],
             [
              1,
              "#f0f921"
             ]
            ],
            "type": "histogram2d"
           }
          ],
          "histogram2dcontour": [
           {
            "colorbar": {
             "outlinewidth": 0,
             "ticks": ""
            },
            "colorscale": [
             [
              0,
              "#0d0887"
             ],
             [
              0.1111111111111111,
              "#46039f"
             ],
             [
              0.2222222222222222,
              "#7201a8"
             ],
             [
              0.3333333333333333,
              "#9c179e"
             ],
             [
              0.4444444444444444,
              "#bd3786"
             ],
             [
              0.5555555555555556,
              "#d8576b"
             ],
             [
              0.6666666666666666,
              "#ed7953"
             ],
             [
              0.7777777777777778,
              "#fb9f3a"
             ],
             [
              0.8888888888888888,
              "#fdca26"
             ],
             [
              1,
              "#f0f921"
             ]
            ],
            "type": "histogram2dcontour"
           }
          ],
          "mesh3d": [
           {
            "colorbar": {
             "outlinewidth": 0,
             "ticks": ""
            },
            "type": "mesh3d"
           }
          ],
          "parcoords": [
           {
            "line": {
             "colorbar": {
              "outlinewidth": 0,
              "ticks": ""
             }
            },
            "type": "parcoords"
           }
          ],
          "pie": [
           {
            "automargin": true,
            "type": "pie"
           }
          ],
          "scatter": [
           {
            "fillpattern": {
             "fillmode": "overlay",
             "size": 10,
             "solidity": 0.2
            },
            "type": "scatter"
           }
          ],
          "scatter3d": [
           {
            "line": {
             "colorbar": {
              "outlinewidth": 0,
              "ticks": ""
             }
            },
            "marker": {
             "colorbar": {
              "outlinewidth": 0,
              "ticks": ""
             }
            },
            "type": "scatter3d"
           }
          ],
          "scattercarpet": [
           {
            "marker": {
             "colorbar": {
              "outlinewidth": 0,
              "ticks": ""
             }
            },
            "type": "scattercarpet"
           }
          ],
          "scattergeo": [
           {
            "marker": {
             "colorbar": {
              "outlinewidth": 0,
              "ticks": ""
             }
            },
            "type": "scattergeo"
           }
          ],
          "scattergl": [
           {
            "marker": {
             "colorbar": {
              "outlinewidth": 0,
              "ticks": ""
             }
            },
            "type": "scattergl"
           }
          ],
          "scattermapbox": [
           {
            "marker": {
             "colorbar": {
              "outlinewidth": 0,
              "ticks": ""
             }
            },
            "type": "scattermapbox"
           }
          ],
          "scatterpolar": [
           {
            "marker": {
             "colorbar": {
              "outlinewidth": 0,
              "ticks": ""
             }
            },
            "type": "scatterpolar"
           }
          ],
          "scatterpolargl": [
           {
            "marker": {
             "colorbar": {
              "outlinewidth": 0,
              "ticks": ""
             }
            },
            "type": "scatterpolargl"
           }
          ],
          "scatterternary": [
           {
            "marker": {
             "colorbar": {
              "outlinewidth": 0,
              "ticks": ""
             }
            },
            "type": "scatterternary"
           }
          ],
          "surface": [
           {
            "colorbar": {
             "outlinewidth": 0,
             "ticks": ""
            },
            "colorscale": [
             [
              0,
              "#0d0887"
             ],
             [
              0.1111111111111111,
              "#46039f"
             ],
             [
              0.2222222222222222,
              "#7201a8"
             ],
             [
              0.3333333333333333,
              "#9c179e"
             ],
             [
              0.4444444444444444,
              "#bd3786"
             ],
             [
              0.5555555555555556,
              "#d8576b"
             ],
             [
              0.6666666666666666,
              "#ed7953"
             ],
             [
              0.7777777777777778,
              "#fb9f3a"
             ],
             [
              0.8888888888888888,
              "#fdca26"
             ],
             [
              1,
              "#f0f921"
             ]
            ],
            "type": "surface"
           }
          ],
          "table": [
           {
            "cells": {
             "fill": {
              "color": "#EBF0F8"
             },
             "line": {
              "color": "white"
             }
            },
            "header": {
             "fill": {
              "color": "#C8D4E3"
             },
             "line": {
              "color": "white"
             }
            },
            "type": "table"
           }
          ]
         },
         "layout": {
          "annotationdefaults": {
           "arrowcolor": "#2a3f5f",
           "arrowhead": 0,
           "arrowwidth": 1
          },
          "autotypenumbers": "strict",
          "coloraxis": {
           "colorbar": {
            "outlinewidth": 0,
            "ticks": ""
           }
          },
          "colorscale": {
           "diverging": [
            [
             0,
             "#8e0152"
            ],
            [
             0.1,
             "#c51b7d"
            ],
            [
             0.2,
             "#de77ae"
            ],
            [
             0.3,
             "#f1b6da"
            ],
            [
             0.4,
             "#fde0ef"
            ],
            [
             0.5,
             "#f7f7f7"
            ],
            [
             0.6,
             "#e6f5d0"
            ],
            [
             0.7,
             "#b8e186"
            ],
            [
             0.8,
             "#7fbc41"
            ],
            [
             0.9,
             "#4d9221"
            ],
            [
             1,
             "#276419"
            ]
           ],
           "sequential": [
            [
             0,
             "#0d0887"
            ],
            [
             0.1111111111111111,
             "#46039f"
            ],
            [
             0.2222222222222222,
             "#7201a8"
            ],
            [
             0.3333333333333333,
             "#9c179e"
            ],
            [
             0.4444444444444444,
             "#bd3786"
            ],
            [
             0.5555555555555556,
             "#d8576b"
            ],
            [
             0.6666666666666666,
             "#ed7953"
            ],
            [
             0.7777777777777778,
             "#fb9f3a"
            ],
            [
             0.8888888888888888,
             "#fdca26"
            ],
            [
             1,
             "#f0f921"
            ]
           ],
           "sequentialminus": [
            [
             0,
             "#0d0887"
            ],
            [
             0.1111111111111111,
             "#46039f"
            ],
            [
             0.2222222222222222,
             "#7201a8"
            ],
            [
             0.3333333333333333,
             "#9c179e"
            ],
            [
             0.4444444444444444,
             "#bd3786"
            ],
            [
             0.5555555555555556,
             "#d8576b"
            ],
            [
             0.6666666666666666,
             "#ed7953"
            ],
            [
             0.7777777777777778,
             "#fb9f3a"
            ],
            [
             0.8888888888888888,
             "#fdca26"
            ],
            [
             1,
             "#f0f921"
            ]
           ]
          },
          "colorway": [
           "#636efa",
           "#EF553B",
           "#00cc96",
           "#ab63fa",
           "#FFA15A",
           "#19d3f3",
           "#FF6692",
           "#B6E880",
           "#FF97FF",
           "#FECB52"
          ],
          "font": {
           "color": "#2a3f5f"
          },
          "geo": {
           "bgcolor": "white",
           "lakecolor": "white",
           "landcolor": "#E5ECF6",
           "showlakes": true,
           "showland": true,
           "subunitcolor": "white"
          },
          "hoverlabel": {
           "align": "left"
          },
          "hovermode": "closest",
          "mapbox": {
           "style": "light"
          },
          "paper_bgcolor": "white",
          "plot_bgcolor": "#E5ECF6",
          "polar": {
           "angularaxis": {
            "gridcolor": "white",
            "linecolor": "white",
            "ticks": ""
           },
           "bgcolor": "#E5ECF6",
           "radialaxis": {
            "gridcolor": "white",
            "linecolor": "white",
            "ticks": ""
           }
          },
          "scene": {
           "xaxis": {
            "backgroundcolor": "#E5ECF6",
            "gridcolor": "white",
            "gridwidth": 2,
            "linecolor": "white",
            "showbackground": true,
            "ticks": "",
            "zerolinecolor": "white"
           },
           "yaxis": {
            "backgroundcolor": "#E5ECF6",
            "gridcolor": "white",
            "gridwidth": 2,
            "linecolor": "white",
            "showbackground": true,
            "ticks": "",
            "zerolinecolor": "white"
           },
           "zaxis": {
            "backgroundcolor": "#E5ECF6",
            "gridcolor": "white",
            "gridwidth": 2,
            "linecolor": "white",
            "showbackground": true,
            "ticks": "",
            "zerolinecolor": "white"
           }
          },
          "shapedefaults": {
           "line": {
            "color": "#2a3f5f"
           }
          },
          "ternary": {
           "aaxis": {
            "gridcolor": "white",
            "linecolor": "white",
            "ticks": ""
           },
           "baxis": {
            "gridcolor": "white",
            "linecolor": "white",
            "ticks": ""
           },
           "bgcolor": "#E5ECF6",
           "caxis": {
            "gridcolor": "white",
            "linecolor": "white",
            "ticks": ""
           }
          },
          "title": {
           "x": 0.05
          },
          "xaxis": {
           "automargin": true,
           "gridcolor": "white",
           "linecolor": "white",
           "ticks": "",
           "title": {
            "standoff": 15
           },
           "zerolinecolor": "white",
           "zerolinewidth": 2
          },
          "yaxis": {
           "automargin": true,
           "gridcolor": "white",
           "linecolor": "white",
           "ticks": "",
           "title": {
            "standoff": 15
           },
           "zerolinecolor": "white",
           "zerolinewidth": 2
          }
         }
        },
        "title": {
         "text": "Games Release By Month"
        },
        "xaxis": {
         "anchor": "y",
         "domain": [
          0,
          1
         ],
         "showticklabels": true,
         "title": {
          "text": ""
         },
         "visible": true
        },
        "yaxis": {
         "anchor": "x",
         "domain": [
          0,
          1
         ],
         "showticklabels": true,
         "title": {
          "text": "Games Release"
         },
         "visible": true
        }
       }
      }
     },
     "metadata": {},
     "output_type": "display_data"
    }
   ],
   "source": [
    "df['Release Date'].dt.month_name().value_counts().reindex(order)\n",
    "fig = px.line(df['Release Date'].dt.month_name().value_counts().reindex(order), \n",
    "              x=order, y='count', \n",
    "              title='Games Release By Month',\n",
    "              labels={'count': 'Games Release', 'x': 'Month'},\n",
    "              color_discrete_sequence=px.colors.qualitative.Pastel)\n",
    "\n",
    "fig.update_traces(mode='markers+lines')\n",
    "fig.update_yaxes(title='Games Release', visible=True, showticklabels=True)\n",
    "fig.update_xaxes(title='', visible=True, showticklabels=True)\n",
    "fig.show()"
   ]
  },
  {
   "attachments": {},
   "cell_type": "markdown",
   "metadata": {},
   "source": [
    "<p style='font-size:15px;'>O gráfico mostra 3 meses consecutivos que tem muito mais lançamentos que os outros meses, sendo eles setembro, outubro e novembro, durante todo o resto do ano se tem bem menos lançamento que esses meses juntos. No mês de novembro tem 218 jogos lançados, sendo assim o mês que mais tem lançamentos.</p>"
   ]
  },
  {
   "attachments": {},
   "cell_type": "markdown",
   "metadata": {},
   "source": [
    "### Correlation Between Numeric Columns"
   ]
  },
  {
   "cell_type": "code",
   "execution_count": 50,
   "metadata": {},
   "outputs": [
    {
     "data": {
      "text/html": [
       "<div>\n",
       "<style scoped>\n",
       "    .dataframe tbody tr th:only-of-type {\n",
       "        vertical-align: middle;\n",
       "    }\n",
       "\n",
       "    .dataframe tbody tr th {\n",
       "        vertical-align: top;\n",
       "    }\n",
       "\n",
       "    .dataframe thead th {\n",
       "        text-align: right;\n",
       "    }\n",
       "</style>\n",
       "<table border=\"1\" class=\"dataframe\">\n",
       "  <thead>\n",
       "    <tr style=\"text-align: right;\">\n",
       "      <th></th>\n",
       "      <th>Reviews</th>\n",
       "      <th>Plays</th>\n",
       "      <th>Playing</th>\n",
       "      <th>Wishlist</th>\n",
       "    </tr>\n",
       "  </thead>\n",
       "  <tbody>\n",
       "    <tr>\n",
       "      <th>Reviews</th>\n",
       "      <td>1.000000</td>\n",
       "      <td>0.816397</td>\n",
       "      <td>0.684614</td>\n",
       "      <td>0.723284</td>\n",
       "    </tr>\n",
       "    <tr>\n",
       "      <th>Plays</th>\n",
       "      <td>0.816397</td>\n",
       "      <td>1.000000</td>\n",
       "      <td>0.535058</td>\n",
       "      <td>0.359889</td>\n",
       "    </tr>\n",
       "    <tr>\n",
       "      <th>Playing</th>\n",
       "      <td>0.684614</td>\n",
       "      <td>0.535058</td>\n",
       "      <td>1.000000</td>\n",
       "      <td>0.657310</td>\n",
       "    </tr>\n",
       "    <tr>\n",
       "      <th>Wishlist</th>\n",
       "      <td>0.723284</td>\n",
       "      <td>0.359889</td>\n",
       "      <td>0.657310</td>\n",
       "      <td>1.000000</td>\n",
       "    </tr>\n",
       "  </tbody>\n",
       "</table>\n",
       "</div>"
      ],
      "text/plain": [
       "           Reviews     Plays   Playing  Wishlist\n",
       "Reviews   1.000000  0.816397  0.684614  0.723284\n",
       "Plays     0.816397  1.000000  0.535058  0.359889\n",
       "Playing   0.684614  0.535058  1.000000  0.657310\n",
       "Wishlist  0.723284  0.359889  0.657310  1.000000"
      ]
     },
     "execution_count": 50,
     "metadata": {},
     "output_type": "execute_result"
    }
   ],
   "source": [
    "correlation = df[numeric_columns].corr()\n",
    "correlation"
   ]
  },
  {
   "cell_type": "code",
   "execution_count": 51,
   "metadata": {},
   "outputs": [
    {
     "data": {
      "application/vnd.plotly.v1+json": {
       "config": {
        "plotlyServerURL": "https://plot.ly"
       },
       "data": [
        {
         "coloraxis": "coloraxis",
         "hovertemplate": "Numeric Columns: %{x}<br>Numeric Columns: %{y}<br>Correlation: %{z}<extra></extra>",
         "name": "0",
         "type": "heatmap",
         "x": [
          "Reviews",
          "Plays",
          "Playing",
          "Wishlist"
         ],
         "xaxis": "x",
         "y": [
          "Reviews",
          "Plays",
          "Playing",
          "Wishlist"
         ],
         "yaxis": "y",
         "z": [
          [
           1,
           0.8163974577811995,
           0.684613840751116,
           0.7232843310638953
          ],
          [
           0.8163974577811995,
           1,
           0.5350578745599546,
           0.3598886219714501
          ],
          [
           0.684613840751116,
           0.5350578745599546,
           1,
           0.657309530286074
          ],
          [
           0.7232843310638953,
           0.3598886219714501,
           0.657309530286074,
           1
          ]
         ]
        }
       ],
       "layout": {
        "coloraxis": {
         "colorbar": {
          "title": {
           "text": "Correlation"
          }
         },
         "colorscale": [
          [
           0,
           "#0d0887"
          ],
          [
           0.1111111111111111,
           "#46039f"
          ],
          [
           0.2222222222222222,
           "#7201a8"
          ],
          [
           0.3333333333333333,
           "#9c179e"
          ],
          [
           0.4444444444444444,
           "#bd3786"
          ],
          [
           0.5555555555555556,
           "#d8576b"
          ],
          [
           0.6666666666666666,
           "#ed7953"
          ],
          [
           0.7777777777777778,
           "#fb9f3a"
          ],
          [
           0.8888888888888888,
           "#fdca26"
          ],
          [
           1,
           "#f0f921"
          ]
         ]
        },
        "template": {
         "data": {
          "bar": [
           {
            "error_x": {
             "color": "#2a3f5f"
            },
            "error_y": {
             "color": "#2a3f5f"
            },
            "marker": {
             "line": {
              "color": "#E5ECF6",
              "width": 0.5
             },
             "pattern": {
              "fillmode": "overlay",
              "size": 10,
              "solidity": 0.2
             }
            },
            "type": "bar"
           }
          ],
          "barpolar": [
           {
            "marker": {
             "line": {
              "color": "#E5ECF6",
              "width": 0.5
             },
             "pattern": {
              "fillmode": "overlay",
              "size": 10,
              "solidity": 0.2
             }
            },
            "type": "barpolar"
           }
          ],
          "carpet": [
           {
            "aaxis": {
             "endlinecolor": "#2a3f5f",
             "gridcolor": "white",
             "linecolor": "white",
             "minorgridcolor": "white",
             "startlinecolor": "#2a3f5f"
            },
            "baxis": {
             "endlinecolor": "#2a3f5f",
             "gridcolor": "white",
             "linecolor": "white",
             "minorgridcolor": "white",
             "startlinecolor": "#2a3f5f"
            },
            "type": "carpet"
           }
          ],
          "choropleth": [
           {
            "colorbar": {
             "outlinewidth": 0,
             "ticks": ""
            },
            "type": "choropleth"
           }
          ],
          "contour": [
           {
            "colorbar": {
             "outlinewidth": 0,
             "ticks": ""
            },
            "colorscale": [
             [
              0,
              "#0d0887"
             ],
             [
              0.1111111111111111,
              "#46039f"
             ],
             [
              0.2222222222222222,
              "#7201a8"
             ],
             [
              0.3333333333333333,
              "#9c179e"
             ],
             [
              0.4444444444444444,
              "#bd3786"
             ],
             [
              0.5555555555555556,
              "#d8576b"
             ],
             [
              0.6666666666666666,
              "#ed7953"
             ],
             [
              0.7777777777777778,
              "#fb9f3a"
             ],
             [
              0.8888888888888888,
              "#fdca26"
             ],
             [
              1,
              "#f0f921"
             ]
            ],
            "type": "contour"
           }
          ],
          "contourcarpet": [
           {
            "colorbar": {
             "outlinewidth": 0,
             "ticks": ""
            },
            "type": "contourcarpet"
           }
          ],
          "heatmap": [
           {
            "colorbar": {
             "outlinewidth": 0,
             "ticks": ""
            },
            "colorscale": [
             [
              0,
              "#0d0887"
             ],
             [
              0.1111111111111111,
              "#46039f"
             ],
             [
              0.2222222222222222,
              "#7201a8"
             ],
             [
              0.3333333333333333,
              "#9c179e"
             ],
             [
              0.4444444444444444,
              "#bd3786"
             ],
             [
              0.5555555555555556,
              "#d8576b"
             ],
             [
              0.6666666666666666,
              "#ed7953"
             ],
             [
              0.7777777777777778,
              "#fb9f3a"
             ],
             [
              0.8888888888888888,
              "#fdca26"
             ],
             [
              1,
              "#f0f921"
             ]
            ],
            "type": "heatmap"
           }
          ],
          "heatmapgl": [
           {
            "colorbar": {
             "outlinewidth": 0,
             "ticks": ""
            },
            "colorscale": [
             [
              0,
              "#0d0887"
             ],
             [
              0.1111111111111111,
              "#46039f"
             ],
             [
              0.2222222222222222,
              "#7201a8"
             ],
             [
              0.3333333333333333,
              "#9c179e"
             ],
             [
              0.4444444444444444,
              "#bd3786"
             ],
             [
              0.5555555555555556,
              "#d8576b"
             ],
             [
              0.6666666666666666,
              "#ed7953"
             ],
             [
              0.7777777777777778,
              "#fb9f3a"
             ],
             [
              0.8888888888888888,
              "#fdca26"
             ],
             [
              1,
              "#f0f921"
             ]
            ],
            "type": "heatmapgl"
           }
          ],
          "histogram": [
           {
            "marker": {
             "pattern": {
              "fillmode": "overlay",
              "size": 10,
              "solidity": 0.2
             }
            },
            "type": "histogram"
           }
          ],
          "histogram2d": [
           {
            "colorbar": {
             "outlinewidth": 0,
             "ticks": ""
            },
            "colorscale": [
             [
              0,
              "#0d0887"
             ],
             [
              0.1111111111111111,
              "#46039f"
             ],
             [
              0.2222222222222222,
              "#7201a8"
             ],
             [
              0.3333333333333333,
              "#9c179e"
             ],
             [
              0.4444444444444444,
              "#bd3786"
             ],
             [
              0.5555555555555556,
              "#d8576b"
             ],
             [
              0.6666666666666666,
              "#ed7953"
             ],
             [
              0.7777777777777778,
              "#fb9f3a"
             ],
             [
              0.8888888888888888,
              "#fdca26"
             ],
             [
              1,
              "#f0f921"
             ]
            ],
            "type": "histogram2d"
           }
          ],
          "histogram2dcontour": [
           {
            "colorbar": {
             "outlinewidth": 0,
             "ticks": ""
            },
            "colorscale": [
             [
              0,
              "#0d0887"
             ],
             [
              0.1111111111111111,
              "#46039f"
             ],
             [
              0.2222222222222222,
              "#7201a8"
             ],
             [
              0.3333333333333333,
              "#9c179e"
             ],
             [
              0.4444444444444444,
              "#bd3786"
             ],
             [
              0.5555555555555556,
              "#d8576b"
             ],
             [
              0.6666666666666666,
              "#ed7953"
             ],
             [
              0.7777777777777778,
              "#fb9f3a"
             ],
             [
              0.8888888888888888,
              "#fdca26"
             ],
             [
              1,
              "#f0f921"
             ]
            ],
            "type": "histogram2dcontour"
           }
          ],
          "mesh3d": [
           {
            "colorbar": {
             "outlinewidth": 0,
             "ticks": ""
            },
            "type": "mesh3d"
           }
          ],
          "parcoords": [
           {
            "line": {
             "colorbar": {
              "outlinewidth": 0,
              "ticks": ""
             }
            },
            "type": "parcoords"
           }
          ],
          "pie": [
           {
            "automargin": true,
            "type": "pie"
           }
          ],
          "scatter": [
           {
            "fillpattern": {
             "fillmode": "overlay",
             "size": 10,
             "solidity": 0.2
            },
            "type": "scatter"
           }
          ],
          "scatter3d": [
           {
            "line": {
             "colorbar": {
              "outlinewidth": 0,
              "ticks": ""
             }
            },
            "marker": {
             "colorbar": {
              "outlinewidth": 0,
              "ticks": ""
             }
            },
            "type": "scatter3d"
           }
          ],
          "scattercarpet": [
           {
            "marker": {
             "colorbar": {
              "outlinewidth": 0,
              "ticks": ""
             }
            },
            "type": "scattercarpet"
           }
          ],
          "scattergeo": [
           {
            "marker": {
             "colorbar": {
              "outlinewidth": 0,
              "ticks": ""
             }
            },
            "type": "scattergeo"
           }
          ],
          "scattergl": [
           {
            "marker": {
             "colorbar": {
              "outlinewidth": 0,
              "ticks": ""
             }
            },
            "type": "scattergl"
           }
          ],
          "scattermapbox": [
           {
            "marker": {
             "colorbar": {
              "outlinewidth": 0,
              "ticks": ""
             }
            },
            "type": "scattermapbox"
           }
          ],
          "scatterpolar": [
           {
            "marker": {
             "colorbar": {
              "outlinewidth": 0,
              "ticks": ""
             }
            },
            "type": "scatterpolar"
           }
          ],
          "scatterpolargl": [
           {
            "marker": {
             "colorbar": {
              "outlinewidth": 0,
              "ticks": ""
             }
            },
            "type": "scatterpolargl"
           }
          ],
          "scatterternary": [
           {
            "marker": {
             "colorbar": {
              "outlinewidth": 0,
              "ticks": ""
             }
            },
            "type": "scatterternary"
           }
          ],
          "surface": [
           {
            "colorbar": {
             "outlinewidth": 0,
             "ticks": ""
            },
            "colorscale": [
             [
              0,
              "#0d0887"
             ],
             [
              0.1111111111111111,
              "#46039f"
             ],
             [
              0.2222222222222222,
              "#7201a8"
             ],
             [
              0.3333333333333333,
              "#9c179e"
             ],
             [
              0.4444444444444444,
              "#bd3786"
             ],
             [
              0.5555555555555556,
              "#d8576b"
             ],
             [
              0.6666666666666666,
              "#ed7953"
             ],
             [
              0.7777777777777778,
              "#fb9f3a"
             ],
             [
              0.8888888888888888,
              "#fdca26"
             ],
             [
              1,
              "#f0f921"
             ]
            ],
            "type": "surface"
           }
          ],
          "table": [
           {
            "cells": {
             "fill": {
              "color": "#EBF0F8"
             },
             "line": {
              "color": "white"
             }
            },
            "header": {
             "fill": {
              "color": "#C8D4E3"
             },
             "line": {
              "color": "white"
             }
            },
            "type": "table"
           }
          ]
         },
         "layout": {
          "annotationdefaults": {
           "arrowcolor": "#2a3f5f",
           "arrowhead": 0,
           "arrowwidth": 1
          },
          "autotypenumbers": "strict",
          "coloraxis": {
           "colorbar": {
            "outlinewidth": 0,
            "ticks": ""
           }
          },
          "colorscale": {
           "diverging": [
            [
             0,
             "#8e0152"
            ],
            [
             0.1,
             "#c51b7d"
            ],
            [
             0.2,
             "#de77ae"
            ],
            [
             0.3,
             "#f1b6da"
            ],
            [
             0.4,
             "#fde0ef"
            ],
            [
             0.5,
             "#f7f7f7"
            ],
            [
             0.6,
             "#e6f5d0"
            ],
            [
             0.7,
             "#b8e186"
            ],
            [
             0.8,
             "#7fbc41"
            ],
            [
             0.9,
             "#4d9221"
            ],
            [
             1,
             "#276419"
            ]
           ],
           "sequential": [
            [
             0,
             "#0d0887"
            ],
            [
             0.1111111111111111,
             "#46039f"
            ],
            [
             0.2222222222222222,
             "#7201a8"
            ],
            [
             0.3333333333333333,
             "#9c179e"
            ],
            [
             0.4444444444444444,
             "#bd3786"
            ],
            [
             0.5555555555555556,
             "#d8576b"
            ],
            [
             0.6666666666666666,
             "#ed7953"
            ],
            [
             0.7777777777777778,
             "#fb9f3a"
            ],
            [
             0.8888888888888888,
             "#fdca26"
            ],
            [
             1,
             "#f0f921"
            ]
           ],
           "sequentialminus": [
            [
             0,
             "#0d0887"
            ],
            [
             0.1111111111111111,
             "#46039f"
            ],
            [
             0.2222222222222222,
             "#7201a8"
            ],
            [
             0.3333333333333333,
             "#9c179e"
            ],
            [
             0.4444444444444444,
             "#bd3786"
            ],
            [
             0.5555555555555556,
             "#d8576b"
            ],
            [
             0.6666666666666666,
             "#ed7953"
            ],
            [
             0.7777777777777778,
             "#fb9f3a"
            ],
            [
             0.8888888888888888,
             "#fdca26"
            ],
            [
             1,
             "#f0f921"
            ]
           ]
          },
          "colorway": [
           "#636efa",
           "#EF553B",
           "#00cc96",
           "#ab63fa",
           "#FFA15A",
           "#19d3f3",
           "#FF6692",
           "#B6E880",
           "#FF97FF",
           "#FECB52"
          ],
          "font": {
           "color": "#2a3f5f"
          },
          "geo": {
           "bgcolor": "white",
           "lakecolor": "white",
           "landcolor": "#E5ECF6",
           "showlakes": true,
           "showland": true,
           "subunitcolor": "white"
          },
          "hoverlabel": {
           "align": "left"
          },
          "hovermode": "closest",
          "mapbox": {
           "style": "light"
          },
          "paper_bgcolor": "white",
          "plot_bgcolor": "#E5ECF6",
          "polar": {
           "angularaxis": {
            "gridcolor": "white",
            "linecolor": "white",
            "ticks": ""
           },
           "bgcolor": "#E5ECF6",
           "radialaxis": {
            "gridcolor": "white",
            "linecolor": "white",
            "ticks": ""
           }
          },
          "scene": {
           "xaxis": {
            "backgroundcolor": "#E5ECF6",
            "gridcolor": "white",
            "gridwidth": 2,
            "linecolor": "white",
            "showbackground": true,
            "ticks": "",
            "zerolinecolor": "white"
           },
           "yaxis": {
            "backgroundcolor": "#E5ECF6",
            "gridcolor": "white",
            "gridwidth": 2,
            "linecolor": "white",
            "showbackground": true,
            "ticks": "",
            "zerolinecolor": "white"
           },
           "zaxis": {
            "backgroundcolor": "#E5ECF6",
            "gridcolor": "white",
            "gridwidth": 2,
            "linecolor": "white",
            "showbackground": true,
            "ticks": "",
            "zerolinecolor": "white"
           }
          },
          "shapedefaults": {
           "line": {
            "color": "#2a3f5f"
           }
          },
          "ternary": {
           "aaxis": {
            "gridcolor": "white",
            "linecolor": "white",
            "ticks": ""
           },
           "baxis": {
            "gridcolor": "white",
            "linecolor": "white",
            "ticks": ""
           },
           "bgcolor": "#E5ECF6",
           "caxis": {
            "gridcolor": "white",
            "linecolor": "white",
            "ticks": ""
           }
          },
          "title": {
           "x": 0.05
          },
          "xaxis": {
           "automargin": true,
           "gridcolor": "white",
           "linecolor": "white",
           "ticks": "",
           "title": {
            "standoff": 15
           },
           "zerolinecolor": "white",
           "zerolinewidth": 2
          },
          "yaxis": {
           "automargin": true,
           "gridcolor": "white",
           "linecolor": "white",
           "ticks": "",
           "title": {
            "standoff": 15
           },
           "zerolinecolor": "white",
           "zerolinewidth": 2
          }
         }
        },
        "title": {
         "text": "Correlation Between Numeric Columns"
        },
        "xaxis": {
         "anchor": "y",
         "constrain": "domain",
         "domain": [
          0,
          1
         ],
         "scaleanchor": "y",
         "title": {
          "text": "Numeric Columns"
         }
        },
        "yaxis": {
         "anchor": "x",
         "autorange": "reversed",
         "constrain": "domain",
         "domain": [
          0,
          1
         ],
         "title": {
          "text": "Numeric Columns"
         }
        }
       }
      }
     },
     "metadata": {},
     "output_type": "display_data"
    }
   ],
   "source": [
    "#tornar a matriz correlation em um gráfico de calor\n",
    "fig = px.imshow(correlation,\n",
    "                labels=dict(x=\"Numeric Columns\", y=\"Numeric Columns\", color=\"Correlation\"),\n",
    "                x=numeric_columns,\n",
    "                y=numeric_columns,\n",
    "                color_continuous_scale=px.colors.sequential.Plasma,\n",
    "                title=\"Correlation Between Numeric Columns\")\n",
    "fig.show()\n",
    "\n"
   ]
  },
  {
   "attachments": {},
   "cell_type": "markdown",
   "metadata": {},
   "source": [
    "<p style='font-size:15px;'>A matriz de responde a correlação existente entre as variáveis númericas, podemos perceber que existem duas relações fortes( Pearson = 0,7 a 0,9 ), três moderadas( Pearson = 0,5 a 0,7 ) e apenas uma relação fraca( Pearson = 0,3 a 0,5 )</p>"
   ]
  },
  {
   "attachments": {},
   "cell_type": "markdown",
   "metadata": {},
   "source": [
    "### Games By Year"
   ]
  },
  {
   "cell_type": "code",
   "execution_count": 52,
   "metadata": {},
   "outputs": [
    {
     "data": {
      "text/html": [
       "<div>\n",
       "<style scoped>\n",
       "    .dataframe tbody tr th:only-of-type {\n",
       "        vertical-align: middle;\n",
       "    }\n",
       "\n",
       "    .dataframe tbody tr th {\n",
       "        vertical-align: top;\n",
       "    }\n",
       "\n",
       "    .dataframe thead th {\n",
       "        text-align: right;\n",
       "    }\n",
       "</style>\n",
       "<table border=\"1\" class=\"dataframe\">\n",
       "  <thead>\n",
       "    <tr style=\"text-align: right;\">\n",
       "      <th></th>\n",
       "      <th>Year</th>\n",
       "      <th>Games Release</th>\n",
       "    </tr>\n",
       "  </thead>\n",
       "  <tbody>\n",
       "    <tr>\n",
       "      <th>35</th>\n",
       "      <td>2018</td>\n",
       "      <td>77</td>\n",
       "    </tr>\n",
       "    <tr>\n",
       "      <th>36</th>\n",
       "      <td>2019</td>\n",
       "      <td>87</td>\n",
       "    </tr>\n",
       "    <tr>\n",
       "      <th>37</th>\n",
       "      <td>2020</td>\n",
       "      <td>74</td>\n",
       "    </tr>\n",
       "    <tr>\n",
       "      <th>38</th>\n",
       "      <td>2021</td>\n",
       "      <td>97</td>\n",
       "    </tr>\n",
       "    <tr>\n",
       "      <th>39</th>\n",
       "      <td>2022</td>\n",
       "      <td>132</td>\n",
       "    </tr>\n",
       "  </tbody>\n",
       "</table>\n",
       "</div>"
      ],
      "text/plain": [
       "    Year  Games Release\n",
       "35  2018             77\n",
       "36  2019             87\n",
       "37  2020             74\n",
       "38  2021             97\n",
       "39  2022            132"
      ]
     },
     "execution_count": 52,
     "metadata": {},
     "output_type": "execute_result"
    }
   ],
   "source": [
    "df_year = pd.DataFrame(df['Release Date'].dt.year.value_counts().sort_index())\n",
    "df_year = df_year.reset_index()\n",
    "df_year.columns = ['Year', 'Games Release']\n",
    "df_year = df_year.sort_values(by='Year')\n",
    "\n",
    "df_year = df_year[(df_year['Year'] > 1990) & (df_year['Year'] != 2023)]\n",
    "df_year.tail()"
   ]
  },
  {
   "cell_type": "code",
   "execution_count": 53,
   "metadata": {},
   "outputs": [
    {
     "data": {
      "application/vnd.plotly.v1+json": {
       "config": {
        "plotlyServerURL": "https://plot.ly"
       },
       "data": [
        {
         "hovertemplate": "Year=%{x}<br>Games Release=%{y}<extra></extra>",
         "legendgroup": "",
         "line": {
          "color": "rgb(102, 197, 204)",
          "dash": "solid"
         },
         "marker": {
          "symbol": "circle"
         },
         "mode": "markers+lines",
         "name": "",
         "orientation": "v",
         "showlegend": false,
         "type": "scatter",
         "x": [
          1991,
          1992,
          1993,
          1994,
          1995,
          1996,
          1997,
          1998,
          1999,
          2000,
          2001,
          2002,
          2003,
          2004,
          2005,
          2006,
          2007,
          2008,
          2009,
          2010,
          2011,
          2012,
          2013,
          2014,
          2015,
          2016,
          2017,
          2018,
          2019,
          2020,
          2021,
          2022
         ],
         "xaxis": "x",
         "y": [
          11,
          6,
          12,
          11,
          12,
          15,
          18,
          16,
          25,
          15,
          30,
          22,
          26,
          37,
          41,
          32,
          50,
          44,
          40,
          58,
          50,
          60,
          68,
          59,
          73,
          75,
          70,
          77,
          87,
          74,
          97,
          132
         ],
         "yaxis": "y"
        }
       ],
       "layout": {
        "legend": {
         "tracegroupgap": 0
        },
        "template": {
         "data": {
          "bar": [
           {
            "error_x": {
             "color": "#2a3f5f"
            },
            "error_y": {
             "color": "#2a3f5f"
            },
            "marker": {
             "line": {
              "color": "#E5ECF6",
              "width": 0.5
             },
             "pattern": {
              "fillmode": "overlay",
              "size": 10,
              "solidity": 0.2
             }
            },
            "type": "bar"
           }
          ],
          "barpolar": [
           {
            "marker": {
             "line": {
              "color": "#E5ECF6",
              "width": 0.5
             },
             "pattern": {
              "fillmode": "overlay",
              "size": 10,
              "solidity": 0.2
             }
            },
            "type": "barpolar"
           }
          ],
          "carpet": [
           {
            "aaxis": {
             "endlinecolor": "#2a3f5f",
             "gridcolor": "white",
             "linecolor": "white",
             "minorgridcolor": "white",
             "startlinecolor": "#2a3f5f"
            },
            "baxis": {
             "endlinecolor": "#2a3f5f",
             "gridcolor": "white",
             "linecolor": "white",
             "minorgridcolor": "white",
             "startlinecolor": "#2a3f5f"
            },
            "type": "carpet"
           }
          ],
          "choropleth": [
           {
            "colorbar": {
             "outlinewidth": 0,
             "ticks": ""
            },
            "type": "choropleth"
           }
          ],
          "contour": [
           {
            "colorbar": {
             "outlinewidth": 0,
             "ticks": ""
            },
            "colorscale": [
             [
              0,
              "#0d0887"
             ],
             [
              0.1111111111111111,
              "#46039f"
             ],
             [
              0.2222222222222222,
              "#7201a8"
             ],
             [
              0.3333333333333333,
              "#9c179e"
             ],
             [
              0.4444444444444444,
              "#bd3786"
             ],
             [
              0.5555555555555556,
              "#d8576b"
             ],
             [
              0.6666666666666666,
              "#ed7953"
             ],
             [
              0.7777777777777778,
              "#fb9f3a"
             ],
             [
              0.8888888888888888,
              "#fdca26"
             ],
             [
              1,
              "#f0f921"
             ]
            ],
            "type": "contour"
           }
          ],
          "contourcarpet": [
           {
            "colorbar": {
             "outlinewidth": 0,
             "ticks": ""
            },
            "type": "contourcarpet"
           }
          ],
          "heatmap": [
           {
            "colorbar": {
             "outlinewidth": 0,
             "ticks": ""
            },
            "colorscale": [
             [
              0,
              "#0d0887"
             ],
             [
              0.1111111111111111,
              "#46039f"
             ],
             [
              0.2222222222222222,
              "#7201a8"
             ],
             [
              0.3333333333333333,
              "#9c179e"
             ],
             [
              0.4444444444444444,
              "#bd3786"
             ],
             [
              0.5555555555555556,
              "#d8576b"
             ],
             [
              0.6666666666666666,
              "#ed7953"
             ],
             [
              0.7777777777777778,
              "#fb9f3a"
             ],
             [
              0.8888888888888888,
              "#fdca26"
             ],
             [
              1,
              "#f0f921"
             ]
            ],
            "type": "heatmap"
           }
          ],
          "heatmapgl": [
           {
            "colorbar": {
             "outlinewidth": 0,
             "ticks": ""
            },
            "colorscale": [
             [
              0,
              "#0d0887"
             ],
             [
              0.1111111111111111,
              "#46039f"
             ],
             [
              0.2222222222222222,
              "#7201a8"
             ],
             [
              0.3333333333333333,
              "#9c179e"
             ],
             [
              0.4444444444444444,
              "#bd3786"
             ],
             [
              0.5555555555555556,
              "#d8576b"
             ],
             [
              0.6666666666666666,
              "#ed7953"
             ],
             [
              0.7777777777777778,
              "#fb9f3a"
             ],
             [
              0.8888888888888888,
              "#fdca26"
             ],
             [
              1,
              "#f0f921"
             ]
            ],
            "type": "heatmapgl"
           }
          ],
          "histogram": [
           {
            "marker": {
             "pattern": {
              "fillmode": "overlay",
              "size": 10,
              "solidity": 0.2
             }
            },
            "type": "histogram"
           }
          ],
          "histogram2d": [
           {
            "colorbar": {
             "outlinewidth": 0,
             "ticks": ""
            },
            "colorscale": [
             [
              0,
              "#0d0887"
             ],
             [
              0.1111111111111111,
              "#46039f"
             ],
             [
              0.2222222222222222,
              "#7201a8"
             ],
             [
              0.3333333333333333,
              "#9c179e"
             ],
             [
              0.4444444444444444,
              "#bd3786"
             ],
             [
              0.5555555555555556,
              "#d8576b"
             ],
             [
              0.6666666666666666,
              "#ed7953"
             ],
             [
              0.7777777777777778,
              "#fb9f3a"
             ],
             [
              0.8888888888888888,
              "#fdca26"
             ],
             [
              1,
              "#f0f921"
             ]
            ],
            "type": "histogram2d"
           }
          ],
          "histogram2dcontour": [
           {
            "colorbar": {
             "outlinewidth": 0,
             "ticks": ""
            },
            "colorscale": [
             [
              0,
              "#0d0887"
             ],
             [
              0.1111111111111111,
              "#46039f"
             ],
             [
              0.2222222222222222,
              "#7201a8"
             ],
             [
              0.3333333333333333,
              "#9c179e"
             ],
             [
              0.4444444444444444,
              "#bd3786"
             ],
             [
              0.5555555555555556,
              "#d8576b"
             ],
             [
              0.6666666666666666,
              "#ed7953"
             ],
             [
              0.7777777777777778,
              "#fb9f3a"
             ],
             [
              0.8888888888888888,
              "#fdca26"
             ],
             [
              1,
              "#f0f921"
             ]
            ],
            "type": "histogram2dcontour"
           }
          ],
          "mesh3d": [
           {
            "colorbar": {
             "outlinewidth": 0,
             "ticks": ""
            },
            "type": "mesh3d"
           }
          ],
          "parcoords": [
           {
            "line": {
             "colorbar": {
              "outlinewidth": 0,
              "ticks": ""
             }
            },
            "type": "parcoords"
           }
          ],
          "pie": [
           {
            "automargin": true,
            "type": "pie"
           }
          ],
          "scatter": [
           {
            "fillpattern": {
             "fillmode": "overlay",
             "size": 10,
             "solidity": 0.2
            },
            "type": "scatter"
           }
          ],
          "scatter3d": [
           {
            "line": {
             "colorbar": {
              "outlinewidth": 0,
              "ticks": ""
             }
            },
            "marker": {
             "colorbar": {
              "outlinewidth": 0,
              "ticks": ""
             }
            },
            "type": "scatter3d"
           }
          ],
          "scattercarpet": [
           {
            "marker": {
             "colorbar": {
              "outlinewidth": 0,
              "ticks": ""
             }
            },
            "type": "scattercarpet"
           }
          ],
          "scattergeo": [
           {
            "marker": {
             "colorbar": {
              "outlinewidth": 0,
              "ticks": ""
             }
            },
            "type": "scattergeo"
           }
          ],
          "scattergl": [
           {
            "marker": {
             "colorbar": {
              "outlinewidth": 0,
              "ticks": ""
             }
            },
            "type": "scattergl"
           }
          ],
          "scattermapbox": [
           {
            "marker": {
             "colorbar": {
              "outlinewidth": 0,
              "ticks": ""
             }
            },
            "type": "scattermapbox"
           }
          ],
          "scatterpolar": [
           {
            "marker": {
             "colorbar": {
              "outlinewidth": 0,
              "ticks": ""
             }
            },
            "type": "scatterpolar"
           }
          ],
          "scatterpolargl": [
           {
            "marker": {
             "colorbar": {
              "outlinewidth": 0,
              "ticks": ""
             }
            },
            "type": "scatterpolargl"
           }
          ],
          "scatterternary": [
           {
            "marker": {
             "colorbar": {
              "outlinewidth": 0,
              "ticks": ""
             }
            },
            "type": "scatterternary"
           }
          ],
          "surface": [
           {
            "colorbar": {
             "outlinewidth": 0,
             "ticks": ""
            },
            "colorscale": [
             [
              0,
              "#0d0887"
             ],
             [
              0.1111111111111111,
              "#46039f"
             ],
             [
              0.2222222222222222,
              "#7201a8"
             ],
             [
              0.3333333333333333,
              "#9c179e"
             ],
             [
              0.4444444444444444,
              "#bd3786"
             ],
             [
              0.5555555555555556,
              "#d8576b"
             ],
             [
              0.6666666666666666,
              "#ed7953"
             ],
             [
              0.7777777777777778,
              "#fb9f3a"
             ],
             [
              0.8888888888888888,
              "#fdca26"
             ],
             [
              1,
              "#f0f921"
             ]
            ],
            "type": "surface"
           }
          ],
          "table": [
           {
            "cells": {
             "fill": {
              "color": "#EBF0F8"
             },
             "line": {
              "color": "white"
             }
            },
            "header": {
             "fill": {
              "color": "#C8D4E3"
             },
             "line": {
              "color": "white"
             }
            },
            "type": "table"
           }
          ]
         },
         "layout": {
          "annotationdefaults": {
           "arrowcolor": "#2a3f5f",
           "arrowhead": 0,
           "arrowwidth": 1
          },
          "autotypenumbers": "strict",
          "coloraxis": {
           "colorbar": {
            "outlinewidth": 0,
            "ticks": ""
           }
          },
          "colorscale": {
           "diverging": [
            [
             0,
             "#8e0152"
            ],
            [
             0.1,
             "#c51b7d"
            ],
            [
             0.2,
             "#de77ae"
            ],
            [
             0.3,
             "#f1b6da"
            ],
            [
             0.4,
             "#fde0ef"
            ],
            [
             0.5,
             "#f7f7f7"
            ],
            [
             0.6,
             "#e6f5d0"
            ],
            [
             0.7,
             "#b8e186"
            ],
            [
             0.8,
             "#7fbc41"
            ],
            [
             0.9,
             "#4d9221"
            ],
            [
             1,
             "#276419"
            ]
           ],
           "sequential": [
            [
             0,
             "#0d0887"
            ],
            [
             0.1111111111111111,
             "#46039f"
            ],
            [
             0.2222222222222222,
             "#7201a8"
            ],
            [
             0.3333333333333333,
             "#9c179e"
            ],
            [
             0.4444444444444444,
             "#bd3786"
            ],
            [
             0.5555555555555556,
             "#d8576b"
            ],
            [
             0.6666666666666666,
             "#ed7953"
            ],
            [
             0.7777777777777778,
             "#fb9f3a"
            ],
            [
             0.8888888888888888,
             "#fdca26"
            ],
            [
             1,
             "#f0f921"
            ]
           ],
           "sequentialminus": [
            [
             0,
             "#0d0887"
            ],
            [
             0.1111111111111111,
             "#46039f"
            ],
            [
             0.2222222222222222,
             "#7201a8"
            ],
            [
             0.3333333333333333,
             "#9c179e"
            ],
            [
             0.4444444444444444,
             "#bd3786"
            ],
            [
             0.5555555555555556,
             "#d8576b"
            ],
            [
             0.6666666666666666,
             "#ed7953"
            ],
            [
             0.7777777777777778,
             "#fb9f3a"
            ],
            [
             0.8888888888888888,
             "#fdca26"
            ],
            [
             1,
             "#f0f921"
            ]
           ]
          },
          "colorway": [
           "#636efa",
           "#EF553B",
           "#00cc96",
           "#ab63fa",
           "#FFA15A",
           "#19d3f3",
           "#FF6692",
           "#B6E880",
           "#FF97FF",
           "#FECB52"
          ],
          "font": {
           "color": "#2a3f5f"
          },
          "geo": {
           "bgcolor": "white",
           "lakecolor": "white",
           "landcolor": "#E5ECF6",
           "showlakes": true,
           "showland": true,
           "subunitcolor": "white"
          },
          "hoverlabel": {
           "align": "left"
          },
          "hovermode": "closest",
          "mapbox": {
           "style": "light"
          },
          "paper_bgcolor": "white",
          "plot_bgcolor": "#E5ECF6",
          "polar": {
           "angularaxis": {
            "gridcolor": "white",
            "linecolor": "white",
            "ticks": ""
           },
           "bgcolor": "#E5ECF6",
           "radialaxis": {
            "gridcolor": "white",
            "linecolor": "white",
            "ticks": ""
           }
          },
          "scene": {
           "xaxis": {
            "backgroundcolor": "#E5ECF6",
            "gridcolor": "white",
            "gridwidth": 2,
            "linecolor": "white",
            "showbackground": true,
            "ticks": "",
            "zerolinecolor": "white"
           },
           "yaxis": {
            "backgroundcolor": "#E5ECF6",
            "gridcolor": "white",
            "gridwidth": 2,
            "linecolor": "white",
            "showbackground": true,
            "ticks": "",
            "zerolinecolor": "white"
           },
           "zaxis": {
            "backgroundcolor": "#E5ECF6",
            "gridcolor": "white",
            "gridwidth": 2,
            "linecolor": "white",
            "showbackground": true,
            "ticks": "",
            "zerolinecolor": "white"
           }
          },
          "shapedefaults": {
           "line": {
            "color": "#2a3f5f"
           }
          },
          "ternary": {
           "aaxis": {
            "gridcolor": "white",
            "linecolor": "white",
            "ticks": ""
           },
           "baxis": {
            "gridcolor": "white",
            "linecolor": "white",
            "ticks": ""
           },
           "bgcolor": "#E5ECF6",
           "caxis": {
            "gridcolor": "white",
            "linecolor": "white",
            "ticks": ""
           }
          },
          "title": {
           "x": 0.05
          },
          "xaxis": {
           "automargin": true,
           "gridcolor": "white",
           "linecolor": "white",
           "ticks": "",
           "title": {
            "standoff": 15
           },
           "zerolinecolor": "white",
           "zerolinewidth": 2
          },
          "yaxis": {
           "automargin": true,
           "gridcolor": "white",
           "linecolor": "white",
           "ticks": "",
           "title": {
            "standoff": 15
           },
           "zerolinecolor": "white",
           "zerolinewidth": 2
          }
         }
        },
        "title": {
         "text": "Games Release By Year"
        },
        "xaxis": {
         "anchor": "y",
         "domain": [
          0,
          1
         ],
         "showticklabels": true,
         "title": {
          "text": ""
         },
         "visible": true
        },
        "yaxis": {
         "anchor": "x",
         "domain": [
          0,
          1
         ],
         "showticklabels": true,
         "title": {
          "text": "Games Release"
         },
         "visible": true
        }
       }
      }
     },
     "metadata": {},
     "output_type": "display_data"
    }
   ],
   "source": [
    "#games by year in a line chart\n",
    "fig = px.line(df['Release Date'].dt.year.value_counts().sort_index(),\n",
    "                x=df_year['Year'],\n",
    "                y=df_year['Games Release'],\n",
    "                title=\"Games Release By Year\",\n",
    "                labels={'x': 'Year', 'y': 'Games Release'},\n",
    "                color_discrete_sequence=px.colors.qualitative.Pastel)\n",
    "\n",
    "\n",
    "fig.update_traces(mode='markers+lines')\n",
    "fig.update_yaxes(title='Games Release', visible=True, showticklabels=True)\n",
    "fig.update_xaxes(title='', visible=True, showticklabels=True)\n",
    "fig.show()\n"
   ]
  },
  {
   "attachments": {},
   "cell_type": "markdown",
   "metadata": {},
   "source": [
    "<p style=\"font-size:15px;\">Como os dados de 2023 ainda não estão completos será preciso usar da regressão linear para estimar quantos jogos serão adicionados a plataforma nesse ano</p>"
   ]
  },
  {
   "cell_type": "code",
   "execution_count": 54,
   "metadata": {},
   "outputs": [],
   "source": [
    "from sklearn.linear_model import LinearRegression\n",
    "from sklearn.preprocessing import PolynomialFeatures\n",
    "from sklearn import linear_model"
   ]
  },
  {
   "cell_type": "code",
   "execution_count": 55,
   "metadata": {},
   "outputs": [
    {
     "name": "stdout",
     "output_type": "stream",
     "text": [
      "Previsão 2023 é: 96\n"
     ]
    }
   ],
   "source": [
    "reg = LinearRegression()\n",
    "reg.fit(df_year[['Year']].values, df_year['Games Release'])\n",
    "prev = reg.predict([[2023]])\n",
    "print(f\"Previsão 2023 é: {round(prev[0])}\")\n",
    "if not (df_year['Year'].max() == 2023):\n",
    "    df_year = pd.concat([df_year, pd.DataFrame({'Year': [2023], 'Games Release': round(prev[0])})])"
   ]
  },
  {
   "cell_type": "code",
   "execution_count": 60,
   "metadata": {},
   "outputs": [
    {
     "data": {
      "application/vnd.plotly.v1+json": {
       "config": {
        "plotlyServerURL": "https://plot.ly"
       },
       "data": [
        {
         "hovertemplate": "Year=%{x}<br>Games Release=%{y}<extra></extra>",
         "legendgroup": "",
         "line": {
          "color": "rgb(102, 197, 204)",
          "dash": "solid"
         },
         "marker": {
          "symbol": "circle"
         },
         "mode": "markers+lines",
         "name": "",
         "orientation": "v",
         "showlegend": false,
         "type": "scatter",
         "x": [
          1991,
          1992,
          1993,
          1994,
          1995,
          1996,
          1997,
          1998,
          1999,
          2000,
          2001,
          2002,
          2003,
          2004,
          2005,
          2006,
          2007,
          2008,
          2009,
          2010,
          2011,
          2012,
          2013,
          2014,
          2015,
          2016,
          2017,
          2018,
          2019,
          2020,
          2021,
          2022,
          2023
         ],
         "xaxis": "x",
         "y": [
          11,
          6,
          12,
          11,
          12,
          15,
          18,
          16,
          25,
          15,
          30,
          22,
          26,
          37,
          41,
          32,
          50,
          44,
          40,
          58,
          50,
          60,
          68,
          59,
          73,
          75,
          70,
          77,
          87,
          74,
          97,
          132,
          96
         ],
         "yaxis": "y"
        },
        {
         "line": {
          "color": "black",
          "dash": "dash"
         },
         "mode": "lines",
         "name": "Trend Line",
         "type": "scatter",
         "x": [
          1991,
          1992,
          1993,
          1994,
          1995,
          1996,
          1997,
          1998,
          1999,
          2000,
          2001,
          2002,
          2003,
          2004,
          2005,
          2006,
          2007,
          2008,
          2009,
          2010,
          2011,
          2012,
          2013,
          2014,
          2015,
          2016,
          2017,
          2018,
          2019,
          2020,
          2021,
          2022,
          2023
         ],
         "y": [
          -2.386363636363967,
          0.6768695014661716,
          3.7401026392963104,
          6.80333577712554,
          9.866568914955678,
          12.929802052785817,
          15.993035190615956,
          19.056268328445185,
          22.119501466275324,
          25.182734604105462,
          28.2459677419356,
          31.30920087976483,
          34.37243401759497,
          37.43566715542511,
          40.49890029325525,
          43.562133431084476,
          46.625366568914615,
          49.68859970674475,
          52.75183284457489,
          55.81506598240412,
          58.87829912023426,
          61.9415322580644,
          65.00476539589454,
          68.06799853372377,
          71.1312316715539,
          74.19446480938404,
          77.25769794721418,
          80.32093108504341,
          83.38416422287355,
          86.44739736070369,
          89.51063049853383,
          92.57386363636306,
          95.6370967741932
         ]
        }
       ],
       "layout": {
        "legend": {
         "tracegroupgap": 0
        },
        "showlegend": false,
        "template": {
         "data": {
          "bar": [
           {
            "error_x": {
             "color": "#2a3f5f"
            },
            "error_y": {
             "color": "#2a3f5f"
            },
            "marker": {
             "line": {
              "color": "#E5ECF6",
              "width": 0.5
             },
             "pattern": {
              "fillmode": "overlay",
              "size": 10,
              "solidity": 0.2
             }
            },
            "type": "bar"
           }
          ],
          "barpolar": [
           {
            "marker": {
             "line": {
              "color": "#E5ECF6",
              "width": 0.5
             },
             "pattern": {
              "fillmode": "overlay",
              "size": 10,
              "solidity": 0.2
             }
            },
            "type": "barpolar"
           }
          ],
          "carpet": [
           {
            "aaxis": {
             "endlinecolor": "#2a3f5f",
             "gridcolor": "white",
             "linecolor": "white",
             "minorgridcolor": "white",
             "startlinecolor": "#2a3f5f"
            },
            "baxis": {
             "endlinecolor": "#2a3f5f",
             "gridcolor": "white",
             "linecolor": "white",
             "minorgridcolor": "white",
             "startlinecolor": "#2a3f5f"
            },
            "type": "carpet"
           }
          ],
          "choropleth": [
           {
            "colorbar": {
             "outlinewidth": 0,
             "ticks": ""
            },
            "type": "choropleth"
           }
          ],
          "contour": [
           {
            "colorbar": {
             "outlinewidth": 0,
             "ticks": ""
            },
            "colorscale": [
             [
              0,
              "#0d0887"
             ],
             [
              0.1111111111111111,
              "#46039f"
             ],
             [
              0.2222222222222222,
              "#7201a8"
             ],
             [
              0.3333333333333333,
              "#9c179e"
             ],
             [
              0.4444444444444444,
              "#bd3786"
             ],
             [
              0.5555555555555556,
              "#d8576b"
             ],
             [
              0.6666666666666666,
              "#ed7953"
             ],
             [
              0.7777777777777778,
              "#fb9f3a"
             ],
             [
              0.8888888888888888,
              "#fdca26"
             ],
             [
              1,
              "#f0f921"
             ]
            ],
            "type": "contour"
           }
          ],
          "contourcarpet": [
           {
            "colorbar": {
             "outlinewidth": 0,
             "ticks": ""
            },
            "type": "contourcarpet"
           }
          ],
          "heatmap": [
           {
            "colorbar": {
             "outlinewidth": 0,
             "ticks": ""
            },
            "colorscale": [
             [
              0,
              "#0d0887"
             ],
             [
              0.1111111111111111,
              "#46039f"
             ],
             [
              0.2222222222222222,
              "#7201a8"
             ],
             [
              0.3333333333333333,
              "#9c179e"
             ],
             [
              0.4444444444444444,
              "#bd3786"
             ],
             [
              0.5555555555555556,
              "#d8576b"
             ],
             [
              0.6666666666666666,
              "#ed7953"
             ],
             [
              0.7777777777777778,
              "#fb9f3a"
             ],
             [
              0.8888888888888888,
              "#fdca26"
             ],
             [
              1,
              "#f0f921"
             ]
            ],
            "type": "heatmap"
           }
          ],
          "heatmapgl": [
           {
            "colorbar": {
             "outlinewidth": 0,
             "ticks": ""
            },
            "colorscale": [
             [
              0,
              "#0d0887"
             ],
             [
              0.1111111111111111,
              "#46039f"
             ],
             [
              0.2222222222222222,
              "#7201a8"
             ],
             [
              0.3333333333333333,
              "#9c179e"
             ],
             [
              0.4444444444444444,
              "#bd3786"
             ],
             [
              0.5555555555555556,
              "#d8576b"
             ],
             [
              0.6666666666666666,
              "#ed7953"
             ],
             [
              0.7777777777777778,
              "#fb9f3a"
             ],
             [
              0.8888888888888888,
              "#fdca26"
             ],
             [
              1,
              "#f0f921"
             ]
            ],
            "type": "heatmapgl"
           }
          ],
          "histogram": [
           {
            "marker": {
             "pattern": {
              "fillmode": "overlay",
              "size": 10,
              "solidity": 0.2
             }
            },
            "type": "histogram"
           }
          ],
          "histogram2d": [
           {
            "colorbar": {
             "outlinewidth": 0,
             "ticks": ""
            },
            "colorscale": [
             [
              0,
              "#0d0887"
             ],
             [
              0.1111111111111111,
              "#46039f"
             ],
             [
              0.2222222222222222,
              "#7201a8"
             ],
             [
              0.3333333333333333,
              "#9c179e"
             ],
             [
              0.4444444444444444,
              "#bd3786"
             ],
             [
              0.5555555555555556,
              "#d8576b"
             ],
             [
              0.6666666666666666,
              "#ed7953"
             ],
             [
              0.7777777777777778,
              "#fb9f3a"
             ],
             [
              0.8888888888888888,
              "#fdca26"
             ],
             [
              1,
              "#f0f921"
             ]
            ],
            "type": "histogram2d"
           }
          ],
          "histogram2dcontour": [
           {
            "colorbar": {
             "outlinewidth": 0,
             "ticks": ""
            },
            "colorscale": [
             [
              0,
              "#0d0887"
             ],
             [
              0.1111111111111111,
              "#46039f"
             ],
             [
              0.2222222222222222,
              "#7201a8"
             ],
             [
              0.3333333333333333,
              "#9c179e"
             ],
             [
              0.4444444444444444,
              "#bd3786"
             ],
             [
              0.5555555555555556,
              "#d8576b"
             ],
             [
              0.6666666666666666,
              "#ed7953"
             ],
             [
              0.7777777777777778,
              "#fb9f3a"
             ],
             [
              0.8888888888888888,
              "#fdca26"
             ],
             [
              1,
              "#f0f921"
             ]
            ],
            "type": "histogram2dcontour"
           }
          ],
          "mesh3d": [
           {
            "colorbar": {
             "outlinewidth": 0,
             "ticks": ""
            },
            "type": "mesh3d"
           }
          ],
          "parcoords": [
           {
            "line": {
             "colorbar": {
              "outlinewidth": 0,
              "ticks": ""
             }
            },
            "type": "parcoords"
           }
          ],
          "pie": [
           {
            "automargin": true,
            "type": "pie"
           }
          ],
          "scatter": [
           {
            "fillpattern": {
             "fillmode": "overlay",
             "size": 10,
             "solidity": 0.2
            },
            "type": "scatter"
           }
          ],
          "scatter3d": [
           {
            "line": {
             "colorbar": {
              "outlinewidth": 0,
              "ticks": ""
             }
            },
            "marker": {
             "colorbar": {
              "outlinewidth": 0,
              "ticks": ""
             }
            },
            "type": "scatter3d"
           }
          ],
          "scattercarpet": [
           {
            "marker": {
             "colorbar": {
              "outlinewidth": 0,
              "ticks": ""
             }
            },
            "type": "scattercarpet"
           }
          ],
          "scattergeo": [
           {
            "marker": {
             "colorbar": {
              "outlinewidth": 0,
              "ticks": ""
             }
            },
            "type": "scattergeo"
           }
          ],
          "scattergl": [
           {
            "marker": {
             "colorbar": {
              "outlinewidth": 0,
              "ticks": ""
             }
            },
            "type": "scattergl"
           }
          ],
          "scattermapbox": [
           {
            "marker": {
             "colorbar": {
              "outlinewidth": 0,
              "ticks": ""
             }
            },
            "type": "scattermapbox"
           }
          ],
          "scatterpolar": [
           {
            "marker": {
             "colorbar": {
              "outlinewidth": 0,
              "ticks": ""
             }
            },
            "type": "scatterpolar"
           }
          ],
          "scatterpolargl": [
           {
            "marker": {
             "colorbar": {
              "outlinewidth": 0,
              "ticks": ""
             }
            },
            "type": "scatterpolargl"
           }
          ],
          "scatterternary": [
           {
            "marker": {
             "colorbar": {
              "outlinewidth": 0,
              "ticks": ""
             }
            },
            "type": "scatterternary"
           }
          ],
          "surface": [
           {
            "colorbar": {
             "outlinewidth": 0,
             "ticks": ""
            },
            "colorscale": [
             [
              0,
              "#0d0887"
             ],
             [
              0.1111111111111111,
              "#46039f"
             ],
             [
              0.2222222222222222,
              "#7201a8"
             ],
             [
              0.3333333333333333,
              "#9c179e"
             ],
             [
              0.4444444444444444,
              "#bd3786"
             ],
             [
              0.5555555555555556,
              "#d8576b"
             ],
             [
              0.6666666666666666,
              "#ed7953"
             ],
             [
              0.7777777777777778,
              "#fb9f3a"
             ],
             [
              0.8888888888888888,
              "#fdca26"
             ],
             [
              1,
              "#f0f921"
             ]
            ],
            "type": "surface"
           }
          ],
          "table": [
           {
            "cells": {
             "fill": {
              "color": "#EBF0F8"
             },
             "line": {
              "color": "white"
             }
            },
            "header": {
             "fill": {
              "color": "#C8D4E3"
             },
             "line": {
              "color": "white"
             }
            },
            "type": "table"
           }
          ]
         },
         "layout": {
          "annotationdefaults": {
           "arrowcolor": "#2a3f5f",
           "arrowhead": 0,
           "arrowwidth": 1
          },
          "autotypenumbers": "strict",
          "coloraxis": {
           "colorbar": {
            "outlinewidth": 0,
            "ticks": ""
           }
          },
          "colorscale": {
           "diverging": [
            [
             0,
             "#8e0152"
            ],
            [
             0.1,
             "#c51b7d"
            ],
            [
             0.2,
             "#de77ae"
            ],
            [
             0.3,
             "#f1b6da"
            ],
            [
             0.4,
             "#fde0ef"
            ],
            [
             0.5,
             "#f7f7f7"
            ],
            [
             0.6,
             "#e6f5d0"
            ],
            [
             0.7,
             "#b8e186"
            ],
            [
             0.8,
             "#7fbc41"
            ],
            [
             0.9,
             "#4d9221"
            ],
            [
             1,
             "#276419"
            ]
           ],
           "sequential": [
            [
             0,
             "#0d0887"
            ],
            [
             0.1111111111111111,
             "#46039f"
            ],
            [
             0.2222222222222222,
             "#7201a8"
            ],
            [
             0.3333333333333333,
             "#9c179e"
            ],
            [
             0.4444444444444444,
             "#bd3786"
            ],
            [
             0.5555555555555556,
             "#d8576b"
            ],
            [
             0.6666666666666666,
             "#ed7953"
            ],
            [
             0.7777777777777778,
             "#fb9f3a"
            ],
            [
             0.8888888888888888,
             "#fdca26"
            ],
            [
             1,
             "#f0f921"
            ]
           ],
           "sequentialminus": [
            [
             0,
             "#0d0887"
            ],
            [
             0.1111111111111111,
             "#46039f"
            ],
            [
             0.2222222222222222,
             "#7201a8"
            ],
            [
             0.3333333333333333,
             "#9c179e"
            ],
            [
             0.4444444444444444,
             "#bd3786"
            ],
            [
             0.5555555555555556,
             "#d8576b"
            ],
            [
             0.6666666666666666,
             "#ed7953"
            ],
            [
             0.7777777777777778,
             "#fb9f3a"
            ],
            [
             0.8888888888888888,
             "#fdca26"
            ],
            [
             1,
             "#f0f921"
            ]
           ]
          },
          "colorway": [
           "#636efa",
           "#EF553B",
           "#00cc96",
           "#ab63fa",
           "#FFA15A",
           "#19d3f3",
           "#FF6692",
           "#B6E880",
           "#FF97FF",
           "#FECB52"
          ],
          "font": {
           "color": "#2a3f5f"
          },
          "geo": {
           "bgcolor": "white",
           "lakecolor": "white",
           "landcolor": "#E5ECF6",
           "showlakes": true,
           "showland": true,
           "subunitcolor": "white"
          },
          "hoverlabel": {
           "align": "left"
          },
          "hovermode": "closest",
          "mapbox": {
           "style": "light"
          },
          "paper_bgcolor": "white",
          "plot_bgcolor": "#E5ECF6",
          "polar": {
           "angularaxis": {
            "gridcolor": "white",
            "linecolor": "white",
            "ticks": ""
           },
           "bgcolor": "#E5ECF6",
           "radialaxis": {
            "gridcolor": "white",
            "linecolor": "white",
            "ticks": ""
           }
          },
          "scene": {
           "xaxis": {
            "backgroundcolor": "#E5ECF6",
            "gridcolor": "white",
            "gridwidth": 2,
            "linecolor": "white",
            "showbackground": true,
            "ticks": "",
            "zerolinecolor": "white"
           },
           "yaxis": {
            "backgroundcolor": "#E5ECF6",
            "gridcolor": "white",
            "gridwidth": 2,
            "linecolor": "white",
            "showbackground": true,
            "ticks": "",
            "zerolinecolor": "white"
           },
           "zaxis": {
            "backgroundcolor": "#E5ECF6",
            "gridcolor": "white",
            "gridwidth": 2,
            "linecolor": "white",
            "showbackground": true,
            "ticks": "",
            "zerolinecolor": "white"
           }
          },
          "shapedefaults": {
           "line": {
            "color": "#2a3f5f"
           }
          },
          "ternary": {
           "aaxis": {
            "gridcolor": "white",
            "linecolor": "white",
            "ticks": ""
           },
           "baxis": {
            "gridcolor": "white",
            "linecolor": "white",
            "ticks": ""
           },
           "bgcolor": "#E5ECF6",
           "caxis": {
            "gridcolor": "white",
            "linecolor": "white",
            "ticks": ""
           }
          },
          "title": {
           "x": 0.05
          },
          "xaxis": {
           "automargin": true,
           "gridcolor": "white",
           "linecolor": "white",
           "ticks": "",
           "title": {
            "standoff": 15
           },
           "zerolinecolor": "white",
           "zerolinewidth": 2
          },
          "yaxis": {
           "automargin": true,
           "gridcolor": "white",
           "linecolor": "white",
           "ticks": "",
           "title": {
            "standoff": 15
           },
           "zerolinecolor": "white",
           "zerolinewidth": 2
          }
         }
        },
        "title": {
         "text": "Games Release By Year"
        },
        "xaxis": {
         "anchor": "y",
         "domain": [
          0,
          1
         ],
         "showticklabels": true,
         "title": {
          "text": ""
         },
         "visible": true
        },
        "yaxis": {
         "anchor": "x",
         "domain": [
          0,
          1
         ],
         "showticklabels": true,
         "title": {
          "text": "Games Release"
         },
         "visible": true
        }
       }
      }
     },
     "metadata": {},
     "output_type": "display_data"
    }
   ],
   "source": [
    "fig = px.line(df['Release Date'].dt.year.value_counts().sort_index(),\n",
    "                x=df_year['Year'],\n",
    "                y=df_year['Games Release'],\n",
    "                title=\"Games Release By Year\",\n",
    "                labels={'x': 'Year', 'y': 'Games Release'},\n",
    "                color_discrete_sequence=px.colors.qualitative.Pastel)\n",
    "\n",
    "fig.update_traces(mode='markers+lines')\n",
    "\n",
    "fig.add_trace(go.Scatter(x=df_year['Year'], y=reg.predict(df_year[['Year']].values),\n",
    "                    mode='lines',\n",
    "                    name='Trend Line',\n",
    "                    line=dict(color='black', dash='dash')))\n",
    "\n",
    "\n",
    "fig.update_yaxes(title='Games Release', visible=True, showticklabels=True)\n",
    "fig.update_xaxes(title='', visible=True, showticklabels=True)\n",
    "fig.update_layout(showlegend=False)\n",
    "fig.show()"
   ]
  },
  {
   "attachments": {},
   "cell_type": "markdown",
   "metadata": {},
   "source": [
    "Com o gráfico de lançamentos é possível perceber que a quantidade de jogos lançados por anos bem crescendo, dando destaque para 2023, que foi o ano que mais teve lançamentos na base de dados. A regressão linear dá a expectativa de que 96 jogos que sejam lançados em 2023 serão adicionados a plataforma."
   ]
  },
  {
   "attachments": {},
   "cell_type": "markdown",
   "metadata": {},
   "source": [
    "### Games With More Engagment"
   ]
  },
  {
   "cell_type": "code",
   "execution_count": 57,
   "metadata": {},
   "outputs": [
    {
     "data": {
      "text/html": [
       "<div>\n",
       "<style scoped>\n",
       "    .dataframe tbody tr th:only-of-type {\n",
       "        vertical-align: middle;\n",
       "    }\n",
       "\n",
       "    .dataframe tbody tr th {\n",
       "        vertical-align: top;\n",
       "    }\n",
       "\n",
       "    .dataframe thead th {\n",
       "        text-align: right;\n",
       "    }\n",
       "</style>\n",
       "<table border=\"1\" class=\"dataframe\">\n",
       "  <thead>\n",
       "    <tr style=\"text-align: right;\">\n",
       "      <th></th>\n",
       "      <th>Title</th>\n",
       "      <th>Plays</th>\n",
       "      <th>Playing</th>\n",
       "      <th>Reviews</th>\n",
       "      <th>Wishlist</th>\n",
       "      <th>Rating</th>\n",
       "      <th>Engagement</th>\n",
       "    </tr>\n",
       "  </thead>\n",
       "  <tbody>\n",
       "    <tr>\n",
       "      <th>868</th>\n",
       "      <td>Tokyo Necro</td>\n",
       "      <td>14</td>\n",
       "      <td>22</td>\n",
       "      <td>21</td>\n",
       "      <td>69</td>\n",
       "      <td>4.6</td>\n",
       "      <td>336.571429</td>\n",
       "    </tr>\n",
       "    <tr>\n",
       "      <th>991</th>\n",
       "      <td>Phantom Brigade</td>\n",
       "      <td>16</td>\n",
       "      <td>10</td>\n",
       "      <td>16</td>\n",
       "      <td>51</td>\n",
       "      <td>2.8</td>\n",
       "      <td>179.812500</td>\n",
       "    </tr>\n",
       "    <tr>\n",
       "      <th>437</th>\n",
       "      <td>Bayonetta Origins: Cereza and the Lost Demon</td>\n",
       "      <td>48</td>\n",
       "      <td>40</td>\n",
       "      <td>116</td>\n",
       "      <td>329</td>\n",
       "      <td>4.0</td>\n",
       "      <td>93.437500</td>\n",
       "    </tr>\n",
       "    <tr>\n",
       "      <th>816</th>\n",
       "      <td>Labyrinth of Galleria: The Moon Society</td>\n",
       "      <td>67</td>\n",
       "      <td>26</td>\n",
       "      <td>49</td>\n",
       "      <td>193</td>\n",
       "      <td>4.3</td>\n",
       "      <td>68.179104</td>\n",
       "    </tr>\n",
       "    <tr>\n",
       "      <th>792</th>\n",
       "      <td>Wild Hearts</td>\n",
       "      <td>73</td>\n",
       "      <td>45</td>\n",
       "      <td>103</td>\n",
       "      <td>246</td>\n",
       "      <td>3.2</td>\n",
       "      <td>49.232877</td>\n",
       "    </tr>\n",
       "  </tbody>\n",
       "</table>\n",
       "</div>"
      ],
      "text/plain": [
       "                                            Title  Plays  Playing  Reviews  \\\n",
       "868                                   Tokyo Necro     14       22       21   \n",
       "991                               Phantom Brigade     16       10       16   \n",
       "437  Bayonetta Origins: Cereza and the Lost Demon     48       40      116   \n",
       "816       Labyrinth of Galleria: The Moon Society     67       26       49   \n",
       "792                                   Wild Hearts     73       45      103   \n",
       "\n",
       "     Wishlist  Rating  Engagement  \n",
       "868        69     4.6  336.571429  \n",
       "991        51     2.8  179.812500  \n",
       "437       329     4.0   93.437500  \n",
       "816       193     4.3   68.179104  \n",
       "792       246     3.2   49.232877  "
      ]
     },
     "execution_count": 57,
     "metadata": {},
     "output_type": "execute_result"
    }
   ],
   "source": [
    "df_engagement = df[(df[\"Playing\"] != 0) & (df['Playing'] > 9)][['Title','Plays', 'Playing', 'Reviews', 'Wishlist','Rating']].drop_duplicates().reset_index(drop=True)\n",
    "df_engagement['Engagement'] = df_engagement['Playing'] + df_engagement['Reviews'] + df_engagement['Wishlist'] + df_engagement['Rating']*1000\n",
    "df_engagement['Engagement'] = df_engagement['Engagement'] / df_engagement['Plays']\n",
    "df_engagement = df_engagement.sort_values(by='Engagement', ascending=False)\n",
    "df_engagement.head()"
   ]
  },
  {
   "cell_type": "code",
   "execution_count": 58,
   "metadata": {},
   "outputs": [
    {
     "data": {
      "application/vnd.plotly.v1+json": {
       "config": {
        "plotlyServerURL": "https://plot.ly"
       },
       "data": [
        {
         "alignmentgroup": "True",
         "hovertemplate": "color=Adventure<br>x=%{x}<br>y=%{y}<br>text=%{text}<extra></extra>",
         "legendgroup": "Adventure",
         "marker": {
          "color": "rgb(102, 197, 204)",
          "pattern": {
           "shape": ""
          }
         },
         "name": "Adventure",
         "offsetgroup": "Adventure",
         "orientation": "h",
         "showlegend": true,
         "text": [
          1005
         ],
         "textposition": "auto",
         "type": "bar",
         "x": [
          336.57142857142856
         ],
         "xaxis": "x",
         "y": [
          "Tokyo Necro"
         ],
         "yaxis": "y"
        },
        {
         "alignmentgroup": "True",
         "hovertemplate": "color=RPG<br>x=%{x}<br>y=%{y}<br>text=%{text}<extra></extra>",
         "legendgroup": "RPG",
         "marker": {
          "color": "rgb(246, 207, 113)",
          "pattern": {
           "shape": ""
          }
         },
         "name": "RPG",
         "offsetgroup": "RPG",
         "orientation": "h",
         "showlegend": true,
         "text": [
          515
         ],
         "textposition": "auto",
         "type": "bar",
         "x": [
          179.8125
         ],
         "xaxis": "x",
         "y": [
          "Phantom Brigade"
         ],
         "yaxis": "y"
        },
        {
         "alignmentgroup": "True",
         "hovertemplate": "color=Shooter<br>x=%{x}<br>y=%{y}<br>text=%{text}<extra></extra>",
         "legendgroup": "Shooter",
         "marker": {
          "color": "rgb(248, 156, 116)",
          "pattern": {
           "shape": ""
          }
         },
         "name": "Shooter",
         "offsetgroup": "Shooter",
         "orientation": "h",
         "showlegend": true,
         "text": [
          351
         ],
         "textposition": "auto",
         "type": "bar",
         "x": [
          93.4375
         ],
         "xaxis": "x",
         "y": [
          "Bayonetta Origins: Cereza and the Lost Demon"
         ],
         "yaxis": "y"
        },
        {
         "alignmentgroup": "True",
         "hovertemplate": "color=Platform<br>x=%{x}<br>y=%{y}<br>text=%{text}<extra></extra>",
         "legendgroup": "Platform",
         "marker": {
          "color": "rgb(220, 176, 242)",
          "pattern": {
           "shape": ""
          }
         },
         "name": "Platform",
         "offsetgroup": "Platform",
         "orientation": "h",
         "showlegend": true,
         "text": [
          329
         ],
         "textposition": "auto",
         "type": "bar",
         "x": [
          68.17910447761194
         ],
         "xaxis": "x",
         "y": [
          "Labyrinth of Galleria: The Moon Society"
         ],
         "yaxis": "y"
        },
        {
         "alignmentgroup": "True",
         "hovertemplate": "color=Indie<br>x=%{x}<br>y=%{y}<br>text=%{text}<extra></extra>",
         "legendgroup": "Indie",
         "marker": {
          "color": "rgb(135, 197, 95)",
          "pattern": {
           "shape": ""
          }
         },
         "name": "Indie",
         "offsetgroup": "Indie",
         "orientation": "h",
         "showlegend": true,
         "text": [
          282
         ],
         "textposition": "auto",
         "type": "bar",
         "x": [
          49.23287671232877
         ],
         "xaxis": "x",
         "y": [
          "Wild Hearts"
         ],
         "yaxis": "y"
        },
        {
         "alignmentgroup": "True",
         "hovertemplate": "color=Puzzle<br>x=%{x}<br>y=%{y}<br>text=%{text}<extra></extra>",
         "legendgroup": "Puzzle",
         "marker": {
          "color": "rgb(158, 185, 243)",
          "pattern": {
           "shape": ""
          }
         },
         "name": "Puzzle",
         "offsetgroup": "Puzzle",
         "orientation": "h",
         "showlegend": true,
         "text": [
          174
         ],
         "textposition": "auto",
         "type": "bar",
         "x": [
          39.23076923076923
         ],
         "xaxis": "x",
         "y": [
          "Limbus Company"
         ],
         "yaxis": "y"
        },
        {
         "alignmentgroup": "True",
         "hovertemplate": "color=Brawler<br>x=%{x}<br>y=%{y}<br>text=%{text}<extra></extra>",
         "legendgroup": "Brawler",
         "marker": {
          "color": "rgb(254, 136, 177)",
          "pattern": {
           "shape": ""
          }
         },
         "name": "Brawler",
         "offsetgroup": "Brawler",
         "orientation": "h",
         "showlegend": true,
         "text": [
          157
         ],
         "textposition": "auto",
         "type": "bar",
         "x": [
          37.018181818181816
         ],
         "xaxis": "x",
         "y": [
          "Fear & Hunger"
         ],
         "yaxis": "y"
        },
        {
         "alignmentgroup": "True",
         "hovertemplate": "color=Strategy<br>x=%{x}<br>y=%{y}<br>text=%{text}<extra></extra>",
         "legendgroup": "Strategy",
         "marker": {
          "color": "rgb(201, 219, 116)",
          "pattern": {
           "shape": ""
          }
         },
         "name": "Strategy",
         "offsetgroup": "Strategy",
         "orientation": "h",
         "showlegend": true,
         "text": [
          142
         ],
         "textposition": "auto",
         "type": "bar",
         "x": [
          29.08
         ],
         "xaxis": "x",
         "y": [
          "Wanted: Dead"
         ],
         "yaxis": "y"
        },
        {
         "alignmentgroup": "True",
         "hovertemplate": "color=Simulator<br>x=%{x}<br>y=%{y}<br>text=%{text}<extra></extra>",
         "legendgroup": "Simulator",
         "marker": {
          "color": "rgb(139, 224, 164)",
          "pattern": {
           "shape": ""
          }
         },
         "name": "Simulator",
         "offsetgroup": "Simulator",
         "orientation": "h",
         "showlegend": true,
         "text": [
          125
         ],
         "textposition": "auto",
         "type": "bar",
         "x": [
          28.377245508982035
         ],
         "xaxis": "x",
         "y": [
          "Hitman World of Assassination"
         ],
         "yaxis": "y"
        },
        {
         "alignmentgroup": "True",
         "hovertemplate": "color=TurnBasedStrategy<br>x=%{x}<br>y=%{y}<br>text=%{text}<extra></extra>",
         "legendgroup": "TurnBasedStrategy",
         "marker": {
          "color": "rgb(180, 151, 231)",
          "pattern": {
           "shape": ""
          }
         },
         "name": "TurnBasedStrategy",
         "offsetgroup": "TurnBasedStrategy",
         "orientation": "h",
         "showlegend": true,
         "text": [
          99
         ],
         "textposition": "auto",
         "type": "bar",
         "x": [
          25.3625
         ],
         "xaxis": "x",
         "y": [
          "Harvestella"
         ],
         "yaxis": "y"
        }
       ],
       "layout": {
        "barmode": "relative",
        "hovermode": false,
        "legend": {
         "title": {
          "text": "color"
         },
         "tracegroupgap": 0
        },
        "showlegend": false,
        "template": {
         "data": {
          "bar": [
           {
            "error_x": {
             "color": "#2a3f5f"
            },
            "error_y": {
             "color": "#2a3f5f"
            },
            "marker": {
             "line": {
              "color": "#E5ECF6",
              "width": 0.5
             },
             "pattern": {
              "fillmode": "overlay",
              "size": 10,
              "solidity": 0.2
             }
            },
            "type": "bar"
           }
          ],
          "barpolar": [
           {
            "marker": {
             "line": {
              "color": "#E5ECF6",
              "width": 0.5
             },
             "pattern": {
              "fillmode": "overlay",
              "size": 10,
              "solidity": 0.2
             }
            },
            "type": "barpolar"
           }
          ],
          "carpet": [
           {
            "aaxis": {
             "endlinecolor": "#2a3f5f",
             "gridcolor": "white",
             "linecolor": "white",
             "minorgridcolor": "white",
             "startlinecolor": "#2a3f5f"
            },
            "baxis": {
             "endlinecolor": "#2a3f5f",
             "gridcolor": "white",
             "linecolor": "white",
             "minorgridcolor": "white",
             "startlinecolor": "#2a3f5f"
            },
            "type": "carpet"
           }
          ],
          "choropleth": [
           {
            "colorbar": {
             "outlinewidth": 0,
             "ticks": ""
            },
            "type": "choropleth"
           }
          ],
          "contour": [
           {
            "colorbar": {
             "outlinewidth": 0,
             "ticks": ""
            },
            "colorscale": [
             [
              0,
              "#0d0887"
             ],
             [
              0.1111111111111111,
              "#46039f"
             ],
             [
              0.2222222222222222,
              "#7201a8"
             ],
             [
              0.3333333333333333,
              "#9c179e"
             ],
             [
              0.4444444444444444,
              "#bd3786"
             ],
             [
              0.5555555555555556,
              "#d8576b"
             ],
             [
              0.6666666666666666,
              "#ed7953"
             ],
             [
              0.7777777777777778,
              "#fb9f3a"
             ],
             [
              0.8888888888888888,
              "#fdca26"
             ],
             [
              1,
              "#f0f921"
             ]
            ],
            "type": "contour"
           }
          ],
          "contourcarpet": [
           {
            "colorbar": {
             "outlinewidth": 0,
             "ticks": ""
            },
            "type": "contourcarpet"
           }
          ],
          "heatmap": [
           {
            "colorbar": {
             "outlinewidth": 0,
             "ticks": ""
            },
            "colorscale": [
             [
              0,
              "#0d0887"
             ],
             [
              0.1111111111111111,
              "#46039f"
             ],
             [
              0.2222222222222222,
              "#7201a8"
             ],
             [
              0.3333333333333333,
              "#9c179e"
             ],
             [
              0.4444444444444444,
              "#bd3786"
             ],
             [
              0.5555555555555556,
              "#d8576b"
             ],
             [
              0.6666666666666666,
              "#ed7953"
             ],
             [
              0.7777777777777778,
              "#fb9f3a"
             ],
             [
              0.8888888888888888,
              "#fdca26"
             ],
             [
              1,
              "#f0f921"
             ]
            ],
            "type": "heatmap"
           }
          ],
          "heatmapgl": [
           {
            "colorbar": {
             "outlinewidth": 0,
             "ticks": ""
            },
            "colorscale": [
             [
              0,
              "#0d0887"
             ],
             [
              0.1111111111111111,
              "#46039f"
             ],
             [
              0.2222222222222222,
              "#7201a8"
             ],
             [
              0.3333333333333333,
              "#9c179e"
             ],
             [
              0.4444444444444444,
              "#bd3786"
             ],
             [
              0.5555555555555556,
              "#d8576b"
             ],
             [
              0.6666666666666666,
              "#ed7953"
             ],
             [
              0.7777777777777778,
              "#fb9f3a"
             ],
             [
              0.8888888888888888,
              "#fdca26"
             ],
             [
              1,
              "#f0f921"
             ]
            ],
            "type": "heatmapgl"
           }
          ],
          "histogram": [
           {
            "marker": {
             "pattern": {
              "fillmode": "overlay",
              "size": 10,
              "solidity": 0.2
             }
            },
            "type": "histogram"
           }
          ],
          "histogram2d": [
           {
            "colorbar": {
             "outlinewidth": 0,
             "ticks": ""
            },
            "colorscale": [
             [
              0,
              "#0d0887"
             ],
             [
              0.1111111111111111,
              "#46039f"
             ],
             [
              0.2222222222222222,
              "#7201a8"
             ],
             [
              0.3333333333333333,
              "#9c179e"
             ],
             [
              0.4444444444444444,
              "#bd3786"
             ],
             [
              0.5555555555555556,
              "#d8576b"
             ],
             [
              0.6666666666666666,
              "#ed7953"
             ],
             [
              0.7777777777777778,
              "#fb9f3a"
             ],
             [
              0.8888888888888888,
              "#fdca26"
             ],
             [
              1,
              "#f0f921"
             ]
            ],
            "type": "histogram2d"
           }
          ],
          "histogram2dcontour": [
           {
            "colorbar": {
             "outlinewidth": 0,
             "ticks": ""
            },
            "colorscale": [
             [
              0,
              "#0d0887"
             ],
             [
              0.1111111111111111,
              "#46039f"
             ],
             [
              0.2222222222222222,
              "#7201a8"
             ],
             [
              0.3333333333333333,
              "#9c179e"
             ],
             [
              0.4444444444444444,
              "#bd3786"
             ],
             [
              0.5555555555555556,
              "#d8576b"
             ],
             [
              0.6666666666666666,
              "#ed7953"
             ],
             [
              0.7777777777777778,
              "#fb9f3a"
             ],
             [
              0.8888888888888888,
              "#fdca26"
             ],
             [
              1,
              "#f0f921"
             ]
            ],
            "type": "histogram2dcontour"
           }
          ],
          "mesh3d": [
           {
            "colorbar": {
             "outlinewidth": 0,
             "ticks": ""
            },
            "type": "mesh3d"
           }
          ],
          "parcoords": [
           {
            "line": {
             "colorbar": {
              "outlinewidth": 0,
              "ticks": ""
             }
            },
            "type": "parcoords"
           }
          ],
          "pie": [
           {
            "automargin": true,
            "type": "pie"
           }
          ],
          "scatter": [
           {
            "fillpattern": {
             "fillmode": "overlay",
             "size": 10,
             "solidity": 0.2
            },
            "type": "scatter"
           }
          ],
          "scatter3d": [
           {
            "line": {
             "colorbar": {
              "outlinewidth": 0,
              "ticks": ""
             }
            },
            "marker": {
             "colorbar": {
              "outlinewidth": 0,
              "ticks": ""
             }
            },
            "type": "scatter3d"
           }
          ],
          "scattercarpet": [
           {
            "marker": {
             "colorbar": {
              "outlinewidth": 0,
              "ticks": ""
             }
            },
            "type": "scattercarpet"
           }
          ],
          "scattergeo": [
           {
            "marker": {
             "colorbar": {
              "outlinewidth": 0,
              "ticks": ""
             }
            },
            "type": "scattergeo"
           }
          ],
          "scattergl": [
           {
            "marker": {
             "colorbar": {
              "outlinewidth": 0,
              "ticks": ""
             }
            },
            "type": "scattergl"
           }
          ],
          "scattermapbox": [
           {
            "marker": {
             "colorbar": {
              "outlinewidth": 0,
              "ticks": ""
             }
            },
            "type": "scattermapbox"
           }
          ],
          "scatterpolar": [
           {
            "marker": {
             "colorbar": {
              "outlinewidth": 0,
              "ticks": ""
             }
            },
            "type": "scatterpolar"
           }
          ],
          "scatterpolargl": [
           {
            "marker": {
             "colorbar": {
              "outlinewidth": 0,
              "ticks": ""
             }
            },
            "type": "scatterpolargl"
           }
          ],
          "scatterternary": [
           {
            "marker": {
             "colorbar": {
              "outlinewidth": 0,
              "ticks": ""
             }
            },
            "type": "scatterternary"
           }
          ],
          "surface": [
           {
            "colorbar": {
             "outlinewidth": 0,
             "ticks": ""
            },
            "colorscale": [
             [
              0,
              "#0d0887"
             ],
             [
              0.1111111111111111,
              "#46039f"
             ],
             [
              0.2222222222222222,
              "#7201a8"
             ],
             [
              0.3333333333333333,
              "#9c179e"
             ],
             [
              0.4444444444444444,
              "#bd3786"
             ],
             [
              0.5555555555555556,
              "#d8576b"
             ],
             [
              0.6666666666666666,
              "#ed7953"
             ],
             [
              0.7777777777777778,
              "#fb9f3a"
             ],
             [
              0.8888888888888888,
              "#fdca26"
             ],
             [
              1,
              "#f0f921"
             ]
            ],
            "type": "surface"
           }
          ],
          "table": [
           {
            "cells": {
             "fill": {
              "color": "#EBF0F8"
             },
             "line": {
              "color": "white"
             }
            },
            "header": {
             "fill": {
              "color": "#C8D4E3"
             },
             "line": {
              "color": "white"
             }
            },
            "type": "table"
           }
          ]
         },
         "layout": {
          "annotationdefaults": {
           "arrowcolor": "#2a3f5f",
           "arrowhead": 0,
           "arrowwidth": 1
          },
          "autotypenumbers": "strict",
          "coloraxis": {
           "colorbar": {
            "outlinewidth": 0,
            "ticks": ""
           }
          },
          "colorscale": {
           "diverging": [
            [
             0,
             "#8e0152"
            ],
            [
             0.1,
             "#c51b7d"
            ],
            [
             0.2,
             "#de77ae"
            ],
            [
             0.3,
             "#f1b6da"
            ],
            [
             0.4,
             "#fde0ef"
            ],
            [
             0.5,
             "#f7f7f7"
            ],
            [
             0.6,
             "#e6f5d0"
            ],
            [
             0.7,
             "#b8e186"
            ],
            [
             0.8,
             "#7fbc41"
            ],
            [
             0.9,
             "#4d9221"
            ],
            [
             1,
             "#276419"
            ]
           ],
           "sequential": [
            [
             0,
             "#0d0887"
            ],
            [
             0.1111111111111111,
             "#46039f"
            ],
            [
             0.2222222222222222,
             "#7201a8"
            ],
            [
             0.3333333333333333,
             "#9c179e"
            ],
            [
             0.4444444444444444,
             "#bd3786"
            ],
            [
             0.5555555555555556,
             "#d8576b"
            ],
            [
             0.6666666666666666,
             "#ed7953"
            ],
            [
             0.7777777777777778,
             "#fb9f3a"
            ],
            [
             0.8888888888888888,
             "#fdca26"
            ],
            [
             1,
             "#f0f921"
            ]
           ],
           "sequentialminus": [
            [
             0,
             "#0d0887"
            ],
            [
             0.1111111111111111,
             "#46039f"
            ],
            [
             0.2222222222222222,
             "#7201a8"
            ],
            [
             0.3333333333333333,
             "#9c179e"
            ],
            [
             0.4444444444444444,
             "#bd3786"
            ],
            [
             0.5555555555555556,
             "#d8576b"
            ],
            [
             0.6666666666666666,
             "#ed7953"
            ],
            [
             0.7777777777777778,
             "#fb9f3a"
            ],
            [
             0.8888888888888888,
             "#fdca26"
            ],
            [
             1,
             "#f0f921"
            ]
           ]
          },
          "colorway": [
           "#636efa",
           "#EF553B",
           "#00cc96",
           "#ab63fa",
           "#FFA15A",
           "#19d3f3",
           "#FF6692",
           "#B6E880",
           "#FF97FF",
           "#FECB52"
          ],
          "font": {
           "color": "#2a3f5f"
          },
          "geo": {
           "bgcolor": "white",
           "lakecolor": "white",
           "landcolor": "#E5ECF6",
           "showlakes": true,
           "showland": true,
           "subunitcolor": "white"
          },
          "hoverlabel": {
           "align": "left"
          },
          "hovermode": "closest",
          "mapbox": {
           "style": "light"
          },
          "paper_bgcolor": "white",
          "plot_bgcolor": "#E5ECF6",
          "polar": {
           "angularaxis": {
            "gridcolor": "white",
            "linecolor": "white",
            "ticks": ""
           },
           "bgcolor": "#E5ECF6",
           "radialaxis": {
            "gridcolor": "white",
            "linecolor": "white",
            "ticks": ""
           }
          },
          "scene": {
           "xaxis": {
            "backgroundcolor": "#E5ECF6",
            "gridcolor": "white",
            "gridwidth": 2,
            "linecolor": "white",
            "showbackground": true,
            "ticks": "",
            "zerolinecolor": "white"
           },
           "yaxis": {
            "backgroundcolor": "#E5ECF6",
            "gridcolor": "white",
            "gridwidth": 2,
            "linecolor": "white",
            "showbackground": true,
            "ticks": "",
            "zerolinecolor": "white"
           },
           "zaxis": {
            "backgroundcolor": "#E5ECF6",
            "gridcolor": "white",
            "gridwidth": 2,
            "linecolor": "white",
            "showbackground": true,
            "ticks": "",
            "zerolinecolor": "white"
           }
          },
          "shapedefaults": {
           "line": {
            "color": "#2a3f5f"
           }
          },
          "ternary": {
           "aaxis": {
            "gridcolor": "white",
            "linecolor": "white",
            "ticks": ""
           },
           "baxis": {
            "gridcolor": "white",
            "linecolor": "white",
            "ticks": ""
           },
           "bgcolor": "#E5ECF6",
           "caxis": {
            "gridcolor": "white",
            "linecolor": "white",
            "ticks": ""
           }
          },
          "title": {
           "x": 0.05
          },
          "xaxis": {
           "automargin": true,
           "gridcolor": "white",
           "linecolor": "white",
           "ticks": "",
           "title": {
            "standoff": 15
           },
           "zerolinecolor": "white",
           "zerolinewidth": 2
          },
          "yaxis": {
           "automargin": true,
           "gridcolor": "white",
           "linecolor": "white",
           "ticks": "",
           "title": {
            "standoff": 15
           },
           "zerolinecolor": "white",
           "zerolinewidth": 2
          }
         }
        },
        "title": {
         "text": "Top 10 Genres With more Games"
        },
        "xaxis": {
         "anchor": "y",
         "domain": [
          0,
          1
         ],
         "showticklabels": true,
         "title": {
          "text": "Games Release"
         },
         "visible": true
        },
        "yaxis": {
         "anchor": "x",
         "autorange": "reversed",
         "domain": [
          0,
          1
         ],
         "showticklabels": true,
         "title": {
          "text": ""
         },
         "visible": true
        }
       }
      }
     },
     "metadata": {},
     "output_type": "display_data"
    }
   ],
   "source": [
    "fig = px.bar(x=df_engagement['Engagement'].head(10), \n",
    "             y=df_engagement['Title'].head(10),\n",
    "             title=\"Top 10 Genres With more Games\",\n",
    "             color=genres.sum().sort_values(ascending=False).head(10).index,\n",
    "             color_discrete_sequence=px.colors.qualitative.Pastel,\n",
    "             text=genres.sum().sort_values(ascending=False).head(10))\n",
    "\n",
    "fig.update_layout(hovermode=False)\n",
    "fig.update_yaxes(title='', visible=True, showticklabels=True, autorange=\"reversed\")\n",
    "fig.update_layout(showlegend=False)\n",
    "fig.update_xaxes(title='Games Release', visible=True, showticklabels=True)\n",
    "fig.show()\n"
   ]
  },
  {
   "attachments": {},
   "cell_type": "markdown",
   "metadata": {},
   "source": [
    "Baseado no calculo de engajamento de redes sociais, soma de todas as interações por todas as pessoas que viram a postagem, foi calculado o engajamento dos jogos. Apesar de apenas os jogos com poucos jogadores tenham tido um engajamento alto, o cálculo de engajamento é importante para saber quais jogos recomendar."
   ]
  },
  {
   "attachments": {},
   "cell_type": "markdown",
   "metadata": {},
   "source": [
    "### Conclusion"
   ]
  }
 ],
 "metadata": {
  "kernelspec": {
   "display_name": "venv",
   "language": "python",
   "name": "python3"
  },
  "language_info": {
   "codemirror_mode": {
    "name": "ipython",
    "version": 3
   },
   "file_extension": ".py",
   "mimetype": "text/x-python",
   "name": "python",
   "nbconvert_exporter": "python",
   "pygments_lexer": "ipython3",
   "version": "3.11.3"
  },
  "orig_nbformat": 4
 },
 "nbformat": 4,
 "nbformat_minor": 2
}
